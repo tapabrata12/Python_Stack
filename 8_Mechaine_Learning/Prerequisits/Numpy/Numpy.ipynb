{
  "nbformat": 4,
  "nbformat_minor": 0,
  "metadata": {
    "colab": {
      "provenance": [],
      "collapsed_sections": [
        "1po0aF6DnkW3",
        "thCWO8GFxcgB",
        "NYe50v6UF_0Q",
        "ClZ8w7rxSkIG",
        "aAZ1MPG8_Ndj",
        "uWGGjiqIWYgE",
        "Rcc9pZc_mZvv",
        "AMKcOEg4zo4-",
        "YMkV7H5E6EMP",
        "n6CbwQh2HQAT"
      ]
    },
    "kernelspec": {
      "name": "python3",
      "display_name": "Python 3"
    },
    "language_info": {
      "name": "python"
    }
  },
  "cells": [
    {
      "cell_type": "markdown",
      "source": [
        "# **Numeric Python**"
      ],
      "metadata": {
        "id": "1po0aF6DnkW3"
      }
    },
    {
      "cell_type": "markdown",
      "source": [
        "Before deep diving to the `Numpy` we first have to know why `Numpy`, Lets try to know it with a code."
      ],
      "metadata": {
        "id": "sWQvsLXNyWK-"
      }
    },
    {
      "cell_type": "code",
      "source": [
        "import time\n",
        "\n",
        "n = 10000\n",
        "\n",
        "m1 = [e for e in range(n) for i in range(n)]\n",
        "m2 = [e for e in range(n) for i in range(n)]\n",
        "start = time.time()\n",
        "\n",
        "for i in range(n):\n",
        "  for j in range(n):\n",
        "     m1[i*j] + m2[i*j]\n",
        "\n",
        "end = time.time()\n",
        "print(end - start,)"
      ],
      "metadata": {
        "colab": {
          "base_uri": "https://localhost:8080/"
        },
        "id": "eEKCZB1wruQ_",
        "outputId": "52f04c5b-b8e6-44e6-9ab2-2924b39ea3a2"
      },
      "execution_count": null,
      "outputs": [
        {
          "output_type": "stream",
          "name": "stdout",
          "text": [
            "41.88540315628052 seconds\n"
          ]
        }
      ]
    },
    {
      "cell_type": "markdown",
      "source": [
        "Did you see how long it takes to calculate now I am going to use Numpy array to do the same."
      ],
      "metadata": {
        "id": "cuHCbJzBszDD"
      }
    },
    {
      "cell_type": "markdown",
      "source": [
        "Importing the Library using `import` keyword"
      ],
      "metadata": {
        "id": "svJZ-DKWpoS3"
      }
    },
    {
      "cell_type": "code",
      "source": [
        "import numpy as np"
      ],
      "metadata": {
        "id": "D7zTLr-9nyfX"
      },
      "execution_count": 2,
      "outputs": []
    },
    {
      "cell_type": "code",
      "source": [
        "import time\n",
        "\n",
        "n = 10000\n",
        "\n",
        "m1 = [e for e in range(n) for i in range(n)]\n",
        "m2 = [e for e in range(n) for i in range(n)]\n",
        "\n",
        "start = time.time()\n",
        "\n",
        "# Changing the type of m1 & m2\n",
        "\n",
        "m1 = np.array(m1)\n",
        "m2 = np.array(m2)\n",
        "\n",
        "# You don't need use Loop to add Numpy array\n",
        "\n",
        "m1+m2\n",
        "\n",
        "end = time.time()\n",
        "print(end - start, \"seconds\")"
      ],
      "metadata": {
        "colab": {
          "base_uri": "https://localhost:8080/"
        },
        "id": "GsNPb8UGtaOR",
        "outputId": "418b2646-3d5b-454b-d3eb-f9bc68920c58"
      },
      "execution_count": null,
      "outputs": [
        {
          "output_type": "stream",
          "name": "stdout",
          "text": [
            "8.098480463027954 seconds\n"
          ]
        }
      ]
    },
    {
      "cell_type": "markdown",
      "source": [
        "See the change thats why we use numpy rather that traditional list in python. It gives use more efficiency in handeling large amount of data."
      ],
      "metadata": {
        "id": "Qz438XcmufX_"
      }
    },
    {
      "cell_type": "markdown",
      "source": [
        "Before going to the `array` we are quickly reviceing the `list` cocept in python"
      ],
      "metadata": {
        "id": "ga9ePiYpxKt-"
      }
    },
    {
      "cell_type": "markdown",
      "source": [
        "### **Python List**"
      ],
      "metadata": {
        "id": "thCWO8GFxcgB"
      }
    },
    {
      "cell_type": "markdown",
      "source": [
        "Making a list"
      ],
      "metadata": {
        "id": "eoDh6F2wxjLP"
      }
    },
    {
      "cell_type": "code",
      "source": [
        "l1 = list() # Making a Object of List class\n",
        "l1 # It made me a empty list"
      ],
      "metadata": {
        "colab": {
          "base_uri": "https://localhost:8080/"
        },
        "id": "cBchKFmixl3_",
        "outputId": "e9ce664f-a7ea-4da7-c8cd-fbb4fe442e72"
      },
      "execution_count": null,
      "outputs": [
        {
          "output_type": "execute_result",
          "data": {
            "text/plain": [
              "[]"
            ]
          },
          "metadata": {},
          "execution_count": 7
        }
      ]
    },
    {
      "cell_type": "markdown",
      "source": [
        "Alternate way"
      ],
      "metadata": {
        "id": "8ylpgxNLxq1T"
      }
    },
    {
      "cell_type": "code",
      "source": [
        "l1 = [] # Simply used third brackets\n",
        "l1 # It made me a empty list"
      ],
      "metadata": {
        "colab": {
          "base_uri": "https://localhost:8080/"
        },
        "id": "3QdoRe7axuqr",
        "outputId": "e0a635c4-3ed2-4a7f-8369-1cd43c34e7a2"
      },
      "execution_count": null,
      "outputs": [
        {
          "output_type": "execute_result",
          "data": {
            "text/plain": [
              "[]"
            ]
          },
          "metadata": {},
          "execution_count": 18
        }
      ]
    },
    {
      "cell_type": "markdown",
      "source": [
        "Checking the type with `type()`"
      ],
      "metadata": {
        "id": "H30M0Be9yAYR"
      }
    },
    {
      "cell_type": "code",
      "source": [
        "type(l1)"
      ],
      "metadata": {
        "colab": {
          "base_uri": "https://localhost:8080/"
        },
        "id": "XNY2k1e1yGq6",
        "outputId": "a0cff9e8-3eb9-4841-e612-3147702fd456"
      },
      "execution_count": null,
      "outputs": [
        {
          "output_type": "execute_result",
          "data": {
            "text/plain": [
              "list"
            ]
          },
          "metadata": {},
          "execution_count": 9
        }
      ]
    },
    {
      "cell_type": "markdown",
      "source": [
        "Checking Length of a list using `len()`"
      ],
      "metadata": {
        "id": "Lpm96YJc_Q6d"
      }
    },
    {
      "cell_type": "code",
      "source": [
        "len(l1)"
      ],
      "metadata": {
        "colab": {
          "base_uri": "https://localhost:8080/"
        },
        "id": "dVaxeqzo_Xc2",
        "outputId": "ed6c74e4-694f-40c2-e7b2-1334e9c108a2"
      },
      "execution_count": null,
      "outputs": [
        {
          "output_type": "execute_result",
          "data": {
            "text/plain": [
              "0"
            ]
          },
          "metadata": {},
          "execution_count": 19
        }
      ]
    },
    {
      "cell_type": "markdown",
      "source": [
        "Inserting same values"
      ],
      "metadata": {
        "id": "9MAxq0zj49tW"
      }
    },
    {
      "cell_type": "code",
      "source": [
        "l1 = [1,2,3]\n",
        "l1"
      ],
      "metadata": {
        "colab": {
          "base_uri": "https://localhost:8080/"
        },
        "id": "ffdVIJK-561T",
        "outputId": "25d4d7c2-53e7-49fa-ca8f-8822af274d78"
      },
      "execution_count": null,
      "outputs": [
        {
          "output_type": "execute_result",
          "data": {
            "text/plain": [
              "[1, 2, 3]"
            ]
          },
          "metadata": {},
          "execution_count": 20
        }
      ]
    },
    {
      "cell_type": "code",
      "source": [
        "l2 = ['Tapabrata','Chowdhury']\n",
        "l2"
      ],
      "metadata": {
        "colab": {
          "base_uri": "https://localhost:8080/"
        },
        "id": "lQdPz2AZ7THH",
        "outputId": "da934810-0aa2-4555-b8ce-6d73c7b0ba3f"
      },
      "execution_count": null,
      "outputs": [
        {
          "output_type": "execute_result",
          "data": {
            "text/plain": [
              "['Tapabrata', 'Chowdhury']"
            ]
          },
          "metadata": {},
          "execution_count": 3
        }
      ]
    },
    {
      "cell_type": "markdown",
      "source": [
        "Inserting diffrent datatype values"
      ],
      "metadata": {
        "id": "HmwUlEY87c1N"
      }
    },
    {
      "cell_type": "code",
      "source": [
        "l3 = [1,'Tapabrata',5.66,True,3+4j]\n",
        "l3"
      ],
      "metadata": {
        "colab": {
          "base_uri": "https://localhost:8080/"
        },
        "id": "kxcO39yJ7ix-",
        "outputId": "026fb5f8-cf28-4757-f921-daeca514b357"
      },
      "execution_count": null,
      "outputs": [
        {
          "output_type": "execute_result",
          "data": {
            "text/plain": [
              "[1, 'Tapabrata', 5.66, True, (3+4j)]"
            ]
          },
          "metadata": {},
          "execution_count": 4
        }
      ]
    },
    {
      "cell_type": "markdown",
      "source": [
        "Inserting list in a list"
      ],
      "metadata": {
        "id": "EM2eSyL071mg"
      }
    },
    {
      "cell_type": "code",
      "source": [
        "l4 = [[1,2,3],[5.22,'Tapabrata',False],[3+5j,3,True,'Chowdhury']]\n",
        "l4"
      ],
      "metadata": {
        "colab": {
          "base_uri": "https://localhost:8080/"
        },
        "id": "DSoI_f5Z748I",
        "outputId": "3d9c788a-dcee-4cc9-c276-aaa0cec1067d"
      },
      "execution_count": null,
      "outputs": [
        {
          "output_type": "execute_result",
          "data": {
            "text/plain": [
              "[[1, 2, 3], [5.22, 'Tapabrata', False], [(3+5j), 3, True, 'Chowdhury']]"
            ]
          },
          "metadata": {},
          "execution_count": 5
        }
      ]
    },
    {
      "cell_type": "markdown",
      "source": [
        "Accessing list via index"
      ],
      "metadata": {
        "id": "8W6u8vaZ8PzD"
      }
    },
    {
      "cell_type": "code",
      "source": [
        "l1[1]"
      ],
      "metadata": {
        "colab": {
          "base_uri": "https://localhost:8080/"
        },
        "id": "WxOi1dSL8Vor",
        "outputId": "fdde24e3-ac8b-40b8-af39-899d28913edc"
      },
      "execution_count": null,
      "outputs": [
        {
          "output_type": "execute_result",
          "data": {
            "text/plain": [
              "2"
            ]
          },
          "metadata": {},
          "execution_count": 6
        }
      ]
    },
    {
      "cell_type": "code",
      "source": [
        "l2[2] # Means if we try to access a which is out of his indices it will throw error"
      ],
      "metadata": {
        "colab": {
          "base_uri": "https://localhost:8080/",
          "height": 141
        },
        "id": "GU-RhMaj8Y_r",
        "outputId": "151a0109-43ee-4ca6-8d24-cb20ce6469df"
      },
      "execution_count": null,
      "outputs": [
        {
          "output_type": "error",
          "ename": "IndexError",
          "evalue": "list index out of range",
          "traceback": [
            "\u001b[0;31m---------------------------------------------------------------------------\u001b[0m",
            "\u001b[0;31mIndexError\u001b[0m                                Traceback (most recent call last)",
            "\u001b[0;32m<ipython-input-9-467fc8fddbc1>\u001b[0m in \u001b[0;36m<cell line: 0>\u001b[0;34m()\u001b[0m\n\u001b[0;32m----> 1\u001b[0;31m \u001b[0ml2\u001b[0m\u001b[0;34m[\u001b[0m\u001b[0;36m2\u001b[0m\u001b[0;34m]\u001b[0m\u001b[0;34m\u001b[0m\u001b[0;34m\u001b[0m\u001b[0m\n\u001b[0m",
            "\u001b[0;31mIndexError\u001b[0m: list index out of range"
          ]
        }
      ]
    },
    {
      "cell_type": "code",
      "source": [
        "l4[0]"
      ],
      "metadata": {
        "colab": {
          "base_uri": "https://localhost:8080/"
        },
        "id": "o_AaVu-E83ZW",
        "outputId": "6fd56769-6cd2-49d6-ec1b-967cc3f166f8"
      },
      "execution_count": null,
      "outputs": [
        {
          "output_type": "execute_result",
          "data": {
            "text/plain": [
              "[1, 2, 3]"
            ]
          },
          "metadata": {},
          "execution_count": 10
        }
      ]
    },
    {
      "cell_type": "code",
      "source": [
        "l4[0][0] # That means go to the first list and in that list go to the first value of first inner list"
      ],
      "metadata": {
        "colab": {
          "base_uri": "https://localhost:8080/"
        },
        "id": "huqUeuXR9ByX",
        "outputId": "ce496575-32f9-436e-e6ec-6a4738c14439"
      },
      "execution_count": null,
      "outputs": [
        {
          "output_type": "execute_result",
          "data": {
            "text/plain": [
              "1"
            ]
          },
          "metadata": {},
          "execution_count": 11
        }
      ]
    },
    {
      "cell_type": "code",
      "source": [
        "l4[1][2]"
      ],
      "metadata": {
        "colab": {
          "base_uri": "https://localhost:8080/"
        },
        "id": "JcpUxOiI9kL-",
        "outputId": "093c4fc6-e4b5-471a-c47e-36bc733960d2"
      },
      "execution_count": null,
      "outputs": [
        {
          "output_type": "execute_result",
          "data": {
            "text/plain": [
              "False"
            ]
          },
          "metadata": {},
          "execution_count": 12
        }
      ]
    },
    {
      "cell_type": "markdown",
      "source": [
        "As list is itterable thing so we can use `for` loop"
      ],
      "metadata": {
        "id": "YOreQJdk9yDk"
      }
    },
    {
      "cell_type": "code",
      "source": [
        "for i in l3:\n",
        "  print(i)"
      ],
      "metadata": {
        "colab": {
          "base_uri": "https://localhost:8080/"
        },
        "id": "BITMsNKv971-",
        "outputId": "1b292957-1576-4539-a34c-2d11dd6ee871"
      },
      "execution_count": null,
      "outputs": [
        {
          "output_type": "stream",
          "name": "stdout",
          "text": [
            "1\n",
            "Tapabrata\n",
            "5.66\n",
            "True\n",
            "(3+4j)\n"
          ]
        }
      ]
    },
    {
      "cell_type": "markdown",
      "source": [
        "We can insert new values in list using `appened()`"
      ],
      "metadata": {
        "id": "A-EVfNtJ-VJQ"
      }
    },
    {
      "cell_type": "code",
      "source": [
        "l3.append('New Value')\n",
        "l3"
      ],
      "metadata": {
        "colab": {
          "base_uri": "https://localhost:8080/"
        },
        "id": "IbtPAh2Q-jhh",
        "outputId": "034df9ea-d9a5-474c-9ace-6eccd7cbf04c"
      },
      "execution_count": null,
      "outputs": [
        {
          "output_type": "execute_result",
          "data": {
            "text/plain": [
              "[1, 'Tapabrata', 5.66, True, (3+4j), 'New Value']"
            ]
          },
          "metadata": {},
          "execution_count": 15
        }
      ]
    },
    {
      "cell_type": "markdown",
      "source": [
        "Inserting at spacific location"
      ],
      "metadata": {
        "id": "iDaqyitf-wMr"
      }
    },
    {
      "cell_type": "code",
      "source": [
        "l4.insert(1,'New Value')\n",
        "l4"
      ],
      "metadata": {
        "colab": {
          "base_uri": "https://localhost:8080/"
        },
        "id": "7ht0PuTk-1oV",
        "outputId": "13021eac-1057-4825-b4d8-52bc4fb66b9a"
      },
      "execution_count": null,
      "outputs": [
        {
          "output_type": "execute_result",
          "data": {
            "text/plain": [
              "[[1, 2, 3],\n",
              " 'New Value',\n",
              " [5.22, 'Tapabrata', False],\n",
              " [(3+5j), 3, True, 'Chowdhury']]"
            ]
          },
          "metadata": {},
          "execution_count": 16
        }
      ]
    },
    {
      "cell_type": "markdown",
      "source": [
        "## **Python Array**"
      ],
      "metadata": {
        "id": "NYe50v6UF_0Q"
      }
    },
    {
      "cell_type": "code",
      "source": [
        "import array as ar"
      ],
      "metadata": {
        "id": "rQveHhYkGHsL"
      },
      "execution_count": null,
      "outputs": []
    },
    {
      "cell_type": "markdown",
      "source": [
        "Unlike `list()` Inline code python stores homogenious data and you have to mension the dtype first before inserting, it only supports one dimention arrays"
      ],
      "metadata": {
        "id": "g3aDLuxWGT4j"
      }
    },
    {
      "cell_type": "code",
      "source": [
        "arr = ar.array('i',[1,2,3,4,5]) # 'i' Refers as integer datatype\n",
        "arr"
      ],
      "metadata": {
        "colab": {
          "base_uri": "https://localhost:8080/"
        },
        "id": "4QIepoM6GPKy",
        "outputId": "8ddc1e4f-3ba4-4dd6-f57a-bc5944f85a7a"
      },
      "execution_count": null,
      "outputs": [
        {
          "output_type": "execute_result",
          "data": {
            "text/plain": [
              "array('i', [1, 2, 3, 4, 5])"
            ]
          },
          "metadata": {},
          "execution_count": 48
        }
      ]
    },
    {
      "cell_type": "markdown",
      "source": [
        "Accessing members using indexes"
      ],
      "metadata": {
        "id": "W9BP6xFlMnVi"
      }
    },
    {
      "cell_type": "code",
      "source": [
        "arr[0]"
      ],
      "metadata": {
        "colab": {
          "base_uri": "https://localhost:8080/"
        },
        "id": "T5-LL5lAMspJ",
        "outputId": "4e7fa4e0-3c55-40b4-d2b4-d16820b25905"
      },
      "execution_count": null,
      "outputs": [
        {
          "output_type": "execute_result",
          "data": {
            "text/plain": [
              "1"
            ]
          },
          "metadata": {},
          "execution_count": 28
        }
      ]
    },
    {
      "cell_type": "code",
      "source": [
        "arr[3]"
      ],
      "metadata": {
        "colab": {
          "base_uri": "https://localhost:8080/"
        },
        "id": "F0j3HTrUMy6r",
        "outputId": "47f0f580-2ae2-4ac3-976b-14149ed8aa81"
      },
      "execution_count": null,
      "outputs": [
        {
          "output_type": "execute_result",
          "data": {
            "text/plain": [
              "4"
            ]
          },
          "metadata": {},
          "execution_count": 27
        }
      ]
    },
    {
      "cell_type": "markdown",
      "source": [
        "Using negetive indexes"
      ],
      "metadata": {
        "id": "DsEQKPWQM2BK"
      }
    },
    {
      "cell_type": "code",
      "source": [
        "arr[-2]"
      ],
      "metadata": {
        "colab": {
          "base_uri": "https://localhost:8080/"
        },
        "id": "QHRWOINgM5hU",
        "outputId": "043a0f53-138b-4aa5-afb4-2716fa385d2f"
      },
      "execution_count": null,
      "outputs": [
        {
          "output_type": "execute_result",
          "data": {
            "text/plain": [
              "4"
            ]
          },
          "metadata": {},
          "execution_count": 29
        }
      ]
    },
    {
      "cell_type": "code",
      "source": [
        "arr[-1]"
      ],
      "metadata": {
        "colab": {
          "base_uri": "https://localhost:8080/"
        },
        "id": "1MIxpzDJM8nz",
        "outputId": "4d01c5f1-c23b-427c-b940-50c8955c7607"
      },
      "execution_count": null,
      "outputs": [
        {
          "output_type": "execute_result",
          "data": {
            "text/plain": [
              "5"
            ]
          },
          "metadata": {},
          "execution_count": 30
        }
      ]
    },
    {
      "cell_type": "markdown",
      "source": [
        "Inserting values"
      ],
      "metadata": {
        "id": "SnKzhHweNCV7"
      }
    },
    {
      "cell_type": "code",
      "source": [
        "arr.insert(3,0)\n",
        "arr"
      ],
      "metadata": {
        "colab": {
          "base_uri": "https://localhost:8080/"
        },
        "id": "pRIBeB_9NFFE",
        "outputId": "a14e5854-d1db-4d51-f5fc-72b401636113"
      },
      "execution_count": null,
      "outputs": [
        {
          "output_type": "execute_result",
          "data": {
            "text/plain": [
              "array('i', [1, 2, 3, 0, 4, 5])"
            ]
          },
          "metadata": {},
          "execution_count": 49
        }
      ]
    },
    {
      "cell_type": "code",
      "source": [
        "arr.append(15)\n",
        "arr"
      ],
      "metadata": {
        "colab": {
          "base_uri": "https://localhost:8080/"
        },
        "id": "P2_bRpB_NKDE",
        "outputId": "9b12519b-96ab-4d28-8be4-0d9bc2fce643"
      },
      "execution_count": null,
      "outputs": [
        {
          "output_type": "execute_result",
          "data": {
            "text/plain": [
              "array('i', [1, 2, 3, 0, 4, 5, 15])"
            ]
          },
          "metadata": {},
          "execution_count": 50
        }
      ]
    },
    {
      "cell_type": "markdown",
      "source": [
        "Deleting values using `del ` keyword"
      ],
      "metadata": {
        "id": "vKRDae9aNene"
      }
    },
    {
      "cell_type": "code",
      "source": [
        "del arr[3]\n",
        "arr"
      ],
      "metadata": {
        "colab": {
          "base_uri": "https://localhost:8080/"
        },
        "id": "2zj6kAKiNmPP",
        "outputId": "f1edabd8-492d-46d6-bf47-dfc0b70ec284"
      },
      "execution_count": null,
      "outputs": [
        {
          "output_type": "execute_result",
          "data": {
            "text/plain": [
              "array('i', [1, 2, 3, 4, 5, 15])"
            ]
          },
          "metadata": {},
          "execution_count": 51
        }
      ]
    },
    {
      "cell_type": "markdown",
      "source": [
        "Using `pop()`"
      ],
      "metadata": {
        "id": "JgUlrcm6N2zb"
      }
    },
    {
      "cell_type": "code",
      "source": [
        "arr.pop()\n",
        "arr"
      ],
      "metadata": {
        "colab": {
          "base_uri": "https://localhost:8080/"
        },
        "id": "znO9impoN5fM",
        "outputId": "0662ebb0-94fc-4f97-c5d0-76e55b5b6c87"
      },
      "execution_count": null,
      "outputs": [
        {
          "output_type": "execute_result",
          "data": {
            "text/plain": [
              "array('i', [1, 2, 3, 4, 5])"
            ]
          },
          "metadata": {},
          "execution_count": 52
        }
      ]
    },
    {
      "cell_type": "code",
      "source": [
        "arr.pop(0)\n",
        "arr"
      ],
      "metadata": {
        "colab": {
          "base_uri": "https://localhost:8080/"
        },
        "id": "Q-Cl3vHlN90U",
        "outputId": "075a8180-2672-4943-fa3c-de051f0a2957"
      },
      "execution_count": null,
      "outputs": [
        {
          "output_type": "execute_result",
          "data": {
            "text/plain": [
              "array('i', [2, 3, 4, 5])"
            ]
          },
          "metadata": {},
          "execution_count": 53
        }
      ]
    },
    {
      "cell_type": "markdown",
      "source": [
        "Using `remove()` insted of giving index we have to give value"
      ],
      "metadata": {
        "id": "_2N4zc_lOIUr"
      }
    },
    {
      "cell_type": "code",
      "source": [
        "arr.remove(3) # This is value not Index\n",
        "arr"
      ],
      "metadata": {
        "colab": {
          "base_uri": "https://localhost:8080/"
        },
        "id": "Ypwe8tsLORYD",
        "outputId": "69fa6152-fc2c-4c5b-8384-4ca59ebb7864"
      },
      "execution_count": null,
      "outputs": [
        {
          "output_type": "execute_result",
          "data": {
            "text/plain": [
              "array('i', [2, 4, 5])"
            ]
          },
          "metadata": {},
          "execution_count": 54
        }
      ]
    },
    {
      "cell_type": "markdown",
      "source": [
        "Printing only values with `*` Keyword"
      ],
      "metadata": {
        "id": "soOiNl0POvfv"
      }
    },
    {
      "cell_type": "code",
      "source": [
        "print(*arr)"
      ],
      "metadata": {
        "colab": {
          "base_uri": "https://localhost:8080/"
        },
        "id": "fNFSWejYO4BK",
        "outputId": "2c29851a-9380-4405-de6e-b5dff3ce0039"
      },
      "execution_count": null,
      "outputs": [
        {
          "output_type": "stream",
          "name": "stdout",
          "text": [
            "2 4 5\n"
          ]
        }
      ]
    },
    {
      "cell_type": "markdown",
      "source": [
        "### **Slicing**"
      ],
      "metadata": {
        "id": "nwnN2eHYPN5R"
      }
    },
    {
      "cell_type": "markdown",
      "source": [
        "We do slicing just as list with `[:]` this and `[::]` this,"
      ],
      "metadata": {
        "id": "kot4PYTbPTC6"
      }
    },
    {
      "cell_type": "code",
      "source": [
        "arr2 = ar.array('i',[1,2,3,4,5,6,7,8,9,10])\n",
        "arr2"
      ],
      "metadata": {
        "colab": {
          "base_uri": "https://localhost:8080/"
        },
        "id": "di1-nLEUPb7i",
        "outputId": "3ebd28df-e1f2-4479-b6d4-caf2176394ff"
      },
      "execution_count": null,
      "outputs": [
        {
          "output_type": "execute_result",
          "data": {
            "text/plain": [
              "array('i', [1, 2, 3, 4, 5, 6, 7, 8, 9, 10])"
            ]
          },
          "metadata": {},
          "execution_count": 56
        }
      ]
    },
    {
      "cell_type": "code",
      "source": [
        "arr2[::]"
      ],
      "metadata": {
        "colab": {
          "base_uri": "https://localhost:8080/"
        },
        "id": "62pL5qguPfZj",
        "outputId": "13f5b855-e5d6-403f-a2ee-2b85310694d9"
      },
      "execution_count": null,
      "outputs": [
        {
          "output_type": "execute_result",
          "data": {
            "text/plain": [
              "array('i', [1, 2, 3, 4, 5, 6, 7, 8, 9, 10])"
            ]
          },
          "metadata": {},
          "execution_count": 57
        }
      ]
    },
    {
      "cell_type": "markdown",
      "source": [
        "- One thing is that after that single colon if you the value `x` then the slicing will go to `x-1`"
      ],
      "metadata": {
        "id": "heBaAHs0QRNo"
      }
    },
    {
      "cell_type": "code",
      "source": [
        "arr2[1:3] # It will go upto index 2 [3-1]"
      ],
      "metadata": {
        "colab": {
          "base_uri": "https://localhost:8080/"
        },
        "id": "vnNhQLDQQKi3",
        "outputId": "45466e7e-3b5a-4435-c6bd-8c5711d0a89e"
      },
      "execution_count": null,
      "outputs": [
        {
          "output_type": "execute_result",
          "data": {
            "text/plain": [
              "array('i', [2, 3])"
            ]
          },
          "metadata": {},
          "execution_count": 59
        }
      ]
    },
    {
      "cell_type": "code",
      "source": [
        "arr2[1:6:2] # Start from 1 end in 5 and step every 2 numbers"
      ],
      "metadata": {
        "colab": {
          "base_uri": "https://localhost:8080/"
        },
        "id": "L42DT7QiQ_lE",
        "outputId": "a478bb4c-6940-4aec-ef96-90100fb8d21c"
      },
      "execution_count": null,
      "outputs": [
        {
          "output_type": "execute_result",
          "data": {
            "text/plain": [
              "array('i', [2, 4, 6])"
            ]
          },
          "metadata": {},
          "execution_count": 60
        }
      ]
    },
    {
      "cell_type": "markdown",
      "source": [
        "- **Negetive Slicing**"
      ],
      "metadata": {
        "id": "7PIP_R9sRkBA"
      }
    },
    {
      "cell_type": "code",
      "source": [
        "arr2[::-1] # Reversing the array"
      ],
      "metadata": {
        "colab": {
          "base_uri": "https://localhost:8080/"
        },
        "id": "DywbqVDkSGML",
        "outputId": "514283ac-0ebd-4019-fdce-1e79e2bccb79"
      },
      "execution_count": null,
      "outputs": [
        {
          "output_type": "execute_result",
          "data": {
            "text/plain": [
              "array('i', [10, 9, 8, 7, 6, 5, 4, 3, 2, 1])"
            ]
          },
          "metadata": {},
          "execution_count": 65
        }
      ]
    },
    {
      "cell_type": "code",
      "source": [
        "arr2[-4:-1] # Accessing elements from index -4 to -2"
      ],
      "metadata": {
        "colab": {
          "base_uri": "https://localhost:8080/"
        },
        "id": "Mdjf0Mw8SKcG",
        "outputId": "0be08d81-2a5e-4dd4-b6e0-79d87f621605"
      },
      "execution_count": null,
      "outputs": [
        {
          "output_type": "execute_result",
          "data": {
            "text/plain": [
              "array('i', [7, 8, 9])"
            ]
          },
          "metadata": {},
          "execution_count": 66
        }
      ]
    },
    {
      "cell_type": "code",
      "source": [
        "arr2[-5:] # Accessing elements from index -5 to the end"
      ],
      "metadata": {
        "colab": {
          "base_uri": "https://localhost:8080/"
        },
        "id": "iB3nL8p7SQWV",
        "outputId": "69af55af-b679-4b6e-de57-95902308d418"
      },
      "execution_count": null,
      "outputs": [
        {
          "output_type": "execute_result",
          "data": {
            "text/plain": [
              "array('i', [6, 7, 8, 9, 10])"
            ]
          },
          "metadata": {},
          "execution_count": 67
        }
      ]
    },
    {
      "cell_type": "code",
      "source": [
        "arr2[:-2] # Accessing elements from the beginning to index -3"
      ],
      "metadata": {
        "colab": {
          "base_uri": "https://localhost:8080/"
        },
        "id": "diVAmkucSSzt",
        "outputId": "6c5f4df7-a84d-49a1-c259-130f7f2285ee"
      },
      "execution_count": null,
      "outputs": [
        {
          "output_type": "execute_result",
          "data": {
            "text/plain": [
              "array('i', [1, 2, 3, 4, 5, 6, 7, 8])"
            ]
          },
          "metadata": {},
          "execution_count": 68
        }
      ]
    },
    {
      "cell_type": "code",
      "source": [
        "arr2[-4:-1:2] # Accessing elements from index -4 to -2 with a step of 2"
      ],
      "metadata": {
        "colab": {
          "base_uri": "https://localhost:8080/"
        },
        "id": "u3s1PzaySVEH",
        "outputId": "a37d43c9-1338-4369-947c-99350249e6da"
      },
      "execution_count": null,
      "outputs": [
        {
          "output_type": "execute_result",
          "data": {
            "text/plain": [
              "array('i', [7, 9])"
            ]
          },
          "metadata": {},
          "execution_count": 69
        }
      ]
    },
    {
      "cell_type": "markdown",
      "source": [
        "# **Numpy Basics**"
      ],
      "metadata": {
        "id": "ClZ8w7rxSkIG"
      }
    },
    {
      "cell_type": "markdown",
      "source": [
        "NumPy is the fundamental package for scientific computing in Python. It is a Python library that provides a multidimensional array object, various derived objects (such as masked arrays and matrices), and an assortment of routines for fast operations on arrays, including mathematical, logical, shape manipulation, sorting, selecting, I/O, discrete Fourier transforms, basic linear algebra, basic statistical operations, random simulation and much more."
      ],
      "metadata": {
        "id": "ZeQYYYq7xxEE"
      }
    },
    {
      "cell_type": "code",
      "source": [
        "import numpy as np"
      ],
      "metadata": {
        "id": "ZVSrNVcs0OKN"
      },
      "execution_count": null,
      "outputs": []
    },
    {
      "cell_type": "code",
      "source": [
        "ndarray = np.array([1,2,3,4,5])\n",
        "ndarray"
      ],
      "metadata": {
        "colab": {
          "base_uri": "https://localhost:8080/"
        },
        "id": "LiOra57z0930",
        "outputId": "9dcb2ad7-f7af-4ccd-ab8f-5db465d00d3f"
      },
      "execution_count": null,
      "outputs": [
        {
          "output_type": "execute_result",
          "data": {
            "text/plain": [
              "array([1, 2, 3, 4, 5])"
            ]
          },
          "metadata": {},
          "execution_count": 4
        }
      ]
    },
    {
      "cell_type": "markdown",
      "source": [
        "In the array we have a limitaion that we can't input more than 1-D Array, But here we can input N-dimension array also it is homogenoous in type."
      ],
      "metadata": {
        "id": "mSAIp1hg0aGL"
      }
    },
    {
      "cell_type": "code",
      "source": [
        "type(ndarray)"
      ],
      "metadata": {
        "colab": {
          "base_uri": "https://localhost:8080/"
        },
        "id": "V8jw5LxO1WCB",
        "outputId": "3f1574b5-7b97-48aa-e393-75f6a5eae420"
      },
      "execution_count": null,
      "outputs": [
        {
          "output_type": "execute_result",
          "data": {
            "text/plain": [
              "numpy.ndarray"
            ]
          },
          "metadata": {},
          "execution_count": 5
        }
      ]
    },
    {
      "cell_type": "markdown",
      "source": [
        "## **Array Dimensions**"
      ],
      "metadata": {
        "id": "gD9EXGjL2epF"
      }
    },
    {
      "cell_type": "markdown",
      "source": [
        "Now we are going to make multiple dimension arrays."
      ],
      "metadata": {
        "id": "gBTa6Nba2urO"
      }
    },
    {
      "cell_type": "markdown",
      "source": [
        "Zero Dimension Array"
      ],
      "metadata": {
        "id": "fWFRtd2p218P"
      }
    },
    {
      "cell_type": "code",
      "source": [
        "ndarray0 = np.array(1) # Contains only one element called Zero dimensional array\n",
        "ndarray0"
      ],
      "metadata": {
        "colab": {
          "base_uri": "https://localhost:8080/"
        },
        "id": "iJdBt2Ib268J",
        "outputId": "683b7eb3-c808-49cf-a42c-b5d00aa931bc"
      },
      "execution_count": null,
      "outputs": [
        {
          "output_type": "execute_result",
          "data": {
            "text/plain": [
              "array(1)"
            ]
          },
          "metadata": {},
          "execution_count": 7
        }
      ]
    },
    {
      "cell_type": "markdown",
      "source": [
        "We will also use `ndim` attribute to calculate it's dimension."
      ],
      "metadata": {
        "id": "S9ECMYYu3ia_"
      }
    },
    {
      "cell_type": "code",
      "source": [
        "ndarray0.ndim # Returns the dimension number in this case it is Zero"
      ],
      "metadata": {
        "colab": {
          "base_uri": "https://localhost:8080/"
        },
        "id": "WwWxsKA13oNw",
        "outputId": "a737cbf8-fd5e-4ada-dcc4-c30b12f0bf82"
      },
      "execution_count": null,
      "outputs": [
        {
          "output_type": "execute_result",
          "data": {
            "text/plain": [
              "0"
            ]
          },
          "metadata": {},
          "execution_count": 8
        }
      ]
    },
    {
      "cell_type": "markdown",
      "source": [
        "One dimensional array"
      ],
      "metadata": {
        "id": "JmRWseAG4G_M"
      }
    },
    {
      "cell_type": "code",
      "source": [
        "ndarray1 = np.array([1,2,3,4,5]) # Contains a list elements called One dimensional array\n",
        "ndarray1"
      ],
      "metadata": {
        "colab": {
          "base_uri": "https://localhost:8080/"
        },
        "id": "Nhrdur344TNu",
        "outputId": "ff85e54a-51e8-4d5f-cc9f-87c9dad06f18"
      },
      "execution_count": null,
      "outputs": [
        {
          "output_type": "execute_result",
          "data": {
            "text/plain": [
              "array([1, 2, 3, 4, 5])"
            ]
          },
          "metadata": {},
          "execution_count": 9
        }
      ]
    },
    {
      "cell_type": "code",
      "source": [
        "ndarray1.ndim"
      ],
      "metadata": {
        "colab": {
          "base_uri": "https://localhost:8080/"
        },
        "id": "k1Xylk6F4eUQ",
        "outputId": "533bc046-4b34-4912-fe6a-3ab7b357a4bb"
      },
      "execution_count": null,
      "outputs": [
        {
          "output_type": "execute_result",
          "data": {
            "text/plain": [
              "1"
            ]
          },
          "metadata": {},
          "execution_count": 10
        }
      ]
    },
    {
      "cell_type": "markdown",
      "source": [
        "Two dimensional Array"
      ],
      "metadata": {
        "id": "Vqk_5KEW40q1"
      }
    },
    {
      "cell_type": "code",
      "source": [
        "ndarray2 = np.array([[1, 2, 3], [4, 5, 6]]) # As it contains two lists of values thats why it is Two dimensional array\n",
        "ndarray2"
      ],
      "metadata": {
        "colab": {
          "base_uri": "https://localhost:8080/"
        },
        "id": "LwKn7DV544vM",
        "outputId": "082af2d3-b534-4564-a6d2-5a75a5d60d3c"
      },
      "execution_count": null,
      "outputs": [
        {
          "output_type": "execute_result",
          "data": {
            "text/plain": [
              "array([[1, 2, 3],\n",
              "       [4, 5, 6]])"
            ]
          },
          "metadata": {},
          "execution_count": 11
        }
      ]
    },
    {
      "cell_type": "code",
      "source": [
        "ndarray2.ndim"
      ],
      "metadata": {
        "colab": {
          "base_uri": "https://localhost:8080/"
        },
        "id": "QAF3n2oc5XfO",
        "outputId": "f9a0f09e-1e36-4dc8-e2aa-7e2a239426ec"
      },
      "execution_count": null,
      "outputs": [
        {
          "output_type": "execute_result",
          "data": {
            "text/plain": [
              "2"
            ]
          },
          "metadata": {},
          "execution_count": 12
        }
      ]
    },
    {
      "cell_type": "markdown",
      "source": [
        "**Homoginity Test**"
      ],
      "metadata": {
        "id": "SrwuRkpR5hi_"
      }
    },
    {
      "cell_type": "markdown",
      "source": [
        "We know that if we have to put the values with same dtype, Lets test it with some experiment."
      ],
      "metadata": {
        "id": "1rpjEfLL5rCt"
      }
    },
    {
      "cell_type": "code",
      "source": [
        "a = np.array([[1,2,3],['4','5','6']]) # We are trying to create a array with one list full of integers and one with full of Strings\n",
        "a"
      ],
      "metadata": {
        "colab": {
          "base_uri": "https://localhost:8080/"
        },
        "id": "8mI8ikj76Hjp",
        "outputId": "546882fd-3b5c-4a9e-f695-04726d034b02"
      },
      "execution_count": null,
      "outputs": [
        {
          "output_type": "execute_result",
          "data": {
            "text/plain": [
              "array([['1', '2', '3'],\n",
              "       ['4', '5', '6']], dtype='<U21')"
            ]
          },
          "metadata": {},
          "execution_count": 15
        }
      ]
    },
    {
      "cell_type": "markdown",
      "source": [
        "Now if we closely It converted all numbers in Strings to maintain Homoginity"
      ],
      "metadata": {
        "id": "d9r5tzZx60rb"
      }
    },
    {
      "cell_type": "markdown",
      "source": [
        "Lets do another test."
      ],
      "metadata": {
        "id": "btknWD2P7LLC"
      }
    },
    {
      "cell_type": "code",
      "source": [
        "a = np.array([[1,2,3],[4,5,6,7]])\n",
        "a"
      ],
      "metadata": {
        "colab": {
          "base_uri": "https://localhost:8080/",
          "height": 159
        },
        "id": "vMQkK7tU7P5q",
        "outputId": "2c93a5a6-2f0b-4634-a7cd-309a17fd36d1"
      },
      "execution_count": null,
      "outputs": [
        {
          "output_type": "error",
          "ename": "ValueError",
          "evalue": "setting an array element with a sequence. The requested array has an inhomogeneous shape after 1 dimensions. The detected shape was (2,) + inhomogeneous part.",
          "traceback": [
            "\u001b[0;31m---------------------------------------------------------------------------\u001b[0m",
            "\u001b[0;31mValueError\u001b[0m                                Traceback (most recent call last)",
            "\u001b[0;32m<ipython-input-16-9750a74dc363>\u001b[0m in \u001b[0;36m<cell line: 0>\u001b[0;34m()\u001b[0m\n\u001b[0;32m----> 1\u001b[0;31m \u001b[0ma\u001b[0m \u001b[0;34m=\u001b[0m \u001b[0mnp\u001b[0m\u001b[0;34m.\u001b[0m\u001b[0marray\u001b[0m\u001b[0;34m(\u001b[0m\u001b[0;34m[\u001b[0m\u001b[0;34m[\u001b[0m\u001b[0;36m1\u001b[0m\u001b[0;34m,\u001b[0m\u001b[0;36m2\u001b[0m\u001b[0;34m,\u001b[0m\u001b[0;36m3\u001b[0m\u001b[0;34m]\u001b[0m\u001b[0;34m,\u001b[0m\u001b[0;34m[\u001b[0m\u001b[0;36m4\u001b[0m\u001b[0;34m,\u001b[0m\u001b[0;36m5\u001b[0m\u001b[0;34m,\u001b[0m\u001b[0;36m6\u001b[0m\u001b[0;34m,\u001b[0m\u001b[0;36m7\u001b[0m\u001b[0;34m]\u001b[0m\u001b[0;34m]\u001b[0m\u001b[0;34m)\u001b[0m\u001b[0;34m\u001b[0m\u001b[0;34m\u001b[0m\u001b[0m\n\u001b[0m\u001b[1;32m      2\u001b[0m \u001b[0ma\u001b[0m\u001b[0;34m\u001b[0m\u001b[0;34m\u001b[0m\u001b[0m\n",
            "\u001b[0;31mValueError\u001b[0m: setting an array element with a sequence. The requested array has an inhomogeneous shape after 1 dimensions. The detected shape was (2,) + inhomogeneous part."
          ]
        }
      ]
    },
    {
      "cell_type": "markdown",
      "source": [
        "Now you cann see the error that tells *'inhomogeneous shape after 1 dimensions'*"
      ],
      "metadata": {
        "id": "4w2H-VtC7aHC"
      }
    },
    {
      "cell_type": "code",
      "source": [
        "a = np.array([[1,2,3],[4,6.55,7.55]])\n",
        "a"
      ],
      "metadata": {
        "colab": {
          "base_uri": "https://localhost:8080/"
        },
        "id": "Qt22iuxA7oq_",
        "outputId": "ee8d3541-cea7-4d51-96ad-68c383423439"
      },
      "execution_count": null,
      "outputs": [
        {
          "output_type": "execute_result",
          "data": {
            "text/plain": [
              "array([[1.  , 2.  , 3.  ],\n",
              "       [4.  , 6.55, 7.55]])"
            ]
          },
          "metadata": {},
          "execution_count": 18
        }
      ]
    },
    {
      "cell_type": "markdown",
      "source": [
        "Same as the previous it converts all the numbers in to floating point values."
      ],
      "metadata": {
        "id": "P6gQ_BUG7y8B"
      }
    },
    {
      "cell_type": "markdown",
      "source": [
        "Three Diensional Array"
      ],
      "metadata": {
        "id": "Cdb8qoay91fw"
      }
    },
    {
      "cell_type": "code",
      "source": [
        "ndarray3 = np.array([[[1, 2, 3], [4, 5, 6]], [[1, 2, 3], [4, 5, 6]]]) # As it contains two two dimensional lists of values or we can say it matrices thats why it is Three dimensional array\n",
        "ndarray3"
      ],
      "metadata": {
        "colab": {
          "base_uri": "https://localhost:8080/"
        },
        "id": "-ch5Nc3c97jd",
        "outputId": "e9e2660a-a825-4029-eeab-7ba03a77a33f"
      },
      "execution_count": null,
      "outputs": [
        {
          "output_type": "execute_result",
          "data": {
            "text/plain": [
              "array([[[1, 2, 3],\n",
              "        [4, 5, 6]],\n",
              "\n",
              "       [[1, 2, 3],\n",
              "        [4, 5, 6]]])"
            ]
          },
          "metadata": {},
          "execution_count": 19
        }
      ]
    },
    {
      "cell_type": "code",
      "source": [
        "ndarray3.ndim"
      ],
      "metadata": {
        "colab": {
          "base_uri": "https://localhost:8080/"
        },
        "id": "EjnwBN53-Vsw",
        "outputId": "474df73c-dc77-4c7f-f641-4af208df77fe"
      },
      "execution_count": null,
      "outputs": [
        {
          "output_type": "execute_result",
          "data": {
            "text/plain": [
              "3"
            ]
          },
          "metadata": {},
          "execution_count": 20
        }
      ]
    },
    {
      "cell_type": "markdown",
      "source": [
        "We can create as much dimensional as posssible but for human mind it seems to be difficult to visualize more than 3-D"
      ],
      "metadata": {
        "id": "_gPKXqH5-9RO"
      }
    },
    {
      "cell_type": "markdown",
      "source": [
        "# **Array Attributes**"
      ],
      "metadata": {
        "id": "aAZ1MPG8_Ndj"
      }
    },
    {
      "cell_type": "markdown",
      "source": [
        "- `dtype` : Need to indentify the datatype of a array. [Click to know more about dtype](https:/numpy.org/doc/2.1/reference/arrays.dtypes.html)"
      ],
      "metadata": {
        "id": "Frxve6GkAHwr"
      }
    },
    {
      "cell_type": "code",
      "source": [
        "x = np.array([1,2,3,4])\n",
        "x.dtype"
      ],
      "metadata": {
        "colab": {
          "base_uri": "https://localhost:8080/"
        },
        "id": "SVBOiwwzAUYQ",
        "outputId": "a634d685-fd6c-4b4a-82a3-39df82da4c06"
      },
      "execution_count": null,
      "outputs": [
        {
          "output_type": "execute_result",
          "data": {
            "text/plain": [
              "dtype('int64')"
            ]
          },
          "metadata": {},
          "execution_count": 4
        }
      ]
    },
    {
      "cell_type": "markdown",
      "source": [
        "We can change data types also usng this attribute while declaring array"
      ],
      "metadata": {
        "id": "u3A0yqJtB8xA"
      }
    },
    {
      "cell_type": "code",
      "source": [
        "y = np.array([2,5,8], dtype=np.float32)\n",
        "y"
      ],
      "metadata": {
        "colab": {
          "base_uri": "https://localhost:8080/"
        },
        "id": "hK2ACXZnItvB",
        "outputId": "634b3d09-3623-4583-fd92-6fab02854d2e"
      },
      "execution_count": null,
      "outputs": [
        {
          "output_type": "execute_result",
          "data": {
            "text/plain": [
              "array([2., 5., 8.], dtype=float32)"
            ]
          },
          "metadata": {},
          "execution_count": 5
        }
      ]
    },
    {
      "cell_type": "markdown",
      "source": [
        "we can also do it as"
      ],
      "metadata": {
        "id": "aJQtf3yBJjTv"
      }
    },
    {
      "cell_type": "code",
      "source": [
        "z = np.array([2,5,8], dtype='f4')\n",
        "z"
      ],
      "metadata": {
        "colab": {
          "base_uri": "https://localhost:8080/"
        },
        "id": "aIVDezLYJm9w",
        "outputId": "b72297a6-ab3e-48cb-c0ff-2b11c3819962"
      },
      "execution_count": null,
      "outputs": [
        {
          "output_type": "execute_result",
          "data": {
            "text/plain": [
              "array([2., 5., 8.], dtype=float32)"
            ]
          },
          "metadata": {},
          "execution_count": 6
        }
      ]
    },
    {
      "cell_type": "code",
      "source": [
        "m = np.array([2,3,6,9,10],dtype='S')\n",
        "m"
      ],
      "metadata": {
        "colab": {
          "base_uri": "https://localhost:8080/"
        },
        "id": "-szP070BM712",
        "outputId": "87a8e37b-085b-4431-9158-7b244cd2cb09"
      },
      "execution_count": null,
      "outputs": [
        {
          "output_type": "execute_result",
          "data": {
            "text/plain": [
              "array([b'2', b'3', b'6', b'9', b'10'], dtype='|S2')"
            ]
          },
          "metadata": {},
          "execution_count": 7
        }
      ]
    },
    {
      "cell_type": "markdown",
      "source": [
        "- `shape`: Returns the number of rows and columns"
      ],
      "metadata": {
        "id": "SV9OIlI-JHrH"
      }
    },
    {
      "cell_type": "code",
      "source": [
        "arr1D = np.array([1,2,3])\n",
        "print(\"There are:\",arr1D.shape,\"columns in the the array\")\n",
        "arr2D = np.array([[1,2,3],[4,5,6]])\n",
        "print(\"There are:\",arr2D.shape,\"rows & columns in the the array\")\n",
        "arr3D = np.array([[[1,2,3],[4,5,6]],[[7,8,9],[10,11,12]]])\n",
        "print(\"There are:\",arr3D.shape,\"rows and under that there are rows & columns in the the array\")"
      ],
      "metadata": {
        "colab": {
          "base_uri": "https://localhost:8080/"
        },
        "id": "iiYeGxwhJRhQ",
        "outputId": "c78bfb60-c8a3-470b-f03c-afc8105179bc"
      },
      "execution_count": null,
      "outputs": [
        {
          "output_type": "stream",
          "name": "stdout",
          "text": [
            "There are: (3,) columns in the the array\n",
            "There are: (2, 3) rows & columns in the the array\n",
            "There are: (2, 2, 3) rows and under that there are rows & columns in the the array\n"
          ]
        }
      ]
    },
    {
      "cell_type": "markdown",
      "source": [
        "- `size`: Returns the number of elements"
      ],
      "metadata": {
        "id": "PsqgfAkSLKS9"
      }
    },
    {
      "cell_type": "code",
      "source": [
        "arr_size1D = np.array([1,2,3,4,5])\n",
        "arr_size1D.size"
      ],
      "metadata": {
        "colab": {
          "base_uri": "https://localhost:8080/"
        },
        "id": "jEpCBcfSLSol",
        "outputId": "55228b60-f71b-4f67-ac89-94a19494ab95"
      },
      "execution_count": null,
      "outputs": [
        {
          "output_type": "execute_result",
          "data": {
            "text/plain": [
              "5"
            ]
          },
          "metadata": {},
          "execution_count": 16
        }
      ]
    },
    {
      "cell_type": "code",
      "source": [
        "arr_size2D = np.array([[1,2,3,4,5],\n",
        "                       [5,6,9,9,2]])\n",
        "arr_size2D.size"
      ],
      "metadata": {
        "colab": {
          "base_uri": "https://localhost:8080/"
        },
        "id": "9OSZnXifLVox",
        "outputId": "fdbfcfa7-f5dd-402d-fa1d-1105def74521"
      },
      "execution_count": null,
      "outputs": [
        {
          "output_type": "execute_result",
          "data": {
            "text/plain": [
              "10"
            ]
          },
          "metadata": {},
          "execution_count": 18
        }
      ]
    },
    {
      "cell_type": "markdown",
      "source": [
        "- `ndim`: Returns the diamension"
      ],
      "metadata": {
        "id": "mkIpEKJyL5Ui"
      }
    },
    {
      "cell_type": "code",
      "source": [
        "arr1D.ndim"
      ],
      "metadata": {
        "colab": {
          "base_uri": "https://localhost:8080/"
        },
        "id": "yJVXIoBbL_K2",
        "outputId": "597e43fd-cbfd-4dd2-c108-e155846e10d5"
      },
      "execution_count": null,
      "outputs": [
        {
          "output_type": "execute_result",
          "data": {
            "text/plain": [
              "1"
            ]
          },
          "metadata": {},
          "execution_count": 19
        }
      ]
    },
    {
      "cell_type": "code",
      "source": [
        "arr2D.ndim"
      ],
      "metadata": {
        "colab": {
          "base_uri": "https://localhost:8080/"
        },
        "id": "7itAVRkuMCyS",
        "outputId": "a1f2f700-3776-4aef-ce0e-23216c3c952d"
      },
      "execution_count": null,
      "outputs": [
        {
          "output_type": "execute_result",
          "data": {
            "text/plain": [
              "2"
            ]
          },
          "metadata": {},
          "execution_count": 20
        }
      ]
    },
    {
      "cell_type": "code",
      "source": [
        "arr3D.ndim"
      ],
      "metadata": {
        "colab": {
          "base_uri": "https://localhost:8080/"
        },
        "id": "vVb8mfSmMGNT",
        "outputId": "96185923-b965-46b8-a636-f95735eb673b"
      },
      "execution_count": null,
      "outputs": [
        {
          "output_type": "execute_result",
          "data": {
            "text/plain": [
              "3"
            ]
          },
          "metadata": {},
          "execution_count": 21
        }
      ]
    },
    {
      "cell_type": "markdown",
      "source": [
        "- `astype`: Helps to convert the datatype"
      ],
      "metadata": {
        "id": "MDyM1LYGMWCV"
      }
    },
    {
      "cell_type": "code",
      "source": [
        "arr_type1 = np.array([1,2,3]) # Int\n",
        "arr_type2 = np.array([1.2,2.5,3.33]) # Float\n",
        "arr_type3 = np.array(['1','2','3']) # String"
      ],
      "metadata": {
        "id": "4Esq8TG0MaiL"
      },
      "execution_count": null,
      "outputs": []
    },
    {
      "cell_type": "code",
      "source": [
        "arr_type1.astype(float).dtype"
      ],
      "metadata": {
        "colab": {
          "base_uri": "https://localhost:8080/"
        },
        "id": "VrfbNlLpNFnw",
        "outputId": "05a99130-d810-4628-b7b8-78e4e24d7cf1"
      },
      "execution_count": null,
      "outputs": [
        {
          "output_type": "execute_result",
          "data": {
            "text/plain": [
              "dtype('float64')"
            ]
          },
          "metadata": {},
          "execution_count": 30
        }
      ]
    },
    {
      "cell_type": "code",
      "source": [
        "arr_type2.astype(int).dtype"
      ],
      "metadata": {
        "colab": {
          "base_uri": "https://localhost:8080/"
        },
        "id": "q3Mnlv9BNNHW",
        "outputId": "e0276a3b-cbb4-4e2c-efaf-3499fd0c9376"
      },
      "execution_count": null,
      "outputs": [
        {
          "output_type": "execute_result",
          "data": {
            "text/plain": [
              "dtype('int64')"
            ]
          },
          "metadata": {},
          "execution_count": 31
        }
      ]
    },
    {
      "cell_type": "code",
      "source": [
        "arr_type3.astype(float).dtype"
      ],
      "metadata": {
        "colab": {
          "base_uri": "https://localhost:8080/"
        },
        "id": "guxnrxXhNogh",
        "outputId": "8f7d2404-1eec-436e-ff7c-e0335803c6de"
      },
      "execution_count": null,
      "outputs": [
        {
          "output_type": "execute_result",
          "data": {
            "text/plain": [
              "dtype('float64')"
            ]
          },
          "metadata": {},
          "execution_count": 33
        }
      ]
    },
    {
      "cell_type": "markdown",
      "source": [
        "- Now we are going to perfrom some of the mathematical operation\n",
        "  - `+`: Adds\n",
        "  - `-`: Subtract\n",
        "  - `*`: Multiply\n",
        "  - `/`: Devide\n",
        "  - `**`: Power\n",
        "  - `%`: Modulus\n",
        "  - `//`: Floar Division"
      ],
      "metadata": {
        "id": "EnxQBCtwOBFR"
      }
    },
    {
      "cell_type": "code",
      "source": [
        "operand_1  = np.array([[1,2,3,4,5],\n",
        "                       [5,8,9,3,1]])\n",
        "\n",
        "operand_2  = np.array([[1,2,3,4,5],\n",
        "                       [5,8,9,3,1]])\n",
        "\n",
        "print(\"Addition:\\n\",operand_1 + operand_2)\n",
        "print(\"Subtraction:\\n\",operand_1 - operand_2)\n",
        "print(\"Multiplication:\\n\",operand_1 * operand_2)\n",
        "print(\"Division:\\n\",operand_1 / operand_2)\n",
        "print(\"Power:\\n\",operand_1 ** operand_2)\n",
        "print(\"Modulus:\\n\",operand_1 % operand_2)\n",
        "print(\"Floar Division:\\n\", operand_1 // operand_2)"
      ],
      "metadata": {
        "colab": {
          "base_uri": "https://localhost:8080/"
        },
        "id": "m-vXzuPBOoZ7",
        "outputId": "135ae3c7-275f-4ada-c619-9abe76e907c2"
      },
      "execution_count": null,
      "outputs": [
        {
          "output_type": "stream",
          "name": "stdout",
          "text": [
            "Addition:\n",
            " [[ 2  4  6  8 10]\n",
            " [10 16 18  6  2]]\n",
            "Subtraction:\n",
            " [[0 0 0 0 0]\n",
            " [0 0 0 0 0]]\n",
            "Multiplication:\n",
            " [[ 1  4  9 16 25]\n",
            " [25 64 81  9  1]]\n",
            "Division:\n",
            " [[1. 1. 1. 1. 1.]\n",
            " [1. 1. 1. 1. 1.]]\n",
            "Power:\n",
            " [[        1         4        27       256      3125]\n",
            " [     3125  16777216 387420489        27         1]]\n",
            "Modulus:\n",
            " [[0 0 0 0 0]\n",
            " [0 0 0 0 0]]\n",
            "Floar Division:\n",
            " [[1 1 1 1 1]\n",
            " [1 1 1 1 1]]\n"
          ]
        }
      ]
    },
    {
      "cell_type": "markdown",
      "source": [
        "- Now we are looking on some aggregaton function"
      ],
      "metadata": {
        "id": "j_AdAhCnQCIv"
      }
    },
    {
      "cell_type": "code",
      "source": [
        "agg = np.array([1,5,8,6,3,2,5])\n",
        "print(np.sum(agg))  # This is called sum\n",
        "print(np.min(agg))  # This is called minimum number\n",
        "print(np.max(agg))  # This is called max number\n",
        "print(np.mean(agg)) # This is called\n",
        "print(np.std(agg))  # This is called standard daviation\n",
        "print(np.var(agg))  # This is called varience"
      ],
      "metadata": {
        "colab": {
          "base_uri": "https://localhost:8080/"
        },
        "id": "1TiR5dhZQJz0",
        "outputId": "0176ac02-ae51-4acb-bb90-00a563252497"
      },
      "execution_count": null,
      "outputs": [
        {
          "output_type": "stream",
          "name": "stdout",
          "text": [
            "30\n",
            "1\n",
            "8\n",
            "4.285714285714286\n",
            "2.2497165354319457\n",
            "5.061224489795918\n"
          ]
        }
      ]
    },
    {
      "cell_type": "markdown",
      "source": [
        "- Apart from that we some addtional sequence genarating methods"
      ],
      "metadata": {
        "id": "aFAjrEdZRDQQ"
      }
    },
    {
      "cell_type": "code",
      "source": [
        "np.ones((2,5)) # Create a array with number 1, we have to give rows & columns if we want to make multidimensional arrays"
      ],
      "metadata": {
        "colab": {
          "base_uri": "https://localhost:8080/"
        },
        "id": "70MOfFn7RWeU",
        "outputId": "8ad97463-ffe0-4da4-907d-d02f97f438b2"
      },
      "execution_count": null,
      "outputs": [
        {
          "output_type": "execute_result",
          "data": {
            "text/plain": [
              "array([[1., 1., 1., 1., 1.],\n",
              "       [1., 1., 1., 1., 1.]])"
            ]
          },
          "metadata": {},
          "execution_count": 54
        }
      ]
    },
    {
      "cell_type": "code",
      "source": [
        "np.zeros((5,10)) # Create a with number 0, we have to give rows & columns if we want to make multidimensional arrays"
      ],
      "metadata": {
        "colab": {
          "base_uri": "https://localhost:8080/"
        },
        "id": "CFBnDQORRZlA",
        "outputId": "badcbb82-19ff-4cc1-c5f4-0662522ca00b"
      },
      "execution_count": null,
      "outputs": [
        {
          "output_type": "execute_result",
          "data": {
            "text/plain": [
              "array([[0., 0., 0., 0., 0., 0., 0., 0., 0., 0.],\n",
              "       [0., 0., 0., 0., 0., 0., 0., 0., 0., 0.],\n",
              "       [0., 0., 0., 0., 0., 0., 0., 0., 0., 0.],\n",
              "       [0., 0., 0., 0., 0., 0., 0., 0., 0., 0.],\n",
              "       [0., 0., 0., 0., 0., 0., 0., 0., 0., 0.]])"
            ]
          },
          "metadata": {},
          "execution_count": 55
        }
      ]
    },
    {
      "cell_type": "code",
      "source": [
        "np.full((3,5),4) # Make an array of our own preffered number (size,number)"
      ],
      "metadata": {
        "colab": {
          "base_uri": "https://localhost:8080/"
        },
        "id": "PFnGs880R2tD",
        "outputId": "66699f51-a659-4300-a588-8ec206353796"
      },
      "execution_count": null,
      "outputs": [
        {
          "output_type": "execute_result",
          "data": {
            "text/plain": [
              "array([[4, 4, 4, 4, 4],\n",
              "       [4, 4, 4, 4, 4],\n",
              "       [4, 4, 4, 4, 4]])"
            ]
          },
          "metadata": {},
          "execution_count": 56
        }
      ]
    },
    {
      "cell_type": "code",
      "source": [
        "np.arange(1,20,5) # Genarate a sequence of number (start,stop,step)"
      ],
      "metadata": {
        "colab": {
          "base_uri": "https://localhost:8080/"
        },
        "id": "x6Xcr4QFR6qE",
        "outputId": "a7d6937e-a807-43f1-ce00-d9ba5a7ee14c"
      },
      "execution_count": null,
      "outputs": [
        {
          "output_type": "execute_result",
          "data": {
            "text/plain": [
              "array([ 1,  6, 11, 16])"
            ]
          },
          "metadata": {},
          "execution_count": 57
        }
      ]
    },
    {
      "cell_type": "code",
      "source": [
        "np.eye(5,5) # Create diagonal matrix"
      ],
      "metadata": {
        "colab": {
          "base_uri": "https://localhost:8080/"
        },
        "id": "78Y-JDeJTHZ9",
        "outputId": "10ae7dd1-a960-47b3-9cc9-a645d82a7f1d"
      },
      "execution_count": null,
      "outputs": [
        {
          "output_type": "execute_result",
          "data": {
            "text/plain": [
              "array([[1., 0., 0., 0., 0.],\n",
              "       [0., 1., 0., 0., 0.],\n",
              "       [0., 0., 1., 0., 0.],\n",
              "       [0., 0., 0., 1., 0.],\n",
              "       [0., 0., 0., 0., 1.]])"
            ]
          },
          "metadata": {},
          "execution_count": 59
        }
      ]
    },
    {
      "cell_type": "markdown",
      "source": [
        "# **Indexing and Slicing**"
      ],
      "metadata": {
        "id": "uWGGjiqIWYgE"
      }
    },
    {
      "cell_type": "markdown",
      "source": [
        "- Accessing a specific element. It follows 0 based indexing"
      ],
      "metadata": {
        "id": "VqYuIwr-Wudt"
      }
    },
    {
      "cell_type": "code",
      "source": [
        "arr = np.array([5,8,9,6,1,4])\n",
        "print(arr[0])\n",
        "print(arr[1])\n",
        "print(arr[2])\n",
        "print(arr[3])\n",
        "print(arr[4])\n",
        "print(arr[5])\n",
        "print(\"-ve indexing:\")\n",
        "print(arr[-1])\n",
        "print(arr[-2])\n",
        "print(arr[-3])\n",
        "print(arr[-4])\n",
        "print(arr[-5])\n",
        "print(arr[-6])"
      ],
      "metadata": {
        "colab": {
          "base_uri": "https://localhost:8080/"
        },
        "id": "F-uwowZBWzF5",
        "outputId": "68dd659d-2bda-4d45-d683-bac7e8371cbb"
      },
      "execution_count": null,
      "outputs": [
        {
          "output_type": "stream",
          "name": "stdout",
          "text": [
            "5\n",
            "8\n",
            "9\n",
            "6\n",
            "1\n",
            "4\n",
            "-ve indexing:\n",
            "4\n",
            "1\n",
            "6\n",
            "9\n",
            "8\n",
            "5\n"
          ]
        }
      ]
    },
    {
      "cell_type": "markdown",
      "source": [
        "- Slicing: Extracting sub array from an array"
      ],
      "metadata": {
        "id": "VHy42I3mh8Wp"
      }
    },
    {
      "cell_type": "code",
      "source": [
        "arr_slice = np.array([1,5,6,2,8,10])\n",
        "print(arr_slice[0:3])\n",
        "print(arr_slice[1:4])\n",
        "print(arr_slice[::2])\n",
        "print(arr_slice[::-1])\n",
        "# -ve slice\n",
        "print(arr_slice[-3:-1])\n",
        "print(arr_slice[-4:-1])\n",
        "print(arr_slice[-4:-1:2])\n",
        "print(arr_slice[-1:-4:-1])"
      ],
      "metadata": {
        "colab": {
          "base_uri": "https://localhost:8080/"
        },
        "id": "DMQrNLIMh3Lv",
        "outputId": "810bdc55-6bff-4042-f404-f8172a1d9c48"
      },
      "execution_count": null,
      "outputs": [
        {
          "output_type": "stream",
          "name": "stdout",
          "text": [
            "[1 5 6]\n",
            "[5 6 2]\n",
            "[1 6 8]\n",
            "[10  8  2  6  5  1]\n",
            "[2 8]\n",
            "[6 2 8]\n",
            "[6 8]\n",
            "[10  8  2]\n"
          ]
        }
      ]
    },
    {
      "cell_type": "markdown",
      "source": [
        "- Fancy Indexing: Selecting multiple index at once"
      ],
      "metadata": {
        "id": "uU-WHbKujgQD"
      }
    },
    {
      "cell_type": "code",
      "source": [
        "arr_fancy = np.array([1,5,6,2,8,10])\n",
        "# Makes a copy and then print that so that real data does effect\n",
        "print(arr_fancy[[0,2,4]])\n",
        "print(arr_fancy[[1,3,5]])\n",
        "print(arr_fancy[[-1,-2,-3]])\n",
        "print(arr_fancy[[-4,-5,-6]])"
      ],
      "metadata": {
        "colab": {
          "base_uri": "https://localhost:8080/"
        },
        "id": "UG3ppxtXjm69",
        "outputId": "5a9b328d-becf-4bbf-8733-cde9d93e3ab5"
      },
      "execution_count": null,
      "outputs": [
        {
          "output_type": "stream",
          "name": "stdout",
          "text": [
            "[1 6 8]\n",
            "[ 5  2 10]\n",
            "[10  8  2]\n",
            "[6 5 1]\n"
          ]
        }
      ]
    },
    {
      "cell_type": "markdown",
      "source": [
        "- Boolean masting or Filtering: Slicing the data based on some condition"
      ],
      "metadata": {
        "id": "gTwPB-YDkY6R"
      }
    },
    {
      "cell_type": "code",
      "source": [
        "arr_bool = np.array([10,20,30,40,50,60])\n",
        "print(arr[arr_bool > 25])"
      ],
      "metadata": {
        "colab": {
          "base_uri": "https://localhost:8080/"
        },
        "id": "PAW2wqAalWaC",
        "outputId": "52aabcf0-2882-4284-819a-4287c3692d29"
      },
      "execution_count": null,
      "outputs": [
        {
          "output_type": "stream",
          "name": "stdout",
          "text": [
            "[30 40 50 60]\n"
          ]
        }
      ]
    },
    {
      "cell_type": "markdown",
      "source": [
        "# **Reshaping and Manupulating array**"
      ],
      "metadata": {
        "id": "Rcc9pZc_mZvv"
      }
    },
    {
      "cell_type": "markdown",
      "source": [
        "- Reshape possible if dimention match"
      ],
      "metadata": {
        "id": "Tizuq0-Y-iTD"
      }
    },
    {
      "cell_type": "code",
      "source": [
        "arr_reshape = np.array([1,5,6,2,8,10])\n",
        "print(arr_reshape.reshape(3,2))\n",
        "print(arr_reshape.reshape(2,3))\n",
        "print(arr_reshape.reshape(-1,6))\n",
        "print(arr_reshape.reshape(-6,1))"
      ],
      "metadata": {
        "colab": {
          "base_uri": "https://localhost:8080/"
        },
        "id": "GpoZiTNXxD_m",
        "outputId": "806b1807-ce0b-47c2-a543-35a296e69936"
      },
      "execution_count": null,
      "outputs": [
        {
          "output_type": "stream",
          "name": "stdout",
          "text": [
            "[[ 1  5]\n",
            " [ 6  2]\n",
            " [ 8 10]]\n",
            "[[ 1  5  6]\n",
            " [ 2  8 10]]\n",
            "[[ 1  5  6  2  8 10]]\n",
            "[[ 1]\n",
            " [ 5]\n",
            " [ 6]\n",
            " [ 2]\n",
            " [ 8]\n",
            " [10]]\n"
          ]
        }
      ]
    },
    {
      "cell_type": "markdown",
      "source": [
        "### **Flatterning array**\n",
        "- We have two methods `ravel()` and `flatten()` first one creates view and second one creates copy. Both convert multidimentional data to 1D"
      ],
      "metadata": {
        "id": "1dh0UNmOxrvS"
      }
    },
    {
      "cell_type": "code",
      "source": [
        "arr_reshape2D = np.array([[5,8,2],[1,5,9]])"
      ],
      "metadata": {
        "id": "lOdPLO1Cyb_C"
      },
      "execution_count": null,
      "outputs": []
    },
    {
      "cell_type": "code",
      "source": [
        "arr_reshape2D.ravel() # There is no diffrence in output but it chages real one"
      ],
      "metadata": {
        "colab": {
          "base_uri": "https://localhost:8080/"
        },
        "id": "ErCvj86uyo8M",
        "outputId": "d229436a-2be5-466e-cdb0-1139863d1e6d"
      },
      "execution_count": null,
      "outputs": [
        {
          "output_type": "execute_result",
          "data": {
            "text/plain": [
              "array([5, 8, 2, 1, 5, 9])"
            ]
          },
          "metadata": {},
          "execution_count": 6
        }
      ]
    },
    {
      "cell_type": "code",
      "source": [
        "arr_reshape2D.flatten() # There is no diffrence in output but it doesn't change the real data"
      ],
      "metadata": {
        "colab": {
          "base_uri": "https://localhost:8080/"
        },
        "id": "g37CFK7SyuTZ",
        "outputId": "bdbd31b5-4435-4ad8-be8f-dd0a39fee001"
      },
      "execution_count": null,
      "outputs": [
        {
          "output_type": "execute_result",
          "data": {
            "text/plain": [
              "array([5, 8, 2, 1, 5, 9])"
            ]
          },
          "metadata": {},
          "execution_count": 8
        }
      ]
    },
    {
      "cell_type": "markdown",
      "source": [
        "# **Array Modification**"
      ],
      "metadata": {
        "id": "AMKcOEg4zo4-"
      }
    },
    {
      "cell_type": "markdown",
      "source": [
        "`insert`: Insert new element in an existing array"
      ],
      "metadata": {
        "id": "K-5TTb6tbInn"
      }
    },
    {
      "cell_type": "code",
      "source": [
        "arr_mod1D = np.array([1,2,3,4,5,6,7,8,9,10])\n",
        "\n",
        "print(np.insert(arr_mod1D,5,60,axis=None))"
      ],
      "metadata": {
        "colab": {
          "base_uri": "https://localhost:8080/"
        },
        "id": "aXnK79UcbXl3",
        "outputId": "cb75ca11-3ad5-4f80-ebd9-ceb3e043d7a1"
      },
      "execution_count": null,
      "outputs": [
        {
          "output_type": "stream",
          "name": "stdout",
          "text": [
            "[ 1  2  3  4  5 60  6  7  8  9 10]\n"
          ]
        }
      ]
    },
    {
      "cell_type": "code",
      "source": [
        "arr_mod2D = np.array([[1,2],[3,4]])\n",
        "print(arr_mod2D,end='\\n\\n')\n",
        "print(np.insert(arr_mod2D,1,[3,9],axis=0),end='\\n\\n')\n",
        "print(np.insert(arr_mod2D,1,[3,9],axis=1),end='\\n\\n')\n",
        "print(np.insert(arr_mod2D,1,[3,9],axis=None),end='\\n\\n')"
      ],
      "metadata": {
        "colab": {
          "base_uri": "https://localhost:8080/"
        },
        "id": "6-kgthG-c7Yv",
        "outputId": "f3fea53d-cf16-47c0-ef51-99f475be9ceb"
      },
      "execution_count": null,
      "outputs": [
        {
          "output_type": "stream",
          "name": "stdout",
          "text": [
            "[[1 2]\n",
            " [3 4]]\n",
            "\n",
            "[[1 2]\n",
            " [3 9]\n",
            " [3 4]]\n",
            "\n",
            "[[1 3 2]\n",
            " [3 9 4]]\n",
            "\n",
            "[1 3 9 2 3 4]\n",
            "\n"
          ]
        }
      ]
    },
    {
      "cell_type": "markdown",
      "source": [
        "`appened`: Add element at last position"
      ],
      "metadata": {
        "id": "ez9tjTgvgw32"
      }
    },
    {
      "cell_type": "code",
      "source": [
        "arr_app = np.array([1,2,3])\n",
        "print(np.append(arr_app,4))"
      ],
      "metadata": {
        "colab": {
          "base_uri": "https://localhost:8080/"
        },
        "id": "W-rSInBDgkt2",
        "outputId": "01b88e36-4bb1-4517-d6f3-d721a175079e"
      },
      "execution_count": null,
      "outputs": [
        {
          "output_type": "stream",
          "name": "stdout",
          "text": [
            "[1 2 3 4]\n"
          ]
        }
      ]
    },
    {
      "cell_type": "markdown",
      "source": [
        "`concatinate`: Merge arrays"
      ],
      "metadata": {
        "id": "7nteuGsyg_kp"
      }
    },
    {
      "cell_type": "code",
      "source": [
        "arr_con1 = np.array([[1, 2], [3, 4]])\n",
        "arr_con2 = np.array([[5, 6]])\n",
        "print(np.concatenate((arr_con1,arr_con2), axis=0))\n",
        "print(np.concatenate((arr_con1, arr_con2.T), axis=1)) # .T means Transpose converting the second array to it's transpose version\n",
        "print(np.concatenate((arr_con1,arr_con2), axis=None))"
      ],
      "metadata": {
        "colab": {
          "base_uri": "https://localhost:8080/"
        },
        "id": "mwfNTao-g921",
        "outputId": "3823fa3e-13b7-4a9a-c088-9a5da6df960f"
      },
      "execution_count": null,
      "outputs": [
        {
          "output_type": "stream",
          "name": "stdout",
          "text": [
            "[[1 2]\n",
            " [3 4]\n",
            " [5 6]]\n",
            "[[1 2 5]\n",
            " [3 4 6]]\n",
            "[1 2 3 4 5 6]\n"
          ]
        }
      ]
    },
    {
      "cell_type": "markdown",
      "source": [
        "`delete`: For deleting array values"
      ],
      "metadata": {
        "id": "Rtyv9hIyl1p8"
      }
    },
    {
      "cell_type": "code",
      "source": [
        "arr_del1D = np.array([1,2,3,4,5,6,7,8,9,10])\n",
        "print(np.delete(arr_del1D,5),end='\\n\\n')\n",
        "arr_del2D = np.array([[1,2,3],[4,5,6],[7,8,9]])\n",
        "print(np.delete(arr_del2D,1,axis=0),end='\\n\\n')\n",
        "print(np.delete(arr_del2D,1,axis=1),end='\\n\\n')\n",
        "print(np.delete(arr_del2D,1,axis=None))"
      ],
      "metadata": {
        "colab": {
          "base_uri": "https://localhost:8080/"
        },
        "id": "h3962XW0l5gY",
        "outputId": "df5b62bc-864b-41ec-e477-e80047175309"
      },
      "execution_count": null,
      "outputs": [
        {
          "output_type": "stream",
          "name": "stdout",
          "text": [
            "[ 1  2  3  4  5  7  8  9 10]\n",
            "\n",
            "[[1 2 3]\n",
            " [7 8 9]]\n",
            "\n",
            "[[1 3]\n",
            " [4 6]\n",
            " [7 9]]\n",
            "\n",
            "[1 3 4 5 6 7 8 9]\n"
          ]
        }
      ]
    },
    {
      "cell_type": "markdown",
      "source": [
        "- Staking:\n",
        "  - `vstack()`: Vertical Staking\n",
        "  - `hstack()`: Horizontal Staking"
      ],
      "metadata": {
        "id": "OXnu-ZjanR59"
      }
    },
    {
      "cell_type": "code",
      "source": [
        "arr_stack1 = np.array([[1,2,3],[4,8,5]])\n",
        "print(arr_stack1,end='\\n\\n')\n",
        "arr_stack2 = np.array([[6,7,8],[9,10,11]])\n",
        "print(arr_stack2,end='\\n\\n')\n",
        "print(np.vstack((arr_stack1,arr_stack2)),end='\\n\\n')\n",
        "print(np.hstack((arr_stack1,arr_stack2)))"
      ],
      "metadata": {
        "colab": {
          "base_uri": "https://localhost:8080/"
        },
        "id": "NKJtc3yBnnL1",
        "outputId": "349b37cf-797e-4a48-8774-d3110bb14f8a"
      },
      "execution_count": null,
      "outputs": [
        {
          "output_type": "stream",
          "name": "stdout",
          "text": [
            "[[1 2 3]\n",
            " [4 8 5]]\n",
            "\n",
            "[[ 6  7  8]\n",
            " [ 9 10 11]]\n",
            "\n",
            "[[ 1  2  3]\n",
            " [ 4  8  5]\n",
            " [ 6  7  8]\n",
            " [ 9 10 11]]\n",
            "\n",
            "[[ 1  2  3  6  7  8]\n",
            " [ 4  8  5  9 10 11]]\n"
          ]
        }
      ]
    },
    {
      "cell_type": "markdown",
      "source": [
        "- Splitting: Splits the array\n",
        "  - `split`: Splits in equal parts\n",
        "  - `hsplit`: Horizontal spliting proccess\n",
        "  - `vsplit`: Vertical splitting proccess"
      ],
      "metadata": {
        "id": "LpqpmKYK3xPo"
      }
    },
    {
      "cell_type": "code",
      "source": [
        "arr_split = np.array([10,20,30,40,50,60,70,80,90])\n",
        "print(np.split(arr_split,3)) # Here 3 means how many parts to be splitted\n",
        "print(np.split(arr_split,[2,6]))\n",
        "\"\"\"\n",
        "\n",
        "print(np.split(arr_split,[2,6])): This line demonstrates a more controlled split. The second argument [2,6]\n",
        "specifies the indices where the array should be split. In this case, it splits the array at index 2 and index 6, resulting in a list of 3 arrays:\n",
        "        The first array contains elements from index 0 to 1.\n",
        "        The second array contains elements from index 2 to 5.\n",
        "        The third array contains elements from index 6 to the end.\n",
        "\n",
        "\"\"\""
      ],
      "metadata": {
        "colab": {
          "base_uri": "https://localhost:8080/"
        },
        "id": "6XMKvCCu4TRO",
        "outputId": "b2861ba9-7acc-4225-f52c-a80d5356974e"
      },
      "execution_count": 5,
      "outputs": [
        {
          "output_type": "stream",
          "name": "stdout",
          "text": [
            "[array([10, 20, 30]), array([40, 50, 60]), array([70, 80, 90])]\n",
            "[array([10, 20]), array([30, 40, 50, 60]), array([70, 80, 90])]\n"
          ]
        }
      ]
    },
    {
      "cell_type": "markdown",
      "source": [
        "# **Brodcasting and Vectorization**"
      ],
      "metadata": {
        "id": "YMkV7H5E6EMP"
      }
    },
    {
      "cell_type": "markdown",
      "source": [
        "- Brodcasting is Numpy way where we can perform diffrent mathematical operations **without using Loops**"
      ],
      "metadata": {
        "id": "_FR2lmBI9TCD"
      }
    },
    {
      "cell_type": "code",
      "source": [
        "Stuffs_prize = [100,200,300]\n",
        "discount = 10\n",
        "discounted_prize = []\n",
        "for i in Stuffs_prize:\n",
        "    discounted_prize.append(i - (i * discount)/100)\n",
        "discounted_prize # This procces is ok but becomes too slow if we try do that with larger data"
      ],
      "metadata": {
        "colab": {
          "base_uri": "https://localhost:8080/"
        },
        "id": "57GKK3l3-KaF",
        "outputId": "45782d69-70e4-4b69-b738-dbe6da4f2fc2"
      },
      "execution_count": 7,
      "outputs": [
        {
          "output_type": "execute_result",
          "data": {
            "text/plain": [
              "[90.0, 180.0, 270.0]"
            ]
          },
          "metadata": {},
          "execution_count": 7
        }
      ]
    },
    {
      "cell_type": "markdown",
      "source": [
        "Now let's do that thing withthe help of numpy"
      ],
      "metadata": {
        "id": "Vm2BvBpZ_h1L"
      }
    },
    {
      "cell_type": "code",
      "source": [
        "Stuffs_prize = np.array([100,200,300])\n",
        "discount = 10\n",
        "discounted_prize = np.array(Stuffs_prize - (Stuffs_prize * discount)/100)\n",
        "discounted_prize # No need loops this is more efficient"
      ],
      "metadata": {
        "colab": {
          "base_uri": "https://localhost:8080/"
        },
        "id": "1nTrk4A8_nUy",
        "outputId": "ec564f37-99ca-40f6-9b98-293435e9f74f"
      },
      "execution_count": 10,
      "outputs": [
        {
          "output_type": "execute_result",
          "data": {
            "text/plain": [
              "array([ 90., 180., 270.])"
            ]
          },
          "metadata": {},
          "execution_count": 10
        }
      ]
    },
    {
      "cell_type": "markdown",
      "source": [
        "### Handeling diffrent shapes of array in numpy\n",
        "\n",
        "- Matching dimensions: If arrays are sames in shape then it can perfrom tasks\n",
        "- Expanding single element: Perfrom operations of array with single element is possible without thinking about shapes\n",
        "- Incompatable shapes: Leads to error"
      ],
      "metadata": {
        "id": "PURzNnCtAdW4"
      }
    },
    {
      "cell_type": "markdown",
      "source": [
        "- Vectorize 1D to 2D array"
      ],
      "metadata": {
        "id": "k5X_C3EDB7jx"
      }
    },
    {
      "cell_type": "code",
      "source": [
        "A = np.array([[1,2,3],[5,6,9]])\n",
        "B = np.array([1,8,6])\n",
        "print(A+B)"
      ],
      "metadata": {
        "colab": {
          "base_uri": "https://localhost:8080/"
        },
        "id": "foCQiMR6BWCP",
        "outputId": "943b01f5-7c8c-423a-a09c-be72af6265ad"
      },
      "execution_count": 30,
      "outputs": [
        {
          "output_type": "stream",
          "name": "stdout",
          "text": [
            "[[ 2 10  9]\n",
            " [ 6 14 15]]\n"
          ]
        }
      ]
    },
    {
      "cell_type": "markdown",
      "source": [
        "- Error Code [Incompatable shapes: Leads to error]"
      ],
      "metadata": {
        "id": "TVaa3wJsCtBe"
      }
    },
    {
      "cell_type": "code",
      "source": [
        "C = np.array([[1,2,3],[5,6,9]])\n",
        "D = np.array([1,8])\n",
        "print(C+D)"
      ],
      "metadata": {
        "colab": {
          "base_uri": "https://localhost:8080/",
          "height": 176
        },
        "id": "s3yFSmWXCyoZ",
        "outputId": "34841137-0850-49f6-e6d9-d393c1840dac"
      },
      "execution_count": 16,
      "outputs": [
        {
          "output_type": "error",
          "ename": "ValueError",
          "evalue": "operands could not be broadcast together with shapes (2,3) (2,) ",
          "traceback": [
            "\u001b[0;31m---------------------------------------------------------------------------\u001b[0m",
            "\u001b[0;31mValueError\u001b[0m                                Traceback (most recent call last)",
            "\u001b[0;32m<ipython-input-16-14e96c55e0be>\u001b[0m in \u001b[0;36m<cell line: 0>\u001b[0;34m()\u001b[0m\n\u001b[1;32m      1\u001b[0m \u001b[0mC\u001b[0m \u001b[0;34m=\u001b[0m \u001b[0mnp\u001b[0m\u001b[0;34m.\u001b[0m\u001b[0marray\u001b[0m\u001b[0;34m(\u001b[0m\u001b[0;34m[\u001b[0m\u001b[0;34m[\u001b[0m\u001b[0;36m1\u001b[0m\u001b[0;34m,\u001b[0m\u001b[0;36m2\u001b[0m\u001b[0;34m,\u001b[0m\u001b[0;36m3\u001b[0m\u001b[0;34m]\u001b[0m\u001b[0;34m,\u001b[0m\u001b[0;34m[\u001b[0m\u001b[0;36m5\u001b[0m\u001b[0;34m,\u001b[0m\u001b[0;36m6\u001b[0m\u001b[0;34m,\u001b[0m\u001b[0;36m9\u001b[0m\u001b[0;34m]\u001b[0m\u001b[0;34m]\u001b[0m\u001b[0;34m)\u001b[0m\u001b[0;34m\u001b[0m\u001b[0;34m\u001b[0m\u001b[0m\n\u001b[1;32m      2\u001b[0m \u001b[0mD\u001b[0m \u001b[0;34m=\u001b[0m \u001b[0mnp\u001b[0m\u001b[0;34m.\u001b[0m\u001b[0marray\u001b[0m\u001b[0;34m(\u001b[0m\u001b[0;34m[\u001b[0m\u001b[0;36m1\u001b[0m\u001b[0;34m,\u001b[0m\u001b[0;36m8\u001b[0m\u001b[0;34m]\u001b[0m\u001b[0;34m)\u001b[0m\u001b[0;34m\u001b[0m\u001b[0;34m\u001b[0m\u001b[0m\n\u001b[0;32m----> 3\u001b[0;31m \u001b[0mprint\u001b[0m\u001b[0;34m(\u001b[0m\u001b[0mC\u001b[0m\u001b[0;34m+\u001b[0m\u001b[0mD\u001b[0m\u001b[0;34m)\u001b[0m\u001b[0;34m\u001b[0m\u001b[0;34m\u001b[0m\u001b[0m\n\u001b[0m",
            "\u001b[0;31mValueError\u001b[0m: operands could not be broadcast together with shapes (2,3) (2,) "
          ]
        }
      ]
    },
    {
      "cell_type": "markdown",
      "source": [
        "### Vectorization"
      ],
      "metadata": {
        "id": "-awGKJVpDHgo"
      }
    },
    {
      "cell_type": "code",
      "source": [
        "import time\n",
        "# List Comprehension\n",
        "L = [10,20,30,40,50]\n",
        "R = [60,70,80,90,100]\n",
        "start = time.time()\n",
        "\n",
        "Result = [i+j for i,j in zip(L,R)]\n",
        "end = time.time()\n",
        "print(end-start)\n",
        "Result"
      ],
      "metadata": {
        "colab": {
          "base_uri": "https://localhost:8080/"
        },
        "id": "2uLZbsC9EyIc",
        "outputId": "1defcb77-1f50-4e0a-afb3-0a3c7a8d06b8"
      },
      "execution_count": 29,
      "outputs": [
        {
          "output_type": "stream",
          "name": "stdout",
          "text": [
            "0.00014543533325195312\n"
          ]
        },
        {
          "output_type": "execute_result",
          "data": {
            "text/plain": [
              "[70, 90, 110, 130, 150]"
            ]
          },
          "metadata": {},
          "execution_count": 29
        }
      ]
    },
    {
      "cell_type": "code",
      "source": [
        "import time\n",
        "A = np.array([10,20,30,40,50])\n",
        "B = np.array([60,70,80,90,100])\n",
        "start = time.time()\n",
        "Result = A + B\n",
        "end = time.time()\n",
        "print(end-start)\n",
        "Result"
      ],
      "metadata": {
        "colab": {
          "base_uri": "https://localhost:8080/"
        },
        "id": "nR7lNdd9FLgd",
        "outputId": "01dd9fe5-d7ea-4bdf-d0d0-7488e29e5b67"
      },
      "execution_count": 31,
      "outputs": [
        {
          "output_type": "stream",
          "name": "stdout",
          "text": [
            "7.557868957519531e-05\n"
          ]
        },
        {
          "output_type": "execute_result",
          "data": {
            "text/plain": [
              "array([ 70,  90, 110, 130, 150])"
            ]
          },
          "metadata": {},
          "execution_count": 31
        }
      ]
    },
    {
      "cell_type": "markdown",
      "source": [
        "### ⚔️ **Differences at a Glance:**\n",
        "| Feature           | Broadcasting               | Vectorization              |\n",
        "|-------------------|----------------------------|----------------------------|\n",
        "| **Purpose**        | Handle different shapes    | Speed up array operations  |\n",
        "| **Main Action**    | Expands dimensions         | Removes explicit loops     |\n",
        "| **Memory Impact**  | No extra memory if broadcasted properly | Minimal memory usage |\n",
        "| **Error Handling** | Fails if incompatible shapes | Rarely raises errors |\n",
        "| **Example Operation** | Adding arrays of different shapes | Squaring an array |"
      ],
      "metadata": {
        "id": "UZHDp3MAG2ah"
      }
    },
    {
      "cell_type": "code",
      "source": [
        "import numpy as np\n",
        "\n",
        "# Array of shape (3, 1)\n",
        "A = np.array([[1], [2], [3]])\n",
        "\n",
        "# Array of shape (1, 3)\n",
        "B = np.array([4, 5, 6])\n",
        "\n",
        "# Broadcasting happens to make both arrays shape (3, 3)\n",
        "result = A + B\n",
        "print(result)"
      ],
      "metadata": {
        "colab": {
          "base_uri": "https://localhost:8080/"
        },
        "id": "Q84F4AWmHBqb",
        "outputId": "dd3be78e-eca7-4fc3-8127-9a1f03f39c99"
      },
      "execution_count": 32,
      "outputs": [
        {
          "output_type": "stream",
          "name": "stdout",
          "text": [
            "[[5 6 7]\n",
            " [6 7 8]\n",
            " [7 8 9]]\n"
          ]
        }
      ]
    },
    {
      "cell_type": "code",
      "source": [
        "# Vectorized operation\n",
        "A = np.array([1, 2, 3, 4, 5])\n",
        "B = A ** 2  # Element-wise squaring (vectorized)\n",
        "print(B)"
      ],
      "metadata": {
        "colab": {
          "base_uri": "https://localhost:8080/"
        },
        "id": "cWjcx-jqHCsk",
        "outputId": "b1417aaa-2e47-48ee-bf64-d6aba37fba1f"
      },
      "execution_count": 33,
      "outputs": [
        {
          "output_type": "stream",
          "name": "stdout",
          "text": [
            "[ 1  4  9 16 25]\n"
          ]
        }
      ]
    },
    {
      "cell_type": "markdown",
      "source": [
        "# **Handeling Missing Values**"
      ],
      "metadata": {
        "id": "n6CbwQh2HQAT"
      }
    },
    {
      "cell_type": "markdown",
      "source": [
        "- `np.nan`\n",
        "- `np.isnan`\n",
        "- `np.isinf`"
      ],
      "metadata": {
        "id": "b4mnTd9oIRTB"
      }
    },
    {
      "cell_type": "code",
      "source": [
        "e = np.array([1,2,np.nan,4,5])\n",
        "np.isnan(e)"
      ],
      "metadata": {
        "colab": {
          "base_uri": "https://localhost:8080/"
        },
        "id": "jBKhW3lDIfe5",
        "outputId": "0cb76249-c802-49f7-9e2b-4c26c9db666e"
      },
      "execution_count": 41,
      "outputs": [
        {
          "output_type": "execute_result",
          "data": {
            "text/plain": [
              "array([False, False,  True, False, False])"
            ]
          },
          "metadata": {},
          "execution_count": 41
        }
      ]
    },
    {
      "cell_type": "code",
      "source": [
        "np.nan_to_num(e,nan=500) # Replacing NULL values"
      ],
      "metadata": {
        "colab": {
          "base_uri": "https://localhost:8080/"
        },
        "id": "SY9dfcnIIjMF",
        "outputId": "2231c45b-c7a9-4b97-d2fb-a610ae086f12"
      },
      "execution_count": 43,
      "outputs": [
        {
          "output_type": "execute_result",
          "data": {
            "text/plain": [
              "array([  1.,   2., 500.,   4.,   5.])"
            ]
          },
          "metadata": {},
          "execution_count": 43
        }
      ]
    },
    {
      "cell_type": "code",
      "source": [
        "f = np.array([1,np.inf,-np.inf,5,8])"
      ],
      "metadata": {
        "id": "vTtMBRBFKKps"
      },
      "execution_count": 48,
      "outputs": []
    },
    {
      "cell_type": "code",
      "source": [
        "np.isinf(f)"
      ],
      "metadata": {
        "colab": {
          "base_uri": "https://localhost:8080/"
        },
        "id": "_N2VYKI8KaL8",
        "outputId": "c785aed6-6b4e-4db9-9a89-4c7b0fa93ab5"
      },
      "execution_count": 49,
      "outputs": [
        {
          "output_type": "execute_result",
          "data": {
            "text/plain": [
              "array([False,  True,  True, False, False])"
            ]
          },
          "metadata": {},
          "execution_count": 49
        }
      ]
    },
    {
      "cell_type": "code",
      "source": [
        "np.nan_to_num(f,posinf=5,neginf=-5)"
      ],
      "metadata": {
        "colab": {
          "base_uri": "https://localhost:8080/"
        },
        "id": "Mv-a0jz-LFFs",
        "outputId": "4f40056e-a2ff-4ddb-a23a-c0345f1ce090"
      },
      "execution_count": 50,
      "outputs": [
        {
          "output_type": "execute_result",
          "data": {
            "text/plain": [
              "array([ 1.,  5., -5.,  5.,  8.])"
            ]
          },
          "metadata": {},
          "execution_count": 50
        }
      ]
    }
  ]
}
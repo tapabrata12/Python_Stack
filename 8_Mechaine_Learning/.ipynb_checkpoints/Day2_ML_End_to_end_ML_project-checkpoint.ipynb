{
 "cells": [
  {
   "cell_type": "markdown",
   "metadata": {
    "id": "pGdb6ri3-939"
   },
   "source": [
    "# Regression\n",
    "\n",
    "Here we are implementing regression in few steps\n",
    "\n",
    "- Data pre-proccessing + EDA + Feature Selection\n",
    "- Extract Input and output columns\n",
    "- Scale the values\n",
    "- Train test split\n",
    "- Model training\n",
    "- Evalute model / Model selection\n",
    "- Deploy the model"
   ]
  },
  {
   "cell_type": "markdown",
   "metadata": {
    "id": "g0qazo1xAQs0"
   },
   "source": [
    "# Data Pre-proccessing"
   ]
  },
  {
   "cell_type": "markdown",
   "metadata": {
    "id": "vdcJJ01nA2-K"
   },
   "source": [
    "- Importing dataset"
   ]
  },
  {
   "cell_type": "code",
   "execution_count": 104,
   "metadata": {},
   "outputs": [],
   "source": [
    "# !pip install pandas"
   ]
  },
  {
   "cell_type": "code",
   "execution_count": 105,
   "metadata": {
    "id": "q3WGk9APAa13"
   },
   "outputs": [],
   "source": [
    "import pandas as pd\n",
    "from pathlib import Path\n",
    "dir = Path(__name__).parent.absolute()"
   ]
  },
  {
   "cell_type": "code",
   "execution_count": 106,
   "metadata": {},
   "outputs": [
    {
     "data": {
      "text/plain": [
       "WindowsPath('D:/Python/Mechaine Learning')"
      ]
     },
     "execution_count": 106,
     "metadata": {},
     "output_type": "execute_result"
    }
   ],
   "source": [
    "dir"
   ]
  },
  {
   "cell_type": "code",
   "execution_count": 107,
   "metadata": {},
   "outputs": [],
   "source": [
    "dataset = pd.read_csv(str(dir)+'/Datasets/placement.csv')"
   ]
  },
  {
   "cell_type": "markdown",
   "metadata": {
    "id": "Aj7_GP7JA772"
   },
   "source": [
    "- Seeing the data"
   ]
  },
  {
   "cell_type": "code",
   "execution_count": 109,
   "metadata": {
    "colab": {
     "base_uri": "https://localhost:8080/",
     "height": 424
    },
    "id": "JlOfb4t_BAXI",
    "outputId": "dd3e685f-c429-4c1a-c1ca-7569c3097430"
   },
   "outputs": [
    {
     "data": {
      "text/html": [
       "<div>\n",
       "<style scoped>\n",
       "    .dataframe tbody tr th:only-of-type {\n",
       "        vertical-align: middle;\n",
       "    }\n",
       "\n",
       "    .dataframe tbody tr th {\n",
       "        vertical-align: top;\n",
       "    }\n",
       "\n",
       "    .dataframe thead th {\n",
       "        text-align: right;\n",
       "    }\n",
       "</style>\n",
       "<table border=\"1\" class=\"dataframe\">\n",
       "  <thead>\n",
       "    <tr style=\"text-align: right;\">\n",
       "      <th></th>\n",
       "      <th>Unnamed: 0</th>\n",
       "      <th>cgpa</th>\n",
       "      <th>iq</th>\n",
       "      <th>placement</th>\n",
       "    </tr>\n",
       "  </thead>\n",
       "  <tbody>\n",
       "    <tr>\n",
       "      <th>0</th>\n",
       "      <td>0</td>\n",
       "      <td>6.8</td>\n",
       "      <td>123.0</td>\n",
       "      <td>1</td>\n",
       "    </tr>\n",
       "    <tr>\n",
       "      <th>1</th>\n",
       "      <td>1</td>\n",
       "      <td>5.9</td>\n",
       "      <td>106.0</td>\n",
       "      <td>0</td>\n",
       "    </tr>\n",
       "    <tr>\n",
       "      <th>2</th>\n",
       "      <td>2</td>\n",
       "      <td>5.3</td>\n",
       "      <td>121.0</td>\n",
       "      <td>0</td>\n",
       "    </tr>\n",
       "    <tr>\n",
       "      <th>3</th>\n",
       "      <td>3</td>\n",
       "      <td>7.4</td>\n",
       "      <td>132.0</td>\n",
       "      <td>1</td>\n",
       "    </tr>\n",
       "    <tr>\n",
       "      <th>4</th>\n",
       "      <td>4</td>\n",
       "      <td>5.8</td>\n",
       "      <td>142.0</td>\n",
       "      <td>0</td>\n",
       "    </tr>\n",
       "    <tr>\n",
       "      <th>...</th>\n",
       "      <td>...</td>\n",
       "      <td>...</td>\n",
       "      <td>...</td>\n",
       "      <td>...</td>\n",
       "    </tr>\n",
       "    <tr>\n",
       "      <th>95</th>\n",
       "      <td>95</td>\n",
       "      <td>4.3</td>\n",
       "      <td>200.0</td>\n",
       "      <td>0</td>\n",
       "    </tr>\n",
       "    <tr>\n",
       "      <th>96</th>\n",
       "      <td>96</td>\n",
       "      <td>4.4</td>\n",
       "      <td>42.0</td>\n",
       "      <td>0</td>\n",
       "    </tr>\n",
       "    <tr>\n",
       "      <th>97</th>\n",
       "      <td>97</td>\n",
       "      <td>6.7</td>\n",
       "      <td>182.0</td>\n",
       "      <td>1</td>\n",
       "    </tr>\n",
       "    <tr>\n",
       "      <th>98</th>\n",
       "      <td>98</td>\n",
       "      <td>6.3</td>\n",
       "      <td>103.0</td>\n",
       "      <td>1</td>\n",
       "    </tr>\n",
       "    <tr>\n",
       "      <th>99</th>\n",
       "      <td>99</td>\n",
       "      <td>6.2</td>\n",
       "      <td>113.0</td>\n",
       "      <td>1</td>\n",
       "    </tr>\n",
       "  </tbody>\n",
       "</table>\n",
       "<p>100 rows × 4 columns</p>\n",
       "</div>"
      ],
      "text/plain": [
       "    Unnamed: 0  cgpa     iq  placement\n",
       "0            0   6.8  123.0          1\n",
       "1            1   5.9  106.0          0\n",
       "2            2   5.3  121.0          0\n",
       "3            3   7.4  132.0          1\n",
       "4            4   5.8  142.0          0\n",
       "..         ...   ...    ...        ...\n",
       "95          95   4.3  200.0          0\n",
       "96          96   4.4   42.0          0\n",
       "97          97   6.7  182.0          1\n",
       "98          98   6.3  103.0          1\n",
       "99          99   6.2  113.0          1\n",
       "\n",
       "[100 rows x 4 columns]"
      ]
     },
     "execution_count": 109,
     "metadata": {},
     "output_type": "execute_result"
    }
   ],
   "source": [
    "dataset"
   ]
  },
  {
   "cell_type": "markdown",
   "metadata": {
    "id": "6wFQaneICEF4"
   },
   "source": [
    "- Selecting nececery columns"
   ]
  },
  {
   "cell_type": "code",
   "execution_count": 111,
   "metadata": {
    "colab": {
     "base_uri": "https://localhost:8080/",
     "height": 424
    },
    "id": "UgVaJnD2CKc3",
    "outputId": "6a79ce82-0eb6-4bae-f0ca-ea4525f606c2"
   },
   "outputs": [
    {
     "data": {
      "text/html": [
       "<div>\n",
       "<style scoped>\n",
       "    .dataframe tbody tr th:only-of-type {\n",
       "        vertical-align: middle;\n",
       "    }\n",
       "\n",
       "    .dataframe tbody tr th {\n",
       "        vertical-align: top;\n",
       "    }\n",
       "\n",
       "    .dataframe thead th {\n",
       "        text-align: right;\n",
       "    }\n",
       "</style>\n",
       "<table border=\"1\" class=\"dataframe\">\n",
       "  <thead>\n",
       "    <tr style=\"text-align: right;\">\n",
       "      <th></th>\n",
       "      <th>cgpa</th>\n",
       "      <th>iq</th>\n",
       "      <th>placement</th>\n",
       "    </tr>\n",
       "  </thead>\n",
       "  <tbody>\n",
       "    <tr>\n",
       "      <th>0</th>\n",
       "      <td>6.8</td>\n",
       "      <td>123.0</td>\n",
       "      <td>1</td>\n",
       "    </tr>\n",
       "    <tr>\n",
       "      <th>1</th>\n",
       "      <td>5.9</td>\n",
       "      <td>106.0</td>\n",
       "      <td>0</td>\n",
       "    </tr>\n",
       "    <tr>\n",
       "      <th>2</th>\n",
       "      <td>5.3</td>\n",
       "      <td>121.0</td>\n",
       "      <td>0</td>\n",
       "    </tr>\n",
       "    <tr>\n",
       "      <th>3</th>\n",
       "      <td>7.4</td>\n",
       "      <td>132.0</td>\n",
       "      <td>1</td>\n",
       "    </tr>\n",
       "    <tr>\n",
       "      <th>4</th>\n",
       "      <td>5.8</td>\n",
       "      <td>142.0</td>\n",
       "      <td>0</td>\n",
       "    </tr>\n",
       "    <tr>\n",
       "      <th>...</th>\n",
       "      <td>...</td>\n",
       "      <td>...</td>\n",
       "      <td>...</td>\n",
       "    </tr>\n",
       "    <tr>\n",
       "      <th>95</th>\n",
       "      <td>4.3</td>\n",
       "      <td>200.0</td>\n",
       "      <td>0</td>\n",
       "    </tr>\n",
       "    <tr>\n",
       "      <th>96</th>\n",
       "      <td>4.4</td>\n",
       "      <td>42.0</td>\n",
       "      <td>0</td>\n",
       "    </tr>\n",
       "    <tr>\n",
       "      <th>97</th>\n",
       "      <td>6.7</td>\n",
       "      <td>182.0</td>\n",
       "      <td>1</td>\n",
       "    </tr>\n",
       "    <tr>\n",
       "      <th>98</th>\n",
       "      <td>6.3</td>\n",
       "      <td>103.0</td>\n",
       "      <td>1</td>\n",
       "    </tr>\n",
       "    <tr>\n",
       "      <th>99</th>\n",
       "      <td>6.2</td>\n",
       "      <td>113.0</td>\n",
       "      <td>1</td>\n",
       "    </tr>\n",
       "  </tbody>\n",
       "</table>\n",
       "<p>100 rows × 3 columns</p>\n",
       "</div>"
      ],
      "text/plain": [
       "    cgpa     iq  placement\n",
       "0    6.8  123.0          1\n",
       "1    5.9  106.0          0\n",
       "2    5.3  121.0          0\n",
       "3    7.4  132.0          1\n",
       "4    5.8  142.0          0\n",
       "..   ...    ...        ...\n",
       "95   4.3  200.0          0\n",
       "96   4.4   42.0          0\n",
       "97   6.7  182.0          1\n",
       "98   6.3  103.0          1\n",
       "99   6.2  113.0          1\n",
       "\n",
       "[100 rows x 3 columns]"
      ]
     },
     "execution_count": 111,
     "metadata": {},
     "output_type": "execute_result"
    }
   ],
   "source": [
    "df = dataset.iloc[:,1:]\n",
    "df"
   ]
  },
  {
   "cell_type": "markdown",
   "metadata": {
    "id": "qiqCs5OVCfJv"
   },
   "source": [
    "### Visualizing Data"
   ]
  },
  {
   "cell_type": "code",
   "execution_count": 113,
   "metadata": {},
   "outputs": [],
   "source": [
    "# !pip install matplotlib"
   ]
  },
  {
   "cell_type": "code",
   "execution_count": 114,
   "metadata": {
    "colab": {
     "base_uri": "https://localhost:8080/",
     "height": 430
    },
    "id": "tCIGe7XLCiZp",
    "outputId": "3f1c9540-d65c-4e37-cb77-8ff0fe60b3a2"
   },
   "outputs": [
    {
     "data": {
      "image/png": "[encoded data removed]",
      "text/plain": [
       "<Figure size 640x480 with 1 Axes>"
      ]
     },
     "metadata": {},
     "output_type": "display_data"
    }
   ],
   "source": [
    "import matplotlib.pyplot as plt\n",
    "\n",
    "plt.scatter(df['cgpa'],df['iq'])\n",
    "plt.show()"
   ]
  },
  {
   "cell_type": "markdown",
   "metadata": {
    "id": "4nMoX9_nDv5U"
   },
   "source": [
    "- Colour cotting the Placement values"
   ]
  },
  {
   "cell_type": "code",
   "execution_count": 116,
   "metadata": {
    "colab": {
     "base_uri": "https://localhost:8080/",
     "height": 430
    },
    "id": "SOh2wEVrD1na",
    "outputId": "c250f45e-d957-4984-fd22-d8205a1e0461"
   },
   "outputs": [
    {
     "data": {
      "image/png": "[encoded data removed]",
      "text/plain": [
       "<Figure size 640x480 with 1 Axes>"
      ]
     },
     "metadata": {},
     "output_type": "display_data"
    }
   ],
   "source": [
    "plt.scatter(df['cgpa'],df['iq'],c=df['placement'])\n",
    "plt.show()"
   ]
  },
  {
   "cell_type": "markdown",
   "metadata": {
    "id": "Og0kEr-QHQLD"
   },
   "source": [
    "# Training\n",
    "\n",
    "Here I shall use Linear regression at first then I shall use Logistic regression"
   ]
  },
  {
   "cell_type": "markdown",
   "metadata": {
    "id": "_Z5p1CHoIqk9"
   },
   "source": [
    "- Extracting nececery columns"
   ]
  },
  {
   "cell_type": "code",
   "execution_count": 119,
   "metadata": {
    "colab": {
     "base_uri": "https://localhost:8080/",
     "height": 424
    },
    "id": "i2OqvuNKIwGb",
    "outputId": "31834d54-e994-48ee-d7ca-e166199aa45b"
   },
   "outputs": [
    {
     "data": {
      "text/html": [
       "<div>\n",
       "<style scoped>\n",
       "    .dataframe tbody tr th:only-of-type {\n",
       "        vertical-align: middle;\n",
       "    }\n",
       "\n",
       "    .dataframe tbody tr th {\n",
       "        vertical-align: top;\n",
       "    }\n",
       "\n",
       "    .dataframe thead th {\n",
       "        text-align: right;\n",
       "    }\n",
       "</style>\n",
       "<table border=\"1\" class=\"dataframe\">\n",
       "  <thead>\n",
       "    <tr style=\"text-align: right;\">\n",
       "      <th></th>\n",
       "      <th>cgpa</th>\n",
       "      <th>iq</th>\n",
       "    </tr>\n",
       "  </thead>\n",
       "  <tbody>\n",
       "    <tr>\n",
       "      <th>0</th>\n",
       "      <td>6.8</td>\n",
       "      <td>123.0</td>\n",
       "    </tr>\n",
       "    <tr>\n",
       "      <th>1</th>\n",
       "      <td>5.9</td>\n",
       "      <td>106.0</td>\n",
       "    </tr>\n",
       "    <tr>\n",
       "      <th>2</th>\n",
       "      <td>5.3</td>\n",
       "      <td>121.0</td>\n",
       "    </tr>\n",
       "    <tr>\n",
       "      <th>3</th>\n",
       "      <td>7.4</td>\n",
       "      <td>132.0</td>\n",
       "    </tr>\n",
       "    <tr>\n",
       "      <th>4</th>\n",
       "      <td>5.8</td>\n",
       "      <td>142.0</td>\n",
       "    </tr>\n",
       "    <tr>\n",
       "      <th>...</th>\n",
       "      <td>...</td>\n",
       "      <td>...</td>\n",
       "    </tr>\n",
       "    <tr>\n",
       "      <th>95</th>\n",
       "      <td>4.3</td>\n",
       "      <td>200.0</td>\n",
       "    </tr>\n",
       "    <tr>\n",
       "      <th>96</th>\n",
       "      <td>4.4</td>\n",
       "      <td>42.0</td>\n",
       "    </tr>\n",
       "    <tr>\n",
       "      <th>97</th>\n",
       "      <td>6.7</td>\n",
       "      <td>182.0</td>\n",
       "    </tr>\n",
       "    <tr>\n",
       "      <th>98</th>\n",
       "      <td>6.3</td>\n",
       "      <td>103.0</td>\n",
       "    </tr>\n",
       "    <tr>\n",
       "      <th>99</th>\n",
       "      <td>6.2</td>\n",
       "      <td>113.0</td>\n",
       "    </tr>\n",
       "  </tbody>\n",
       "</table>\n",
       "<p>100 rows × 2 columns</p>\n",
       "</div>"
      ],
      "text/plain": [
       "    cgpa     iq\n",
       "0    6.8  123.0\n",
       "1    5.9  106.0\n",
       "2    5.3  121.0\n",
       "3    7.4  132.0\n",
       "4    5.8  142.0\n",
       "..   ...    ...\n",
       "95   4.3  200.0\n",
       "96   4.4   42.0\n",
       "97   6.7  182.0\n",
       "98   6.3  103.0\n",
       "99   6.2  113.0\n",
       "\n",
       "[100 rows x 2 columns]"
      ]
     },
     "execution_count": 119,
     "metadata": {},
     "output_type": "execute_result"
    }
   ],
   "source": [
    "X = df.iloc[:,0:2]\n",
    "X"
   ]
  },
  {
   "cell_type": "code",
   "execution_count": 120,
   "metadata": {
    "colab": {
     "base_uri": "https://localhost:8080/",
     "height": 458
    },
    "id": "KTQoDoMJI3FC",
    "outputId": "c8f38b5c-1a0a-4556-b16c-bf7ad3d8f856"
   },
   "outputs": [
    {
     "data": {
      "text/plain": [
       "0     1\n",
       "1     0\n",
       "2     0\n",
       "3     1\n",
       "4     0\n",
       "     ..\n",
       "95    0\n",
       "96    0\n",
       "97    1\n",
       "98    1\n",
       "99    1\n",
       "Name: placement, Length: 100, dtype: int64"
      ]
     },
     "execution_count": 120,
     "metadata": {},
     "output_type": "execute_result"
    }
   ],
   "source": [
    "Y = df.iloc[:,-1]\n",
    "Y"
   ]
  },
  {
   "cell_type": "markdown",
   "metadata": {
    "id": "X4DgaICZOCCW"
   },
   "source": [
    "- Splitting the training and the Testing Dataset"
   ]
  },
  {
   "cell_type": "code",
   "execution_count": 122,
   "metadata": {},
   "outputs": [
    {
     "name": "stdout",
     "output_type": "stream",
     "text": [
      "Collecting scikit-learn\n",
      "  Using cached scikit_learn-1.6.1-cp313-cp313-win_amd64.whl.metadata (15 kB)\n",
      "Requirement already satisfied: numpy>=1.19.5 in c:\\users\\youca\\anaconda3\\envs\\ml\\lib\\site-packages (from scikit-learn) (2.2.5)\n",
      "Collecting scipy>=1.6.0 (from scikit-learn)\n",
      "  Using cached scipy-1.15.2-cp313-cp313-win_amd64.whl.metadata (60 kB)\n",
      "Collecting joblib>=1.2.0 (from scikit-learn)\n",
      "  Using cached joblib-1.4.2-py3-none-any.whl.metadata (5.4 kB)\n",
      "Collecting threadpoolctl>=3.1.0 (from scikit-learn)\n",
      "  Using cached threadpoolctl-3.6.0-py3-none-any.whl.metadata (13 kB)\n",
      "Using cached scikit_learn-1.6.1-cp313-cp313-win_amd64.whl (11.1 MB)\n",
      "Using cached joblib-1.4.2-py3-none-any.whl (301 kB)\n",
      "Downloading scipy-1.15.2-cp313-cp313-win_amd64.whl (41.0 MB)\n",
      "   ---------------------------------------- 0.0/41.0 MB ? eta -:--:--\n",
      "   ---------------------------------------- 0.3/41.0 MB ? eta -:--:--\n",
      "    --------------------------------------- 0.8/41.0 MB 2.0 MB/s eta 0:00:21\n",
      "   - -------------------------------------- 1.0/41.0 MB 1.9 MB/s eta 0:00:21\n",
      "   - -------------------------------------- 1.6/41.0 MB 2.0 MB/s eta 0:00:21\n",
      "   - -------------------------------------- 1.8/41.0 MB 2.0 MB/s eta 0:00:20\n",
      "   -- ------------------------------------- 2.4/41.0 MB 2.0 MB/s eta 0:00:20\n",
      "   -- ------------------------------------- 2.6/41.0 MB 2.0 MB/s eta 0:00:20\n",
      "   --- ------------------------------------ 3.1/41.0 MB 2.0 MB/s eta 0:00:20\n",
      "   --- ------------------------------------ 3.7/41.0 MB 2.0 MB/s eta 0:00:19\n",
      "   --- ------------------------------------ 3.9/41.0 MB 2.0 MB/s eta 0:00:19\n",
      "   ---- ----------------------------------- 4.5/41.0 MB 2.0 MB/s eta 0:00:19\n",
      "   ---- ----------------------------------- 5.0/41.0 MB 2.0 MB/s eta 0:00:18\n",
      "   ----- ---------------------------------- 5.5/41.0 MB 2.1 MB/s eta 0:00:18\n",
      "   ----- ---------------------------------- 5.8/41.0 MB 2.1 MB/s eta 0:00:18\n",
      "   ------ --------------------------------- 6.6/41.0 MB 2.1 MB/s eta 0:00:17\n",
      "   ------ --------------------------------- 7.1/41.0 MB 2.2 MB/s eta 0:00:16\n",
      "   ------- -------------------------------- 7.6/41.0 MB 2.2 MB/s eta 0:00:16\n",
      "   ------- -------------------------------- 8.1/41.0 MB 2.2 MB/s eta 0:00:15\n",
      "   -------- ------------------------------- 8.7/41.0 MB 2.2 MB/s eta 0:00:15\n",
      "   -------- ------------------------------- 9.2/41.0 MB 2.3 MB/s eta 0:00:15\n",
      "   --------- ------------------------------ 9.7/41.0 MB 2.3 MB/s eta 0:00:14\n",
      "   --------- ------------------------------ 10.2/41.0 MB 2.3 MB/s eta 0:00:14\n",
      "   ---------- ----------------------------- 10.7/41.0 MB 2.3 MB/s eta 0:00:14\n",
      "   ----------- ---------------------------- 11.3/41.0 MB 2.3 MB/s eta 0:00:13\n",
      "   ----------- ---------------------------- 11.8/41.0 MB 2.3 MB/s eta 0:00:13\n",
      "   ------------ --------------------------- 12.3/41.0 MB 2.3 MB/s eta 0:00:13\n",
      "   ------------ --------------------------- 12.8/41.0 MB 2.3 MB/s eta 0:00:13\n",
      "   ------------- -------------------------- 13.4/41.0 MB 2.3 MB/s eta 0:00:12\n",
      "   ------------- -------------------------- 13.9/41.0 MB 2.3 MB/s eta 0:00:12\n",
      "   -------------- ------------------------- 14.4/41.0 MB 2.4 MB/s eta 0:00:12\n",
      "   -------------- ------------------------- 14.9/41.0 MB 2.4 MB/s eta 0:00:12\n",
      "   --------------- ------------------------ 15.5/41.0 MB 2.4 MB/s eta 0:00:11\n",
      "   --------------- ------------------------ 16.0/41.0 MB 2.4 MB/s eta 0:00:11\n",
      "   ---------------- ----------------------- 16.5/41.0 MB 2.4 MB/s eta 0:00:11\n",
      "   ---------------- ----------------------- 17.0/41.0 MB 2.4 MB/s eta 0:00:11\n",
      "   ----------------- ---------------------- 17.6/41.0 MB 2.4 MB/s eta 0:00:10\n",
      "   ----------------- ---------------------- 18.1/41.0 MB 2.4 MB/s eta 0:00:10\n",
      "   ------------------ --------------------- 18.6/41.0 MB 2.4 MB/s eta 0:00:10\n",
      "   ------------------ --------------------- 19.1/41.0 MB 2.4 MB/s eta 0:00:10\n",
      "   ------------------- -------------------- 19.7/41.0 MB 2.4 MB/s eta 0:00:09\n",
      "   ------------------- -------------------- 20.2/41.0 MB 2.4 MB/s eta 0:00:09\n",
      "   -------------------- ------------------- 20.7/41.0 MB 2.4 MB/s eta 0:00:09\n",
      "   -------------------- ------------------- 21.2/41.0 MB 2.4 MB/s eta 0:00:09\n",
      "   --------------------- ------------------ 21.8/41.0 MB 2.4 MB/s eta 0:00:08\n",
      "   --------------------- ------------------ 22.3/41.0 MB 2.4 MB/s eta 0:00:08\n",
      "   ---------------------- ----------------- 22.8/41.0 MB 2.4 MB/s eta 0:00:08\n",
      "   ---------------------- ----------------- 23.3/41.0 MB 2.4 MB/s eta 0:00:08\n",
      "   ----------------------- ---------------- 23.9/41.0 MB 2.4 MB/s eta 0:00:08\n",
      "   ----------------------- ---------------- 24.4/41.0 MB 2.4 MB/s eta 0:00:07\n",
      "   ------------------------ --------------- 24.9/41.0 MB 2.4 MB/s eta 0:00:07\n",
      "   ------------------------ --------------- 25.4/41.0 MB 2.4 MB/s eta 0:00:07\n",
      "   ------------------------- -------------- 25.7/41.0 MB 2.4 MB/s eta 0:00:07\n",
      "   ------------------------- -------------- 26.2/41.0 MB 2.4 MB/s eta 0:00:07\n",
      "   -------------------------- ------------- 26.7/41.0 MB 2.4 MB/s eta 0:00:06\n",
      "   -------------------------- ------------- 27.3/41.0 MB 2.4 MB/s eta 0:00:06\n",
      "   --------------------------- ------------ 27.8/41.0 MB 2.4 MB/s eta 0:00:06\n",
      "   --------------------------- ------------ 28.3/41.0 MB 2.4 MB/s eta 0:00:06\n",
      "   ---------------------------- ----------- 28.8/41.0 MB 2.4 MB/s eta 0:00:05\n",
      "   ---------------------------- ----------- 29.4/41.0 MB 2.4 MB/s eta 0:00:05\n",
      "   ----------------------------- ---------- 29.9/41.0 MB 2.4 MB/s eta 0:00:05\n",
      "   ----------------------------- ---------- 30.4/41.0 MB 2.4 MB/s eta 0:00:05\n",
      "   ------------------------------ --------- 30.9/41.0 MB 2.4 MB/s eta 0:00:05\n",
      "   ------------------------------ --------- 31.5/41.0 MB 2.4 MB/s eta 0:00:04\n",
      "   ------------------------------- -------- 32.0/41.0 MB 2.4 MB/s eta 0:00:04\n",
      "   ------------------------------- -------- 32.5/41.0 MB 2.4 MB/s eta 0:00:04\n",
      "   -------------------------------- ------- 33.0/41.0 MB 2.4 MB/s eta 0:00:04\n",
      "   -------------------------------- ------- 33.6/41.0 MB 2.5 MB/s eta 0:00:04\n",
      "   --------------------------------- ------ 34.3/41.0 MB 2.5 MB/s eta 0:00:03\n",
      "   --------------------------------- ------ 34.6/41.0 MB 2.5 MB/s eta 0:00:03\n",
      "   ---------------------------------- ----- 35.1/41.0 MB 2.5 MB/s eta 0:00:03\n",
      "   ---------------------------------- ----- 35.7/41.0 MB 2.4 MB/s eta 0:00:03\n",
      "   ----------------------------------- ---- 36.2/41.0 MB 2.4 MB/s eta 0:00:02\n",
      "   ----------------------------------- ---- 36.4/41.0 MB 2.4 MB/s eta 0:00:02\n",
      "   ------------------------------------ --- 37.0/41.0 MB 2.4 MB/s eta 0:00:02\n",
      "   ------------------------------------ --- 37.5/41.0 MB 2.4 MB/s eta 0:00:02\n",
      "   ------------------------------------- -- 38.0/41.0 MB 2.4 MB/s eta 0:00:02\n",
      "   ------------------------------------- -- 38.5/41.0 MB 2.4 MB/s eta 0:00:01\n",
      "   -------------------------------------- - 39.1/41.0 MB 2.4 MB/s eta 0:00:01\n",
      "   -------------------------------------- - 39.6/41.0 MB 2.4 MB/s eta 0:00:01\n",
      "   ---------------------------------------  40.1/41.0 MB 2.4 MB/s eta 0:00:01\n",
      "   ---------------------------------------  40.6/41.0 MB 2.5 MB/s eta 0:00:01\n",
      "   ---------------------------------------- 41.0/41.0 MB 2.4 MB/s eta 0:00:00\n",
      "Downloading threadpoolctl-3.6.0-py3-none-any.whl (18 kB)\n",
      "Installing collected packages: threadpoolctl, scipy, joblib, scikit-learn\n",
      "Successfully installed joblib-1.4.2 scikit-learn-1.6.1 scipy-1.15.2 threadpoolctl-3.6.0\n"
     ]
    }
   ],
   "source": [
    "!pip install scikit-learn"
   ]
  },
  {
   "cell_type": "code",
   "execution_count": 123,
   "metadata": {
    "colab": {
     "base_uri": "https://localhost:8080/"
    },
    "id": "-kdN07R3OIHu",
    "outputId": "68ce6362-c7a9-4850-a7d0-4acc9deafebf"
   },
   "outputs": [
    {
     "data": {
      "text/plain": [
       "[    cgpa     iq\n",
       " 33   6.0  149.0\n",
       " 73   4.9   61.0\n",
       " 84   5.7  169.0\n",
       " 71   6.1  132.0\n",
       " 50   3.5  233.0\n",
       " ..   ...    ...\n",
       " 60   6.9  139.0\n",
       " 83   7.5  130.0\n",
       " 90   7.3   86.0\n",
       " 1    5.9  106.0\n",
       " 27   6.0  124.0\n",
       " \n",
       " [80 rows x 2 columns],\n",
       "     cgpa     iq\n",
       " 94   4.7   52.0\n",
       " 97   6.7  182.0\n",
       " 56   6.1   65.0\n",
       " 78   6.1   81.0\n",
       " 37   8.1  149.0\n",
       " 86   5.1  128.0\n",
       " 77   7.3   50.0\n",
       " 43   6.8  141.0\n",
       " 41   5.4  114.0\n",
       " 36   5.7  140.0\n",
       " 25   5.0   91.0\n",
       " 79   6.5   90.0\n",
       " 18   4.0  100.0\n",
       " 45   6.0   66.0\n",
       " 9    5.1   66.0\n",
       " 62   6.0  102.0\n",
       " 85   5.8  166.0\n",
       " 46   5.3  114.0\n",
       " 35   6.8   90.0\n",
       " 91   7.5  158.0,\n",
       " 33    0\n",
       " 73    0\n",
       " 84    0\n",
       " 71    1\n",
       " 50    0\n",
       "      ..\n",
       " 60    1\n",
       " 83    1\n",
       " 90    1\n",
       " 1     0\n",
       " 27    1\n",
       " Name: placement, Length: 80, dtype: int64,\n",
       " 94    0\n",
       " 97    1\n",
       " 56    0\n",
       " 78    0\n",
       " 37    1\n",
       " 86    0\n",
       " 77    1\n",
       " 43    1\n",
       " 41    0\n",
       " 36    0\n",
       " 25    0\n",
       " 79    1\n",
       " 18    0\n",
       " 45    1\n",
       " 9     0\n",
       " 62    0\n",
       " 85    1\n",
       " 46    0\n",
       " 35    1\n",
       " 91    1\n",
       " Name: placement, dtype: int64]"
      ]
     },
     "execution_count": 123,
     "metadata": {},
     "output_type": "execute_result"
    }
   ],
   "source": [
    "from sklearn.model_selection import train_test_split\n",
    "\n",
    "train_test_split(X,Y,test_size=0.2)"
   ]
  },
  {
   "cell_type": "code",
   "execution_count": 124,
   "metadata": {
    "id": "SbSWXEJPZZO-"
   },
   "outputs": [],
   "source": [
    "X_train,X_test,Y_train,Y_test = train_test_split(X,Y,test_size=0.2)"
   ]
  },
  {
   "cell_type": "code",
   "execution_count": 125,
   "metadata": {
    "colab": {
     "base_uri": "https://localhost:8080/",
     "height": 424
    },
    "id": "d3rcwi4EZkIy",
    "outputId": "da6b02ee-5f31-40a4-c9aa-70a9efd64506"
   },
   "outputs": [
    {
     "data": {
      "text/html": [
       "<div>\n",
       "<style scoped>\n",
       "    .dataframe tbody tr th:only-of-type {\n",
       "        vertical-align: middle;\n",
       "    }\n",
       "\n",
       "    .dataframe tbody tr th {\n",
       "        vertical-align: top;\n",
       "    }\n",
       "\n",
       "    .dataframe thead th {\n",
       "        text-align: right;\n",
       "    }\n",
       "</style>\n",
       "<table border=\"1\" class=\"dataframe\">\n",
       "  <thead>\n",
       "    <tr style=\"text-align: right;\">\n",
       "      <th></th>\n",
       "      <th>cgpa</th>\n",
       "      <th>iq</th>\n",
       "    </tr>\n",
       "  </thead>\n",
       "  <tbody>\n",
       "    <tr>\n",
       "      <th>6</th>\n",
       "      <td>5.7</td>\n",
       "      <td>143.0</td>\n",
       "    </tr>\n",
       "    <tr>\n",
       "      <th>87</th>\n",
       "      <td>5.7</td>\n",
       "      <td>132.0</td>\n",
       "    </tr>\n",
       "    <tr>\n",
       "      <th>57</th>\n",
       "      <td>6.5</td>\n",
       "      <td>130.0</td>\n",
       "    </tr>\n",
       "    <tr>\n",
       "      <th>82</th>\n",
       "      <td>6.5</td>\n",
       "      <td>37.0</td>\n",
       "    </tr>\n",
       "    <tr>\n",
       "      <th>10</th>\n",
       "      <td>6.0</td>\n",
       "      <td>45.0</td>\n",
       "    </tr>\n",
       "    <tr>\n",
       "      <th>...</th>\n",
       "      <td>...</td>\n",
       "      <td>...</td>\n",
       "    </tr>\n",
       "    <tr>\n",
       "      <th>55</th>\n",
       "      <td>7.8</td>\n",
       "      <td>114.0</td>\n",
       "    </tr>\n",
       "    <tr>\n",
       "      <th>50</th>\n",
       "      <td>3.5</td>\n",
       "      <td>233.0</td>\n",
       "    </tr>\n",
       "    <tr>\n",
       "      <th>23</th>\n",
       "      <td>4.7</td>\n",
       "      <td>87.0</td>\n",
       "    </tr>\n",
       "    <tr>\n",
       "      <th>26</th>\n",
       "      <td>7.0</td>\n",
       "      <td>199.0</td>\n",
       "    </tr>\n",
       "    <tr>\n",
       "      <th>29</th>\n",
       "      <td>7.0</td>\n",
       "      <td>112.0</td>\n",
       "    </tr>\n",
       "  </tbody>\n",
       "</table>\n",
       "<p>80 rows × 2 columns</p>\n",
       "</div>"
      ],
      "text/plain": [
       "    cgpa     iq\n",
       "6    5.7  143.0\n",
       "87   5.7  132.0\n",
       "57   6.5  130.0\n",
       "82   6.5   37.0\n",
       "10   6.0   45.0\n",
       "..   ...    ...\n",
       "55   7.8  114.0\n",
       "50   3.5  233.0\n",
       "23   4.7   87.0\n",
       "26   7.0  199.0\n",
       "29   7.0  112.0\n",
       "\n",
       "[80 rows x 2 columns]"
      ]
     },
     "execution_count": 125,
     "metadata": {},
     "output_type": "execute_result"
    }
   ],
   "source": [
    "X_train"
   ]
  },
  {
   "cell_type": "code",
   "execution_count": 126,
   "metadata": {
    "colab": {
     "base_uri": "https://localhost:8080/",
     "height": 458
    },
    "id": "ATDCsoiYZmX4",
    "outputId": "dbfc1652-f99f-46cc-828c-bb767bfa79f1"
   },
   "outputs": [
    {
     "data": {
      "text/plain": [
       "6     0\n",
       "87    1\n",
       "57    1\n",
       "82    1\n",
       "10    1\n",
       "     ..\n",
       "55    1\n",
       "50    0\n",
       "23    0\n",
       "26    1\n",
       "29    1\n",
       "Name: placement, Length: 80, dtype: int64"
      ]
     },
     "execution_count": 126,
     "metadata": {},
     "output_type": "execute_result"
    }
   ],
   "source": [
    "Y_train"
   ]
  },
  {
   "cell_type": "code",
   "execution_count": 127,
   "metadata": {
    "colab": {
     "base_uri": "https://localhost:8080/",
     "height": 677
    },
    "id": "obOZYwUAZq-M",
    "outputId": "4db49966-f4c4-44e2-c0e7-f9f7d26998a9"
   },
   "outputs": [
    {
     "data": {
      "text/html": [
       "<div>\n",
       "<style scoped>\n",
       "    .dataframe tbody tr th:only-of-type {\n",
       "        vertical-align: middle;\n",
       "    }\n",
       "\n",
       "    .dataframe tbody tr th {\n",
       "        vertical-align: top;\n",
       "    }\n",
       "\n",
       "    .dataframe thead th {\n",
       "        text-align: right;\n",
       "    }\n",
       "</style>\n",
       "<table border=\"1\" class=\"dataframe\">\n",
       "  <thead>\n",
       "    <tr style=\"text-align: right;\">\n",
       "      <th></th>\n",
       "      <th>cgpa</th>\n",
       "      <th>iq</th>\n",
       "    </tr>\n",
       "  </thead>\n",
       "  <tbody>\n",
       "    <tr>\n",
       "      <th>11</th>\n",
       "      <td>6.9</td>\n",
       "      <td>138.0</td>\n",
       "    </tr>\n",
       "    <tr>\n",
       "      <th>58</th>\n",
       "      <td>8.0</td>\n",
       "      <td>79.0</td>\n",
       "    </tr>\n",
       "    <tr>\n",
       "      <th>17</th>\n",
       "      <td>3.3</td>\n",
       "      <td>183.0</td>\n",
       "    </tr>\n",
       "    <tr>\n",
       "      <th>7</th>\n",
       "      <td>5.0</td>\n",
       "      <td>63.0</td>\n",
       "    </tr>\n",
       "    <tr>\n",
       "      <th>64</th>\n",
       "      <td>7.0</td>\n",
       "      <td>64.0</td>\n",
       "    </tr>\n",
       "    <tr>\n",
       "      <th>33</th>\n",
       "      <td>6.0</td>\n",
       "      <td>149.0</td>\n",
       "    </tr>\n",
       "    <tr>\n",
       "      <th>39</th>\n",
       "      <td>4.6</td>\n",
       "      <td>146.0</td>\n",
       "    </tr>\n",
       "    <tr>\n",
       "      <th>22</th>\n",
       "      <td>4.9</td>\n",
       "      <td>120.0</td>\n",
       "    </tr>\n",
       "    <tr>\n",
       "      <th>63</th>\n",
       "      <td>6.3</td>\n",
       "      <td>128.0</td>\n",
       "    </tr>\n",
       "    <tr>\n",
       "      <th>19</th>\n",
       "      <td>5.2</td>\n",
       "      <td>132.0</td>\n",
       "    </tr>\n",
       "    <tr>\n",
       "      <th>2</th>\n",
       "      <td>5.3</td>\n",
       "      <td>121.0</td>\n",
       "    </tr>\n",
       "    <tr>\n",
       "      <th>69</th>\n",
       "      <td>8.5</td>\n",
       "      <td>120.0</td>\n",
       "    </tr>\n",
       "    <tr>\n",
       "      <th>28</th>\n",
       "      <td>5.2</td>\n",
       "      <td>90.0</td>\n",
       "    </tr>\n",
       "    <tr>\n",
       "      <th>41</th>\n",
       "      <td>5.4</td>\n",
       "      <td>114.0</td>\n",
       "    </tr>\n",
       "    <tr>\n",
       "      <th>81</th>\n",
       "      <td>5.4</td>\n",
       "      <td>107.0</td>\n",
       "    </tr>\n",
       "    <tr>\n",
       "      <th>49</th>\n",
       "      <td>5.4</td>\n",
       "      <td>135.0</td>\n",
       "    </tr>\n",
       "    <tr>\n",
       "      <th>85</th>\n",
       "      <td>5.8</td>\n",
       "      <td>166.0</td>\n",
       "    </tr>\n",
       "    <tr>\n",
       "      <th>71</th>\n",
       "      <td>6.1</td>\n",
       "      <td>132.0</td>\n",
       "    </tr>\n",
       "    <tr>\n",
       "      <th>35</th>\n",
       "      <td>6.8</td>\n",
       "      <td>90.0</td>\n",
       "    </tr>\n",
       "    <tr>\n",
       "      <th>95</th>\n",
       "      <td>4.3</td>\n",
       "      <td>200.0</td>\n",
       "    </tr>\n",
       "  </tbody>\n",
       "</table>\n",
       "</div>"
      ],
      "text/plain": [
       "    cgpa     iq\n",
       "11   6.9  138.0\n",
       "58   8.0   79.0\n",
       "17   3.3  183.0\n",
       "7    5.0   63.0\n",
       "64   7.0   64.0\n",
       "33   6.0  149.0\n",
       "39   4.6  146.0\n",
       "22   4.9  120.0\n",
       "63   6.3  128.0\n",
       "19   5.2  132.0\n",
       "2    5.3  121.0\n",
       "69   8.5  120.0\n",
       "28   5.2   90.0\n",
       "41   5.4  114.0\n",
       "81   5.4  107.0\n",
       "49   5.4  135.0\n",
       "85   5.8  166.0\n",
       "71   6.1  132.0\n",
       "35   6.8   90.0\n",
       "95   4.3  200.0"
      ]
     },
     "execution_count": 127,
     "metadata": {},
     "output_type": "execute_result"
    }
   ],
   "source": [
    "X_test"
   ]
  },
  {
   "cell_type": "code",
   "execution_count": 128,
   "metadata": {
    "colab": {
     "base_uri": "https://localhost:8080/",
     "height": 711
    },
    "id": "gjFimnDxZtMg",
    "outputId": "f62577cf-d42a-403f-8fb0-4b83dcff9e33"
   },
   "outputs": [
    {
     "data": {
      "text/plain": [
       "11    1\n",
       "58    1\n",
       "17    0\n",
       "7     0\n",
       "64    1\n",
       "33    0\n",
       "39    0\n",
       "22    0\n",
       "63    1\n",
       "19    0\n",
       "2     0\n",
       "69    1\n",
       "28    0\n",
       "41    0\n",
       "81    0\n",
       "49    0\n",
       "85    1\n",
       "71    1\n",
       "35    1\n",
       "95    0\n",
       "Name: placement, dtype: int64"
      ]
     },
     "execution_count": 128,
     "metadata": {},
     "output_type": "execute_result"
    }
   ],
   "source": [
    "Y_test"
   ]
  },
  {
   "cell_type": "markdown",
   "metadata": {
    "id": "hPHg4OlkoiKM"
   },
   "source": [
    "- Scaling the values"
   ]
  },
  {
   "cell_type": "code",
   "execution_count": 130,
   "metadata": {
    "id": "yCQHnsgro6PN"
   },
   "outputs": [],
   "source": [
    "from sklearn.preprocessing import StandardScaler\n",
    "\n",
    "scaler = StandardScaler()\n",
    "\n",
    "X_train = scaler.fit_transform(X_train)"
   ]
  },
  {
   "cell_type": "code",
   "execution_count": 131,
   "metadata": {
    "colab": {
     "base_uri": "https://localhost:8080/"
    },
    "id": "LJuX21qNpQsC",
    "outputId": "d746c6de-5a37-40e7-b2ef-9a85cfd1334f"
   },
   "outputs": [
    {
     "data": {
      "text/plain": [
       "array([[-0.31081814,  0.47744342],\n",
       "       [-0.31081814,  0.2079436 ],\n",
       "       [ 0.40731763,  0.15894364],\n",
       "       [ 0.40731763, -2.11955477],\n",
       "       [-0.04151722, -1.9235549 ],\n",
       "       [ 0.94591945,  0.67344328],\n",
       "       [-1.0289539 ,  0.25694357],\n",
       "       [ 1.30498734,  0.15894364],\n",
       "       [-0.22105117,  0.45294343],\n",
       "       [-1.11872087,  0.96744307],\n",
       "       [-0.66988602, -0.23305609],\n",
       "       [ 0.58685157,  1.43294275],\n",
       "       [ 1.39475431,  0.10994367],\n",
       "       [ 0.94591945, -1.85005495],\n",
       "       [ 0.58685157,  0.74694323],\n",
       "       [-0.04151722,  0.01194374],\n",
       "       [ 0.85615248,  1.26144287],\n",
       "       [ 0.40731763,  0.89394312],\n",
       "       [-0.93918693, -0.79655569],\n",
       "       [-0.75965299, -0.33105602],\n",
       "       [-1.11872087,  1.11444297],\n",
       "       [-1.83685664, -0.57605585],\n",
       "       [ 0.67661854,  0.42844345],\n",
       "       [ 0.31755066,  0.42844345],\n",
       "       [ 0.4970846 , -0.08605619],\n",
       "       [-1.0289539 , -1.53155518],\n",
       "       [-1.20848784, -1.75205502],\n",
       "       [-0.04151722, -1.40905526],\n",
       "       [ 0.04824975, -1.43355525],\n",
       "       [ 1.21522037,  0.2079436 ],\n",
       "       [ 1.1254534 , -1.80105499],\n",
       "       [ 0.22778369, -0.5025559 ],\n",
       "       [ 0.04824975,  0.79594319],\n",
       "       [-1.0289539 ,  0.67344328],\n",
       "       [ 1.84358916,  1.04094302],\n",
       "       [-1.20848784, -0.06155621],\n",
       "       [ 1.39475431, -0.84555566],\n",
       "       [-0.75965299,  2.46194203],\n",
       "       [-1.47778876,  0.62444331],\n",
       "       [-0.84941996,  0.10994367],\n",
       "       [-0.04151722, -0.52705588],\n",
       "       [ 0.04824975, -0.5025559 ],\n",
       "       [-1.47778876, -1.99705485],\n",
       "       [-0.93918693, -0.13505616],\n",
       "       [-0.75965299,  0.91844311],\n",
       "       [-1.11872087,  0.42844345],\n",
       "       [ 0.04824975, -1.04155552],\n",
       "       [ 1.30498734, -1.53155518],\n",
       "       [-1.92662361, -0.355556  ],\n",
       "       [ 0.67661854, -0.01255624],\n",
       "       [ 0.67661854, -0.28205605],\n",
       "       [-0.13128419, -0.42905595],\n",
       "       [-0.31081814,  1.11444297],\n",
       "       [-1.83685664, -1.18855542],\n",
       "       [ 0.31755066, -0.18405612],\n",
       "       [ 0.13801672, -0.25755607],\n",
       "       [ 1.30498734,  0.84494316],\n",
       "       [ 0.22778369,  0.08544369],\n",
       "       [ 0.76638551, -0.67405578],\n",
       "       [-0.31081814,  0.40394347],\n",
       "       [ 0.85615248,  0.37944348],\n",
       "       [ 0.76638551,  0.37944348],\n",
       "       [-0.84941996, -1.40905526],\n",
       "       [ 1.1254534 , -0.91905561],\n",
       "       [ 1.1254534 , -0.18405612],\n",
       "       [ 0.40731763, -0.82105568],\n",
       "       [-0.84941996,  1.28594285],\n",
       "       [ 0.4970846 ,  0.3549435 ],\n",
       "       [-1.0289539 ,  0.77144321],\n",
       "       [ 1.1254534 ,  0.33044352],\n",
       "       [ 1.84358916,  0.62444331],\n",
       "       [-0.58011905,  0.37944348],\n",
       "       [ 2.0231231 ,  1.08994299],\n",
       "       [-1.0289539 ,  1.77594251],\n",
       "       [-1.11872087, -0.28205605],\n",
       "       [ 1.57428825, -0.23305609],\n",
       "       [-2.28569149,  2.68244187],\n",
       "       [-1.20848784, -0.89455562],\n",
       "       [ 0.85615248,  1.84944246],\n",
       "       [ 0.85615248, -0.28205605]])"
      ]
     },
     "execution_count": 131,
     "metadata": {},
     "output_type": "execute_result"
    }
   ],
   "source": [
    "X_train"
   ]
  },
  {
   "cell_type": "code",
   "execution_count": 132,
   "metadata": {
    "id": "FQrBJi7_pSb5"
   },
   "outputs": [],
   "source": [
    "X_test = scaler.transform(X_test)"
   ]
  },
  {
   "cell_type": "code",
   "execution_count": 133,
   "metadata": {
    "colab": {
     "base_uri": "https://localhost:8080/"
    },
    "id": "0o6jb8urpgWv",
    "outputId": "fff6b5a1-1365-4a41-87c4-25ce1a5548ff"
   },
   "outputs": [
    {
     "data": {
      "text/plain": [
       "array([[ 0.76638551,  0.3549435 ],\n",
       "       [ 1.75382219, -1.09055549],\n",
       "       [-2.46522543,  1.45744273],\n",
       "       [-0.93918693, -1.48255521],\n",
       "       [ 0.85615248, -1.45805523],\n",
       "       [-0.04151722,  0.62444331],\n",
       "       [-1.29825481,  0.55094336],\n",
       "       [-1.0289539 , -0.08605619],\n",
       "       [ 0.22778369,  0.10994367],\n",
       "       [-0.75965299,  0.2079436 ],\n",
       "       [-0.66988602, -0.06155621],\n",
       "       [ 2.20265704, -0.08605619],\n",
       "       [-0.75965299, -0.82105568],\n",
       "       [-0.58011905, -0.23305609],\n",
       "       [-0.58011905, -0.40455597],\n",
       "       [-0.58011905,  0.28144355],\n",
       "       [-0.22105117,  1.04094302],\n",
       "       [ 0.04824975,  0.2079436 ],\n",
       "       [ 0.67661854, -0.82105568],\n",
       "       [-1.56755573,  1.87394244]])"
      ]
     },
     "execution_count": 133,
     "metadata": {},
     "output_type": "execute_result"
    }
   ],
   "source": [
    "X_test"
   ]
  },
  {
   "cell_type": "markdown",
   "metadata": {
    "id": "RxmAb2B1poSN"
   },
   "source": [
    "- Training the Model Using **Linear Regression**"
   ]
  },
  {
   "cell_type": "code",
   "execution_count": 135,
   "metadata": {
    "id": "c3TgoWkJqBD3"
   },
   "outputs": [],
   "source": [
    "from sklearn.linear_model import LinearRegression\n",
    "\n",
    "model = LinearRegression()"
   ]
  },
  {
   "cell_type": "markdown",
   "metadata": {
    "id": "5AieOm5vqZFZ"
   },
   "source": [
    "**Model Training**"
   ]
  },
  {
   "cell_type": "code",
   "execution_count": 137,
   "metadata": {
    "colab": {
     "base_uri": "https://localhost:8080/",
     "height": 57
    },
    "id": "LE0uPLiKqhG9",
    "outputId": "745b14c4-12a8-443c-8e2a-f9be465a50e5"
   },
   "outputs": [
    {
     "data": {
      "text/html": [
       "<style>#sk-container-id-1 {\n",
       "  /* Definition of color scheme common for light and dark mode */\n",
       "  --sklearn-color-text: #000;\n",
       "  --sklearn-color-text-muted: #666;\n",
       "  --sklearn-color-line: gray;\n",
       "  /* Definition of color scheme for unfitted estimators */\n",
       "  --sklearn-color-unfitted-level-0: #fff5e6;\n",
       "  --sklearn-color-unfitted-level-1: #f6e4d2;\n",
       "  --sklearn-color-unfitted-level-2: #ffe0b3;\n",
       "  --sklearn-color-unfitted-level-3: chocolate;\n",
       "  /* Definition of color scheme for fitted estimators */\n",
       "  --sklearn-color-fitted-level-0: #f0f8ff;\n",
       "  --sklearn-color-fitted-level-1: #d4ebff;\n",
       "  --sklearn-color-fitted-level-2: #b3dbfd;\n",
       "  --sklearn-color-fitted-level-3: cornflowerblue;\n",
       "\n",
       "  /* Specific color for light theme */\n",
       "  --sklearn-color-text-on-default-background: var(--sg-text-color, var(--theme-code-foreground, var(--jp-content-font-color1, black)));\n",
       "  --sklearn-color-background: var(--sg-background-color, var(--theme-background, var(--jp-layout-color0, white)));\n",
       "  --sklearn-color-border-box: var(--sg-text-color, var(--theme-code-foreground, var(--jp-content-font-color1, black)));\n",
       "  --sklearn-color-icon: #696969;\n",
       "\n",
       "  @media (prefers-color-scheme: dark) {\n",
       "    /* Redefinition of color scheme for dark theme */\n",
       "    --sklearn-color-text-on-default-background: var(--sg-text-color, var(--theme-code-foreground, var(--jp-content-font-color1, white)));\n",
       "    --sklearn-color-background: var(--sg-background-color, var(--theme-background, var(--jp-layout-color0, #111)));\n",
       "    --sklearn-color-border-box: var(--sg-text-color, var(--theme-code-foreground, var(--jp-content-font-color1, white)));\n",
       "    --sklearn-color-icon: #878787;\n",
       "  }\n",
       "}\n",
       "\n",
       "#sk-container-id-1 {\n",
       "  color: var(--sklearn-color-text);\n",
       "}\n",
       "\n",
       "#sk-container-id-1 pre {\n",
       "  padding: 0;\n",
       "}\n",
       "\n",
       "#sk-container-id-1 input.sk-hidden--visually {\n",
       "  border: 0;\n",
       "  clip: rect(1px 1px 1px 1px);\n",
       "  clip: rect(1px, 1px, 1px, 1px);\n",
       "  height: 1px;\n",
       "  margin: -1px;\n",
       "  overflow: hidden;\n",
       "  padding: 0;\n",
       "  position: absolute;\n",
       "  width: 1px;\n",
       "}\n",
       "\n",
       "#sk-container-id-1 div.sk-dashed-wrapped {\n",
       "  border: 1px dashed var(--sklearn-color-line);\n",
       "  margin: 0 0.4em 0.5em 0.4em;\n",
       "  box-sizing: border-box;\n",
       "  padding-bottom: 0.4em;\n",
       "  background-color: var(--sklearn-color-background);\n",
       "}\n",
       "\n",
       "#sk-container-id-1 div.sk-container {\n",
       "  /* jupyter's `normalize.less` sets `[hidden] { display: none; }`\n",
       "     but bootstrap.min.css set `[hidden] { display: none !important; }`\n",
       "     so we also need the `!important` here to be able to override the\n",
       "     default hidden behavior on the sphinx rendered scikit-learn.org.\n",
       "     See: https://github.com/scikit-learn/scikit-learn/issues/21755 */\n",
       "  display: inline-block !important;\n",
       "  position: relative;\n",
       "}\n",
       "\n",
       "#sk-container-id-1 div.sk-text-repr-fallback {\n",
       "  display: none;\n",
       "}\n",
       "\n",
       "div.sk-parallel-item,\n",
       "div.sk-serial,\n",
       "div.sk-item {\n",
       "  /* draw centered vertical line to link estimators */\n",
       "  background-image: linear-gradient(var(--sklearn-color-text-on-default-background), var(--sklearn-color-text-on-default-background));\n",
       "  background-size: 2px 100%;\n",
       "  background-repeat: no-repeat;\n",
       "  background-position: center center;\n",
       "}\n",
       "\n",
       "/* Parallel-specific style estimator block */\n",
       "\n",
       "#sk-container-id-1 div.sk-parallel-item::after {\n",
       "  content: \"\";\n",
       "  width: 100%;\n",
       "  border-bottom: 2px solid var(--sklearn-color-text-on-default-background);\n",
       "  flex-grow: 1;\n",
       "}\n",
       "\n",
       "#sk-container-id-1 div.sk-parallel {\n",
       "  display: flex;\n",
       "  align-items: stretch;\n",
       "  justify-content: center;\n",
       "  background-color: var(--sklearn-color-background);\n",
       "  position: relative;\n",
       "}\n",
       "\n",
       "#sk-container-id-1 div.sk-parallel-item {\n",
       "  display: flex;\n",
       "  flex-direction: column;\n",
       "}\n",
       "\n",
       "#sk-container-id-1 div.sk-parallel-item:first-child::after {\n",
       "  align-self: flex-end;\n",
       "  width: 50%;\n",
       "}\n",
       "\n",
       "#sk-container-id-1 div.sk-parallel-item:last-child::after {\n",
       "  align-self: flex-start;\n",
       "  width: 50%;\n",
       "}\n",
       "\n",
       "#sk-container-id-1 div.sk-parallel-item:only-child::after {\n",
       "  width: 0;\n",
       "}\n",
       "\n",
       "/* Serial-specific style estimator block */\n",
       "\n",
       "#sk-container-id-1 div.sk-serial {\n",
       "  display: flex;\n",
       "  flex-direction: column;\n",
       "  align-items: center;\n",
       "  background-color: var(--sklearn-color-background);\n",
       "  padding-right: 1em;\n",
       "  padding-left: 1em;\n",
       "}\n",
       "\n",
       "\n",
       "/* Toggleable style: style used for estimator/Pipeline/ColumnTransformer box that is\n",
       "clickable and can be expanded/collapsed.\n",
       "- Pipeline and ColumnTransformer use this feature and define the default style\n",
       "- Estimators will overwrite some part of the style using the `sk-estimator` class\n",
       "*/\n",
       "\n",
       "/* Pipeline and ColumnTransformer style (default) */\n",
       "\n",
       "#sk-container-id-1 div.sk-toggleable {\n",
       "  /* Default theme specific background. It is overwritten whether we have a\n",
       "  specific estimator or a Pipeline/ColumnTransformer */\n",
       "  background-color: var(--sklearn-color-background);\n",
       "}\n",
       "\n",
       "/* Toggleable label */\n",
       "#sk-container-id-1 label.sk-toggleable__label {\n",
       "  cursor: pointer;\n",
       "  display: flex;\n",
       "  width: 100%;\n",
       "  margin-bottom: 0;\n",
       "  padding: 0.5em;\n",
       "  box-sizing: border-box;\n",
       "  text-align: center;\n",
       "  align-items: start;\n",
       "  justify-content: space-between;\n",
       "  gap: 0.5em;\n",
       "}\n",
       "\n",
       "#sk-container-id-1 label.sk-toggleable__label .caption {\n",
       "  font-size: 0.6rem;\n",
       "  font-weight: lighter;\n",
       "  color: var(--sklearn-color-text-muted);\n",
       "}\n",
       "\n",
       "#sk-container-id-1 label.sk-toggleable__label-arrow:before {\n",
       "  /* Arrow on the left of the label */\n",
       "  content: \"▸\";\n",
       "  float: left;\n",
       "  margin-right: 0.25em;\n",
       "  color: var(--sklearn-color-icon);\n",
       "}\n",
       "\n",
       "#sk-container-id-1 label.sk-toggleable__label-arrow:hover:before {\n",
       "  color: var(--sklearn-color-text);\n",
       "}\n",
       "\n",
       "/* Toggleable content - dropdown */\n",
       "\n",
       "#sk-container-id-1 div.sk-toggleable__content {\n",
       "  max-height: 0;\n",
       "  max-width: 0;\n",
       "  overflow: hidden;\n",
       "  text-align: left;\n",
       "  /* unfitted */\n",
       "  background-color: var(--sklearn-color-unfitted-level-0);\n",
       "}\n",
       "\n",
       "#sk-container-id-1 div.sk-toggleable__content.fitted {\n",
       "  /* fitted */\n",
       "  background-color: var(--sklearn-color-fitted-level-0);\n",
       "}\n",
       "\n",
       "#sk-container-id-1 div.sk-toggleable__content pre {\n",
       "  margin: 0.2em;\n",
       "  border-radius: 0.25em;\n",
       "  color: var(--sklearn-color-text);\n",
       "  /* unfitted */\n",
       "  background-color: var(--sklearn-color-unfitted-level-0);\n",
       "}\n",
       "\n",
       "#sk-container-id-1 div.sk-toggleable__content.fitted pre {\n",
       "  /* unfitted */\n",
       "  background-color: var(--sklearn-color-fitted-level-0);\n",
       "}\n",
       "\n",
       "#sk-container-id-1 input.sk-toggleable__control:checked~div.sk-toggleable__content {\n",
       "  /* Expand drop-down */\n",
       "  max-height: 200px;\n",
       "  max-width: 100%;\n",
       "  overflow: auto;\n",
       "}\n",
       "\n",
       "#sk-container-id-1 input.sk-toggleable__control:checked~label.sk-toggleable__label-arrow:before {\n",
       "  content: \"▾\";\n",
       "}\n",
       "\n",
       "/* Pipeline/ColumnTransformer-specific style */\n",
       "\n",
       "#sk-container-id-1 div.sk-label input.sk-toggleable__control:checked~label.sk-toggleable__label {\n",
       "  color: var(--sklearn-color-text);\n",
       "  background-color: var(--sklearn-color-unfitted-level-2);\n",
       "}\n",
       "\n",
       "#sk-container-id-1 div.sk-label.fitted input.sk-toggleable__control:checked~label.sk-toggleable__label {\n",
       "  background-color: var(--sklearn-color-fitted-level-2);\n",
       "}\n",
       "\n",
       "/* Estimator-specific style */\n",
       "\n",
       "/* Colorize estimator box */\n",
       "#sk-container-id-1 div.sk-estimator input.sk-toggleable__control:checked~label.sk-toggleable__label {\n",
       "  /* unfitted */\n",
       "  background-color: var(--sklearn-color-unfitted-level-2);\n",
       "}\n",
       "\n",
       "#sk-container-id-1 div.sk-estimator.fitted input.sk-toggleable__control:checked~label.sk-toggleable__label {\n",
       "  /* fitted */\n",
       "  background-color: var(--sklearn-color-fitted-level-2);\n",
       "}\n",
       "\n",
       "#sk-container-id-1 div.sk-label label.sk-toggleable__label,\n",
       "#sk-container-id-1 div.sk-label label {\n",
       "  /* The background is the default theme color */\n",
       "  color: var(--sklearn-color-text-on-default-background);\n",
       "}\n",
       "\n",
       "/* On hover, darken the color of the background */\n",
       "#sk-container-id-1 div.sk-label:hover label.sk-toggleable__label {\n",
       "  color: var(--sklearn-color-text);\n",
       "  background-color: var(--sklearn-color-unfitted-level-2);\n",
       "}\n",
       "\n",
       "/* Label box, darken color on hover, fitted */\n",
       "#sk-container-id-1 div.sk-label.fitted:hover label.sk-toggleable__label.fitted {\n",
       "  color: var(--sklearn-color-text);\n",
       "  background-color: var(--sklearn-color-fitted-level-2);\n",
       "}\n",
       "\n",
       "/* Estimator label */\n",
       "\n",
       "#sk-container-id-1 div.sk-label label {\n",
       "  font-family: monospace;\n",
       "  font-weight: bold;\n",
       "  display: inline-block;\n",
       "  line-height: 1.2em;\n",
       "}\n",
       "\n",
       "#sk-container-id-1 div.sk-label-container {\n",
       "  text-align: center;\n",
       "}\n",
       "\n",
       "/* Estimator-specific */\n",
       "#sk-container-id-1 div.sk-estimator {\n",
       "  font-family: monospace;\n",
       "  border: 1px dotted var(--sklearn-color-border-box);\n",
       "  border-radius: 0.25em;\n",
       "  box-sizing: border-box;\n",
       "  margin-bottom: 0.5em;\n",
       "  /* unfitted */\n",
       "  background-color: var(--sklearn-color-unfitted-level-0);\n",
       "}\n",
       "\n",
       "#sk-container-id-1 div.sk-estimator.fitted {\n",
       "  /* fitted */\n",
       "  background-color: var(--sklearn-color-fitted-level-0);\n",
       "}\n",
       "\n",
       "/* on hover */\n",
       "#sk-container-id-1 div.sk-estimator:hover {\n",
       "  /* unfitted */\n",
       "  background-color: var(--sklearn-color-unfitted-level-2);\n",
       "}\n",
       "\n",
       "#sk-container-id-1 div.sk-estimator.fitted:hover {\n",
       "  /* fitted */\n",
       "  background-color: var(--sklearn-color-fitted-level-2);\n",
       "}\n",
       "\n",
       "/* Specification for estimator info (e.g. \"i\" and \"?\") */\n",
       "\n",
       "/* Common style for \"i\" and \"?\" */\n",
       "\n",
       ".sk-estimator-doc-link,\n",
       "a:link.sk-estimator-doc-link,\n",
       "a:visited.sk-estimator-doc-link {\n",
       "  float: right;\n",
       "  font-size: smaller;\n",
       "  line-height: 1em;\n",
       "  font-family: monospace;\n",
       "  background-color: var(--sklearn-color-background);\n",
       "  border-radius: 1em;\n",
       "  height: 1em;\n",
       "  width: 1em;\n",
       "  text-decoration: none !important;\n",
       "  margin-left: 0.5em;\n",
       "  text-align: center;\n",
       "  /* unfitted */\n",
       "  border: var(--sklearn-color-unfitted-level-1) 1pt solid;\n",
       "  color: var(--sklearn-color-unfitted-level-1);\n",
       "}\n",
       "\n",
       ".sk-estimator-doc-link.fitted,\n",
       "a:link.sk-estimator-doc-link.fitted,\n",
       "a:visited.sk-estimator-doc-link.fitted {\n",
       "  /* fitted */\n",
       "  border: var(--sklearn-color-fitted-level-1) 1pt solid;\n",
       "  color: var(--sklearn-color-fitted-level-1);\n",
       "}\n",
       "\n",
       "/* On hover */\n",
       "div.sk-estimator:hover .sk-estimator-doc-link:hover,\n",
       ".sk-estimator-doc-link:hover,\n",
       "div.sk-label-container:hover .sk-estimator-doc-link:hover,\n",
       ".sk-estimator-doc-link:hover {\n",
       "  /* unfitted */\n",
       "  background-color: var(--sklearn-color-unfitted-level-3);\n",
       "  color: var(--sklearn-color-background);\n",
       "  text-decoration: none;\n",
       "}\n",
       "\n",
       "div.sk-estimator.fitted:hover .sk-estimator-doc-link.fitted:hover,\n",
       ".sk-estimator-doc-link.fitted:hover,\n",
       "div.sk-label-container:hover .sk-estimator-doc-link.fitted:hover,\n",
       ".sk-estimator-doc-link.fitted:hover {\n",
       "  /* fitted */\n",
       "  background-color: var(--sklearn-color-fitted-level-3);\n",
       "  color: var(--sklearn-color-background);\n",
       "  text-decoration: none;\n",
       "}\n",
       "\n",
       "/* Span, style for the box shown on hovering the info icon */\n",
       ".sk-estimator-doc-link span {\n",
       "  display: none;\n",
       "  z-index: 9999;\n",
       "  position: relative;\n",
       "  font-weight: normal;\n",
       "  right: .2ex;\n",
       "  padding: .5ex;\n",
       "  margin: .5ex;\n",
       "  width: min-content;\n",
       "  min-width: 20ex;\n",
       "  max-width: 50ex;\n",
       "  color: var(--sklearn-color-text);\n",
       "  box-shadow: 2pt 2pt 4pt #999;\n",
       "  /* unfitted */\n",
       "  background: var(--sklearn-color-unfitted-level-0);\n",
       "  border: .5pt solid var(--sklearn-color-unfitted-level-3);\n",
       "}\n",
       "\n",
       ".sk-estimator-doc-link.fitted span {\n",
       "  /* fitted */\n",
       "  background: var(--sklearn-color-fitted-level-0);\n",
       "  border: var(--sklearn-color-fitted-level-3);\n",
       "}\n",
       "\n",
       ".sk-estimator-doc-link:hover span {\n",
       "  display: block;\n",
       "}\n",
       "\n",
       "/* \"?\"-specific style due to the `<a>` HTML tag */\n",
       "\n",
       "#sk-container-id-1 a.estimator_doc_link {\n",
       "  float: right;\n",
       "  font-size: 1rem;\n",
       "  line-height: 1em;\n",
       "  font-family: monospace;\n",
       "  background-color: var(--sklearn-color-background);\n",
       "  border-radius: 1rem;\n",
       "  height: 1rem;\n",
       "  width: 1rem;\n",
       "  text-decoration: none;\n",
       "  /* unfitted */\n",
       "  color: var(--sklearn-color-unfitted-level-1);\n",
       "  border: var(--sklearn-color-unfitted-level-1) 1pt solid;\n",
       "}\n",
       "\n",
       "#sk-container-id-1 a.estimator_doc_link.fitted {\n",
       "  /* fitted */\n",
       "  border: var(--sklearn-color-fitted-level-1) 1pt solid;\n",
       "  color: var(--sklearn-color-fitted-level-1);\n",
       "}\n",
       "\n",
       "/* On hover */\n",
       "#sk-container-id-1 a.estimator_doc_link:hover {\n",
       "  /* unfitted */\n",
       "  background-color: var(--sklearn-color-unfitted-level-3);\n",
       "  color: var(--sklearn-color-background);\n",
       "  text-decoration: none;\n",
       "}\n",
       "\n",
       "#sk-container-id-1 a.estimator_doc_link.fitted:hover {\n",
       "  /* fitted */\n",
       "  background-color: var(--sklearn-color-fitted-level-3);\n",
       "}\n",
       "</style><div id=\"sk-container-id-1\" class=\"sk-top-container\"><div class=\"sk-text-repr-fallback\"><pre>LinearRegression()</pre><b>In a Jupyter environment, please rerun this cell to show the HTML representation or trust the notebook. <br />On GitHub, the HTML representation is unable to render, please try loading this page with nbviewer.org.</b></div><div class=\"sk-container\" hidden><div class=\"sk-item\"><div class=\"sk-estimator fitted sk-toggleable\"><input class=\"sk-toggleable__control sk-hidden--visually\" id=\"sk-estimator-id-1\" type=\"checkbox\" checked><label for=\"sk-estimator-id-1\" class=\"sk-toggleable__label fitted sk-toggleable__label-arrow\"><div><div>LinearRegression</div></div><div><a class=\"sk-estimator-doc-link fitted\" rel=\"noreferrer\" target=\"_blank\" href=\"https://scikit-learn.org/1.6/modules/generated/sklearn.linear_model.LinearRegression.html\">?<span>Documentation for LinearRegression</span></a><span class=\"sk-estimator-doc-link fitted\">i<span>Fitted</span></span></div></label><div class=\"sk-toggleable__content fitted\"><pre>LinearRegression()</pre></div> </div></div></div></div>"
      ],
      "text/plain": [
       "LinearRegression()"
      ]
     },
     "execution_count": 137,
     "metadata": {},
     "output_type": "execute_result"
    }
   ],
   "source": [
    "model.fit(X_train,Y_train)"
   ]
  },
  {
   "cell_type": "markdown",
   "metadata": {
    "id": "Ed-Q4wdvq5Jp"
   },
   "source": [
    "And Traning is completed !"
   ]
  },
  {
   "cell_type": "markdown",
   "metadata": {
    "id": "Pdp18z-UrABu"
   },
   "source": [
    "# Model Evaluation"
   ]
  },
  {
   "cell_type": "code",
   "execution_count": 140,
   "metadata": {
    "colab": {
     "base_uri": "https://localhost:8080/"
    },
    "id": "9GxsDfiDrNWo",
    "outputId": "168d20ad-0b79-483b-ff88-3ebb0a647463"
   },
   "outputs": [
    {
     "data": {
      "text/plain": [
       "array([ 0.83447897,  1.27682664, -0.53006065,  0.16974713,  0.91322735,\n",
       "        0.49348443, -0.02566043,  0.10054317,  0.61688084,  0.20541218,\n",
       "        0.24879006,  1.43981816,  0.22899251,  0.2899222 ,  0.29385226,\n",
       "        0.27813204,  0.40953584,  0.54023093,  0.82422584, -0.16758424])"
      ]
     },
     "execution_count": 140,
     "metadata": {},
     "output_type": "execute_result"
    }
   ],
   "source": [
    "model.predict(X_test)"
   ]
  },
  {
   "cell_type": "markdown",
   "metadata": {
    "id": "eDs82bgCrdpm"
   },
   "source": [
    "Avobe are my pradicted value"
   ]
  },
  {
   "cell_type": "code",
   "execution_count": 142,
   "metadata": {
    "colab": {
     "base_uri": "https://localhost:8080/"
    },
    "id": "oqfcMq7DsCMT",
    "outputId": "aa74c08c-c805-420f-ffb3-38f9019dad38"
   },
   "outputs": [
    {
     "data": {
      "text/plain": [
       "array([ 0.83447897,  1.27682664, -0.53006065,  0.16974713,  0.91322735,\n",
       "        0.49348443, -0.02566043,  0.10054317,  0.61688084,  0.20541218,\n",
       "        0.24879006,  1.43981816,  0.22899251,  0.2899222 ,  0.29385226,\n",
       "        0.27813204,  0.40953584,  0.54023093,  0.82422584, -0.16758424])"
      ]
     },
     "execution_count": 142,
     "metadata": {},
     "output_type": "execute_result"
    }
   ],
   "source": [
    "Y_predicted = model.predict(X_test)\n",
    "Y_predicted"
   ]
  },
  {
   "cell_type": "code",
   "execution_count": 143,
   "metadata": {
    "colab": {
     "base_uri": "https://localhost:8080/",
     "height": 711
    },
    "id": "lBfeMKUGrRNC",
    "outputId": "144fb58f-575c-447e-dd3d-1c026f1e5129"
   },
   "outputs": [
    {
     "data": {
      "text/plain": [
       "11    1\n",
       "58    1\n",
       "17    0\n",
       "7     0\n",
       "64    1\n",
       "33    0\n",
       "39    0\n",
       "22    0\n",
       "63    1\n",
       "19    0\n",
       "2     0\n",
       "69    1\n",
       "28    0\n",
       "41    0\n",
       "81    0\n",
       "49    0\n",
       "85    1\n",
       "71    1\n",
       "35    1\n",
       "95    0\n",
       "Name: placement, dtype: int64"
      ]
     },
     "execution_count": 143,
     "metadata": {},
     "output_type": "execute_result"
    }
   ],
   "source": [
    "Y_test"
   ]
  },
  {
   "cell_type": "markdown",
   "metadata": {
    "id": "PoBTT7rvxt8K"
   },
   "source": [
    "- **Accuricy Test**"
   ]
  },
  {
   "cell_type": "code",
   "execution_count": 145,
   "metadata": {
    "colab": {
     "base_uri": "https://localhost:8080/"
    },
    "id": "cfGRgJVextDE",
    "outputId": "fa4f1164-cbb8-43c4-dc51-3536e887be0c"
   },
   "outputs": [
    {
     "data": {
      "text/plain": [
       "0.5751752311624554"
      ]
     },
     "execution_count": 145,
     "metadata": {},
     "output_type": "execute_result"
    }
   ],
   "source": [
    "from sklearn.metrics import r2_score\n",
    "\n",
    "r2_score(Y_test,Y_predicted)"
   ]
  },
  {
   "cell_type": "markdown",
   "metadata": {
    "id": "vbkZGHT6yWpp"
   },
   "source": [
    "**Decision regions 2D** *Visualization*"
   ]
  },
  {
   "cell_type": "code",
   "execution_count": 150,
   "metadata": {},
   "outputs": [
    {
     "name": "stdout",
     "output_type": "stream",
     "text": [
      "Collecting mlxtend\n",
      "  Downloading mlxtend-0.23.4-py3-none-any.whl.metadata (7.3 kB)\n",
      "Requirement already satisfied: scipy>=1.2.1 in c:\\users\\youca\\anaconda3\\envs\\ml\\lib\\site-packages (from mlxtend) (1.15.2)\n",
      "Requirement already satisfied: numpy>=1.16.2 in c:\\users\\youca\\anaconda3\\envs\\ml\\lib\\site-packages (from mlxtend) (2.2.5)\n",
      "Requirement already satisfied: pandas>=0.24.2 in c:\\users\\youca\\anaconda3\\envs\\ml\\lib\\site-packages (from mlxtend) (2.2.3)\n",
      "Requirement already satisfied: scikit-learn>=1.3.1 in c:\\users\\youca\\anaconda3\\envs\\ml\\lib\\site-packages (from mlxtend) (1.6.1)\n",
      "Requirement already satisfied: matplotlib>=3.0.0 in c:\\users\\youca\\anaconda3\\envs\\ml\\lib\\site-packages (from mlxtend) (3.10.1)\n",
      "Requirement already satisfied: joblib>=0.13.2 in c:\\users\\youca\\anaconda3\\envs\\ml\\lib\\site-packages (from mlxtend) (1.4.2)\n",
      "Requirement already satisfied: contourpy>=1.0.1 in c:\\users\\youca\\anaconda3\\envs\\ml\\lib\\site-packages (from matplotlib>=3.0.0->mlxtend) (1.3.2)\n",
      "Requirement already satisfied: cycler>=0.10 in c:\\users\\youca\\anaconda3\\envs\\ml\\lib\\site-packages (from matplotlib>=3.0.0->mlxtend) (0.12.1)\n",
      "Requirement already satisfied: fonttools>=4.22.0 in c:\\users\\youca\\anaconda3\\envs\\ml\\lib\\site-packages (from matplotlib>=3.0.0->mlxtend) (4.57.0)\n",
      "Requirement already satisfied: kiwisolver>=1.3.1 in c:\\users\\youca\\anaconda3\\envs\\ml\\lib\\site-packages (from matplotlib>=3.0.0->mlxtend) (1.4.8)\n",
      "Requirement already satisfied: packaging>=20.0 in c:\\users\\youca\\anaconda3\\envs\\ml\\lib\\site-packages (from matplotlib>=3.0.0->mlxtend) (24.2)\n",
      "Requirement already satisfied: pillow>=8 in c:\\users\\youca\\anaconda3\\envs\\ml\\lib\\site-packages (from matplotlib>=3.0.0->mlxtend) (11.2.1)\n",
      "Requirement already satisfied: pyparsing>=2.3.1 in c:\\users\\youca\\anaconda3\\envs\\ml\\lib\\site-packages (from matplotlib>=3.0.0->mlxtend) (3.2.3)\n",
      "Requirement already satisfied: python-dateutil>=2.7 in c:\\users\\youca\\anaconda3\\envs\\ml\\lib\\site-packages (from matplotlib>=3.0.0->mlxtend) (2.9.0.post0)\n",
      "Requirement already satisfied: pytz>=2020.1 in c:\\users\\youca\\anaconda3\\envs\\ml\\lib\\site-packages (from pandas>=0.24.2->mlxtend) (2025.2)\n",
      "Requirement already satisfied: tzdata>=2022.7 in c:\\users\\youca\\anaconda3\\envs\\ml\\lib\\site-packages (from pandas>=0.24.2->mlxtend) (2025.2)\n",
      "Requirement already satisfied: threadpoolctl>=3.1.0 in c:\\users\\youca\\anaconda3\\envs\\ml\\lib\\site-packages (from scikit-learn>=1.3.1->mlxtend) (3.6.0)\n",
      "Requirement already satisfied: six>=1.5 in c:\\users\\youca\\anaconda3\\envs\\ml\\lib\\site-packages (from python-dateutil>=2.7->matplotlib>=3.0.0->mlxtend) (1.17.0)\n",
      "Downloading mlxtend-0.23.4-py3-none-any.whl (1.4 MB)\n",
      "   ---------------------------------------- 0.0/1.4 MB ? eta -:--:--\n",
      "   --------------- ------------------------ 0.5/1.4 MB 2.8 MB/s eta 0:00:01\n",
      "   ------------------------------- -------- 1.0/1.4 MB 2.8 MB/s eta 0:00:01\n",
      "   ---------------------------------------- 1.4/1.4 MB 2.7 MB/s eta 0:00:00\n",
      "Installing collected packages: mlxtend\n",
      "Successfully installed mlxtend-0.23.4\n"
     ]
    }
   ],
   "source": [
    "# !pip install mlxtend"
   ]
  },
  {
   "cell_type": "code",
   "execution_count": 152,
   "metadata": {
    "id": "Jxk-ATaIym2n"
   },
   "outputs": [],
   "source": [
    "from mlxtend.plotting import plot_decision_regions"
   ]
  },
  {
   "cell_type": "code",
   "execution_count": 154,
   "metadata": {
    "colab": {
     "base_uri": "https://localhost:8080/",
     "height": 447
    },
    "id": "JOEru6Opy7_6",
    "outputId": "108d1d19-ae67-479d-d0b1-9d7ab61b1c3a"
   },
   "outputs": [
    {
     "data": {
      "text/plain": [
       "<Axes: >"
      ]
     },
     "execution_count": 154,
     "metadata": {},
     "output_type": "execute_result"
    },
    {
     "data": {
      "image/png": "[encoded data removed]",
      "text/plain": [
       "<Figure size 640x480 with 1 Axes>"
      ]
     },
     "metadata": {},
     "output_type": "display_data"
    }
   ],
   "source": [
    "plot_decision_regions(X_train, Y_train.values, clf=model, legend=2)"
   ]
  }
 ],
 "metadata": {
  "colab": {
   "collapsed_sections": [
    "g0qazo1xAQs0"
   ],
   "provenance": []
  },
  "kernelspec": {
   "display_name": "Python [conda env:ML]",
   "language": "python",
   "name": "conda-env-ML-py"
  },
  "language_info": {
   "codemirror_mode": {
    "name": "ipython",
    "version": 3
   },
   "file_extension": ".py",
   "mimetype": "text/x-python",
   "name": "python",
   "nbconvert_exporter": "python",
   "pygments_lexer": "ipython3",
   "version": "3.13.2"
  }
 },
 "nbformat": 4,
 "nbformat_minor": 4
}

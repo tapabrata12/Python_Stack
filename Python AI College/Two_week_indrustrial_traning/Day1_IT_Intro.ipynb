{
 "cells": [
  {
   "cell_type": "markdown",
   "id": "7a8b1c22-adac-4cf0-9bf0-20798172218d",
   "metadata": {},
   "source": [
    "# Prerequisits Libreries"
   ]
  },
  {
   "cell_type": "code",
   "execution_count": 1,
   "id": "abd6be25-c363-49b7-85ed-262b0715f4a6",
   "metadata": {},
   "outputs": [],
   "source": [
    "import pandas as pd"
   ]
  },
  {
   "cell_type": "code",
   "execution_count": 2,
   "id": "d480dda0-d84b-4ec4-b84c-5e41764c650c",
   "metadata": {},
   "outputs": [],
   "source": [
    "import seaborn as sns"
   ]
  },
  {
   "cell_type": "code",
   "execution_count": 3,
   "id": "d37313fb-856d-48de-bcbf-02face90ebf6",
   "metadata": {},
   "outputs": [],
   "source": [
    "import matplotlib.pyplot as plt"
   ]
  },
  {
   "cell_type": "code",
   "execution_count": 1,
   "id": "30d789e4-8547-4936-bb12-03a9cf28b098",
   "metadata": {},
   "outputs": [],
   "source": [
    "import tensorflow as tf"
   ]
  },
  {
   "cell_type": "code",
   "execution_count": null,
   "id": "851c0180-fb0a-4301-b639-8973e8c1d8c2",
   "metadata": {},
   "outputs": [],
   "source": [
    "import numpy as np"
   ]
  }
 ],
 "metadata": {
  "kernelspec": {
   "display_name": "Python 3 (ipykernel)",
   "language": "python",
   "name": "python3"
  },
  "language_info": {
   "codemirror_mode": {
    "name": "ipython",
    "version": 3
   },
   "file_extension": ".py",
   "mimetype": "text/x-python",
   "name": "python",
   "nbconvert_exporter": "python",
   "pygments_lexer": "ipython3",
   "version": "3.12.7"
  }
 },
 "nbformat": 4,
 "nbformat_minor": 5
}

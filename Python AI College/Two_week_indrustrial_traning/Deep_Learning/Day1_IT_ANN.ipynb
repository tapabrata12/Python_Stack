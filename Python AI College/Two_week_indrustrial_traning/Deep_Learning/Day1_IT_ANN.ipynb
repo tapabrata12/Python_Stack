{
 "cells": [
  {
   "cell_type": "code",
   "execution_count": null,
   "id": "8535d13f-6d72-41e2-9f6f-e8d2e0b5475d",
   "metadata": {},
   "outputs": [],
   "source": []
  }
 ],
 "metadata": {
  "kernelspec": {
   "display_name": "Python 3 (ipykernel)",
   "language": "python",
   "name": "python3"
  },
  "language_info": {
   "codemirror_mode": {
    "name": "ipython",
    "version": 3
   },
   "file_extension": ".py",
   "mimetype": "text/x-python",
   "name": "python",
   "nbconvert_exporter": "python",
   "pygments_lexer": "ipython3",
   "version": "3.12.7"
  }
 },
 "nbformat": 4,
 "nbformat_minor": 5
}

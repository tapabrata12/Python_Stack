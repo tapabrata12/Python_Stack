{
 "cells": [
  {
   "cell_type": "markdown",
   "id": "8e67938d-4119-4783-a399-8d34617f1c62",
   "metadata": {},
   "source": [
    "# Numpy"
   ]
  },
  {
   "cell_type": "markdown",
   "id": "79c01404-c861-468c-8067-d842f5b07e64",
   "metadata": {},
   "source": [
    "### Importing the package named **Numpy**"
   ]
  },
  {
   "cell_type": "code",
   "execution_count": 1,
   "id": "47e1bcab-e04d-46dd-a26b-5333abc839c5",
   "metadata": {},
   "outputs": [],
   "source": [
    "import numpy as np"
   ]
  },
  {
   "cell_type": "markdown",
   "id": "36805f34-db94-4ad2-920e-ef8d23e3a4b2",
   "metadata": {},
   "source": [
    "- Create a variable called **my_list**\n",
    "- It is a friendly datatype as it allows **CRED** operations"
   ]
  },
  {
   "cell_type": "code",
   "execution_count": 2,
   "id": "18ba9efc-2c87-4a0e-a34b-29e5a24f025c",
   "metadata": {},
   "outputs": [],
   "source": [
    "my_list = [1,2,3,4]"
   ]
  },
  {
   "cell_type": "code",
   "execution_count": 4,
   "id": "20d0d74d-b622-4f9f-bad0-bcbc468ba614",
   "metadata": {},
   "outputs": [
    {
     "data": {
      "text/plain": [
       "list"
      ]
     },
     "execution_count": 4,
     "metadata": {},
     "output_type": "execute_result"
    }
   ],
   "source": [
    "type(my_list)"
   ]
  },
  {
   "cell_type": "code",
   "execution_count": 3,
   "id": "1ad3ab73-2feb-41aa-967d-f29daa14c0cd",
   "metadata": {},
   "outputs": [],
   "source": [
    "my_array = np.array(my_list)"
   ]
  },
  {
   "cell_type": "code",
   "execution_count": 5,
   "id": "b259982f-16ea-45f4-9dce-ad56a4c0b46a",
   "metadata": {},
   "outputs": [
    {
     "data": {
      "text/plain": [
       "numpy.ndarray"
      ]
     },
     "execution_count": 5,
     "metadata": {},
     "output_type": "execute_result"
    }
   ],
   "source": [
    "type(my_array)"
   ]
  },
  {
   "cell_type": "markdown",
   "id": "33c80c6a-ce50-4572-bf69-44b5ae744dd6",
   "metadata": {},
   "source": [
    "### Numpy Array\n"
   ]
  },
  {
   "cell_type": "code",
   "execution_count": 6,
   "id": "c0104167-b9cd-4c9d-962a-017011bff779",
   "metadata": {},
   "outputs": [
    {
     "data": {
      "text/plain": [
       "[[1, 2, 3], [4, 5, 6]]"
      ]
     },
     "execution_count": 6,
     "metadata": {},
     "output_type": "execute_result"
    }
   ],
   "source": [
    "my_matrix = [[1,2,3],[4,5,6]]\n",
    "my_matrix"
   ]
  },
  {
   "cell_type": "code",
   "execution_count": 7,
   "id": "8605314a-bd0b-4e57-9c21-a94c4b433c38",
   "metadata": {},
   "outputs": [
    {
     "data": {
      "text/plain": [
       "array([[1, 2, 3],\n",
       "       [4, 5, 6]])"
      ]
     },
     "execution_count": 7,
     "metadata": {},
     "output_type": "execute_result"
    }
   ],
   "source": [
    "np.array(my_matrix)"
   ]
  },
  {
   "cell_type": "markdown",
   "id": "13f12c49-d05c-4a60-adb7-03d94b29a122",
   "metadata": {},
   "source": [
    "- `arange`: genarate sequences"
   ]
  },
  {
   "cell_type": "code",
   "execution_count": 9,
   "id": "cc4e9831-0c21-482f-938a-23b032c2b76c",
   "metadata": {},
   "outputs": [
    {
     "data": {
      "text/plain": [
       "array([1, 3, 5, 7, 9])"
      ]
     },
     "execution_count": 9,
     "metadata": {},
     "output_type": "execute_result"
    }
   ],
   "source": [
    "np.arange(1,11,2)"
   ]
  },
  {
   "cell_type": "markdown",
   "id": "5e32dcef-2383-47f0-aef2-2f59188f9b56",
   "metadata": {},
   "source": [
    "- `np.zeros()`: Create array with 0 element"
   ]
  },
  {
   "cell_type": "code",
   "execution_count": 11,
   "id": "31231171-4c0b-426e-b85f-5f0765c61875",
   "metadata": {},
   "outputs": [
    {
     "data": {
      "text/plain": [
       "array([[0., 0., 0., 0., 0.],\n",
       "       [0., 0., 0., 0., 0.],\n",
       "       [0., 0., 0., 0., 0.],\n",
       "       [0., 0., 0., 0., 0.],\n",
       "       [0., 0., 0., 0., 0.]])"
      ]
     },
     "execution_count": 11,
     "metadata": {},
     "output_type": "execute_result"
    }
   ],
   "source": [
    "np.zeros((5,5))"
   ]
  },
  {
   "cell_type": "markdown",
   "id": "2df63ac5-68ae-4596-8836-e0fe6606a7ee",
   "metadata": {},
   "source": [
    "- `np.ones()`: Create array with 1 element"
   ]
  },
  {
   "cell_type": "code",
   "execution_count": 12,
   "id": "ee4e4ef1-24c7-41fe-b479-5271212b8e1b",
   "metadata": {},
   "outputs": [
    {
     "data": {
      "text/plain": [
       "array([1., 1., 1., 1., 1., 1., 1., 1., 1., 1., 1., 1., 1., 1., 1., 1., 1.,\n",
       "       1., 1., 1., 1., 1., 1., 1., 1., 1., 1., 1., 1., 1.])"
      ]
     },
     "execution_count": 12,
     "metadata": {},
     "output_type": "execute_result"
    }
   ],
   "source": [
    "np.ones(30)"
   ]
  },
  {
   "cell_type": "code",
   "execution_count": 13,
   "id": "98dba590-4b90-403c-976c-20f40d6308df",
   "metadata": {},
   "outputs": [
    {
     "data": {
      "text/plain": [
       "array([[1., 1., 1., 1., 1.],\n",
       "       [1., 1., 1., 1., 1.],\n",
       "       [1., 1., 1., 1., 1.],\n",
       "       [1., 1., 1., 1., 1.],\n",
       "       [1., 1., 1., 1., 1.]])"
      ]
     },
     "execution_count": 13,
     "metadata": {},
     "output_type": "execute_result"
    }
   ],
   "source": [
    "np.ones((5,5))"
   ]
  },
  {
   "cell_type": "markdown",
   "id": "192e242f-8bf3-4555-b42c-c9eaf50b6c21",
   "metadata": {},
   "source": [
    "- `linspace`: Genarate equidistance values with a given range"
   ]
  },
  {
   "cell_type": "code",
   "execution_count": 16,
   "id": "9714ba81-167c-4a59-82d0-fe37fef24d58",
   "metadata": {},
   "outputs": [
    {
     "data": {
      "text/plain": [
       "array([ 0.,  5., 10.])"
      ]
     },
     "execution_count": 16,
     "metadata": {},
     "output_type": "execute_result"
    }
   ],
   "source": [
    "np.linspace(0,10,3)"
   ]
  },
  {
   "cell_type": "code",
   "execution_count": 17,
   "id": "375b4e77-ebe7-41a4-b87c-26f24bbb1002",
   "metadata": {},
   "outputs": [
    {
     "data": {
      "text/plain": [
       "array([ 0.        ,  0.52631579,  1.05263158,  1.57894737,  2.10526316,\n",
       "        2.63157895,  3.15789474,  3.68421053,  4.21052632,  4.73684211,\n",
       "        5.26315789,  5.78947368,  6.31578947,  6.84210526,  7.36842105,\n",
       "        7.89473684,  8.42105263,  8.94736842,  9.47368421, 10.        ])"
      ]
     },
     "execution_count": 17,
     "metadata": {},
     "output_type": "execute_result"
    }
   ],
   "source": [
    "np.linspace(0,10,20)"
   ]
  },
  {
   "cell_type": "markdown",
   "id": "6f8671cc-584e-4a1c-82b8-af01fe113876",
   "metadata": {},
   "source": [
    "- `np.eye`: Indentity matrix"
   ]
  },
  {
   "cell_type": "code",
   "execution_count": 20,
   "id": "6971f281-8b30-49ae-a84e-c18d24cc059c",
   "metadata": {},
   "outputs": [
    {
     "data": {
      "text/plain": [
       "array([[1., 0., 0.],\n",
       "       [0., 1., 0.],\n",
       "       [0., 0., 1.]])"
      ]
     },
     "execution_count": 20,
     "metadata": {},
     "output_type": "execute_result"
    }
   ],
   "source": [
    "np.eye(3)"
   ]
  },
  {
   "cell_type": "markdown",
   "id": "eb51d4cd-1a77-46b9-b30d-20847ae47bad",
   "metadata": {},
   "source": [
    "- `np.rand`: Random value"
   ]
  },
  {
   "cell_type": "code",
   "execution_count": 21,
   "id": "1400a4c9-a2e7-42fe-92e6-5f5f72fbacb5",
   "metadata": {},
   "outputs": [
    {
     "data": {
      "text/plain": [
       "array([0.62175139, 0.54085203, 0.91677158, 0.32885011, 0.57728518])"
      ]
     },
     "execution_count": 21,
     "metadata": {},
     "output_type": "execute_result"
    }
   ],
   "source": [
    "np.random.rand(5)"
   ]
  },
  {
   "cell_type": "code",
   "execution_count": 28,
   "id": "8ca3e419-0874-45fc-ae28-21a153a31683",
   "metadata": {
    "scrolled": true
   },
   "outputs": [
    {
     "data": {
      "text/plain": [
       "array([[0.28911425, 0.77611194, 0.41651263, 0.08338375, 0.57372216,\n",
       "        0.95467435, 0.5401532 , 0.8054069 , 0.02983287, 0.72398618],\n",
       "       [0.61568779, 0.67722401, 0.02523021, 0.99065203, 0.64631301,\n",
       "        0.75976207, 0.37110038, 0.66659928, 0.79064088, 0.36753015],\n",
       "       [0.47903422, 0.60984929, 0.09465635, 0.51205809, 0.86640514,\n",
       "        0.85095626, 0.29584369, 0.24114973, 0.85327741, 0.41692139],\n",
       "       [0.27389618, 0.34043329, 0.06048126, 0.34899609, 0.09481386,\n",
       "        0.04363785, 0.02539827, 0.29389889, 0.15959766, 0.33270931],\n",
       "       [0.5054522 , 0.69409639, 0.39984443, 0.58602177, 0.94185688,\n",
       "        0.83084355, 0.53925973, 0.42474406, 0.30659145, 0.3236329 ],\n",
       "       [0.27989347, 0.54887497, 0.90149273, 0.94562563, 0.31879114,\n",
       "        0.47261643, 0.83291675, 0.23112638, 0.26360389, 0.98829085],\n",
       "       [0.18792139, 0.88823718, 0.65389848, 0.55953845, 0.67464243,\n",
       "        0.62078658, 0.24718031, 0.06911145, 0.8877229 , 0.07175245],\n",
       "       [0.45870617, 0.50107656, 0.59747022, 0.88852303, 0.39883975,\n",
       "        0.55557824, 0.28194436, 0.44299155, 0.80973394, 0.51793137],\n",
       "       [0.35243486, 0.57880425, 0.69802434, 0.78177621, 0.38993801,\n",
       "        0.02665597, 0.45241947, 0.05314824, 0.06881096, 0.67553322],\n",
       "       [0.9710251 , 0.04714082, 0.72865872, 0.12491737, 0.27582258,\n",
       "        0.55099912, 0.54609288, 0.42608305, 0.93125271, 0.87822513]])"
      ]
     },
     "execution_count": 28,
     "metadata": {},
     "output_type": "execute_result"
    }
   ],
   "source": [
    "np.random.rand(10,10)"
   ]
  },
  {
   "cell_type": "markdown",
   "id": "2b261c80-ef00-4248-ab44-1e5277e4165d",
   "metadata": {},
   "source": [
    "- `np.randint`: Random Integer"
   ]
  },
  {
   "cell_type": "code",
   "execution_count": 25,
   "id": "a97ae92f-ce81-417d-8ee5-1625f74811c2",
   "metadata": {},
   "outputs": [
    {
     "data": {
      "text/plain": [
       "35"
      ]
     },
     "execution_count": 25,
     "metadata": {},
     "output_type": "execute_result"
    }
   ],
   "source": [
    "np.random.randint(1,100)"
   ]
  },
  {
   "cell_type": "code",
   "execution_count": 26,
   "id": "d2cb9184-862a-43ce-8418-521dc34ab5de",
   "metadata": {},
   "outputs": [
    {
     "data": {
      "text/plain": [
       "array([18, 48, 32, 77,  6, 93, 40,  8, 65, 26, 89,  7, 31, 36, 20, 64, 42,\n",
       "       54, 44, 28, 89, 40, 50, 23,  6, 48, 87, 73, 93, 18, 67, 59, 73, 34,\n",
       "       48,  3,  2, 48, 87, 22, 55, 38,  6, 25, 77, 48, 79, 57, 83,  9])"
      ]
     },
     "execution_count": 26,
     "metadata": {},
     "output_type": "execute_result"
    }
   ],
   "source": [
    "np.random.randint(1,100,50)"
   ]
  },
  {
   "cell_type": "markdown",
   "id": "16438e2d-166b-4ad7-ad92-7eca92d6df76",
   "metadata": {},
   "source": [
    "- `np.reshape`: Reshape Array"
   ]
  },
  {
   "cell_type": "code",
   "execution_count": 33,
   "id": "c64cfd44-7a94-45a0-831e-805d82deefec",
   "metadata": {},
   "outputs": [],
   "source": [
    "array = np.arange(25)"
   ]
  },
  {
   "cell_type": "code",
   "execution_count": 34,
   "id": "c32d03e8-dea9-4ce4-ba24-efcf107edb57",
   "metadata": {},
   "outputs": [
    {
     "data": {
      "text/plain": [
       "array([ 0,  1,  2,  3,  4,  5,  6,  7,  8,  9, 10, 11, 12, 13, 14, 15, 16,\n",
       "       17, 18, 19, 20, 21, 22, 23, 24])"
      ]
     },
     "execution_count": 34,
     "metadata": {},
     "output_type": "execute_result"
    }
   ],
   "source": [
    "array"
   ]
  },
  {
   "cell_type": "code",
   "execution_count": 35,
   "id": "2f4a4985-3c51-46bc-9bd4-0bab92dc7597",
   "metadata": {},
   "outputs": [
    {
     "data": {
      "text/plain": [
       "numpy.ndarray"
      ]
     },
     "execution_count": 35,
     "metadata": {},
     "output_type": "execute_result"
    }
   ],
   "source": [
    "type(array)"
   ]
  },
  {
   "cell_type": "code",
   "execution_count": 36,
   "id": "7e10f4d0-6865-4016-8f01-abfe5af6ac77",
   "metadata": {},
   "outputs": [
    {
     "data": {
      "text/plain": [
       "array([[ 0,  1,  2,  3,  4],\n",
       "       [ 5,  6,  7,  8,  9],\n",
       "       [10, 11, 12, 13, 14],\n",
       "       [15, 16, 17, 18, 19],\n",
       "       [20, 21, 22, 23, 24]])"
      ]
     },
     "execution_count": 36,
     "metadata": {},
     "output_type": "execute_result"
    }
   ],
   "source": [
    "array.reshape(5,5)"
   ]
  },
  {
   "cell_type": "markdown",
   "id": "31ff5cd2-5361-4698-9edf-1ec3697f2698",
   "metadata": {},
   "source": [
    "- Max Min, Arg Max, Arg Min"
   ]
  },
  {
   "cell_type": "code",
   "execution_count": 37,
   "id": "ae986276-ec71-4206-a576-5a86a024120f",
   "metadata": {},
   "outputs": [],
   "source": [
    "l = np.random.randint(1,100,30)"
   ]
  },
  {
   "cell_type": "code",
   "execution_count": 38,
   "id": "3a26bf01-9a13-4fc0-acad-e3da5cd21c45",
   "metadata": {},
   "outputs": [
    {
     "data": {
      "text/plain": [
       "array([78, 24, 56, 31, 49,  3, 49, 26, 84, 73, 47, 46, 88, 66, 28, 53, 13,\n",
       "       47, 70, 53, 66, 86, 56, 59, 36, 52, 39, 80, 47, 84])"
      ]
     },
     "execution_count": 38,
     "metadata": {},
     "output_type": "execute_result"
    }
   ],
   "source": [
    "l"
   ]
  },
  {
   "cell_type": "code",
   "execution_count": 39,
   "id": "912cb293-e342-4364-b48d-2889210e74e9",
   "metadata": {},
   "outputs": [
    {
     "data": {
      "text/plain": [
       "30"
      ]
     },
     "execution_count": 39,
     "metadata": {},
     "output_type": "execute_result"
    }
   ],
   "source": [
    "len(l)"
   ]
  },
  {
   "cell_type": "code",
   "execution_count": 40,
   "id": "20f88f2d-eebf-4ac4-9604-43161cb74fe5",
   "metadata": {},
   "outputs": [
    {
     "data": {
      "text/plain": [
       "np.int64(88)"
      ]
     },
     "execution_count": 40,
     "metadata": {},
     "output_type": "execute_result"
    }
   ],
   "source": [
    "l.max()"
   ]
  },
  {
   "cell_type": "code",
   "execution_count": 41,
   "id": "6fb80126-4bb3-46e0-8ca9-33b4265e9ebf",
   "metadata": {},
   "outputs": [
    {
     "data": {
      "text/plain": [
       "np.int64(3)"
      ]
     },
     "execution_count": 41,
     "metadata": {},
     "output_type": "execute_result"
    }
   ],
   "source": [
    "l.min()"
   ]
  },
  {
   "cell_type": "code",
   "execution_count": 42,
   "id": "8049508f-33f5-408c-8872-f6fd6b3dd363",
   "metadata": {},
   "outputs": [
    {
     "data": {
      "text/plain": [
       "np.int64(12)"
      ]
     },
     "execution_count": 42,
     "metadata": {},
     "output_type": "execute_result"
    }
   ],
   "source": [
    "l.argmax() # returns Position of Max value"
   ]
  },
  {
   "cell_type": "code",
   "execution_count": 43,
   "id": "802dd378-3d25-4415-b794-5b72047068d2",
   "metadata": {},
   "outputs": [
    {
     "data": {
      "text/plain": [
       "np.int64(5)"
      ]
     },
     "execution_count": 43,
     "metadata": {},
     "output_type": "execute_result"
    }
   ],
   "source": [
    "l.argmin() # returns Position of min value"
   ]
  },
  {
   "cell_type": "markdown",
   "id": "cf66a85b-4844-4dd7-93b8-b996ce20f72a",
   "metadata": {},
   "source": [
    "- `np.shape`: Checks for shape"
   ]
  },
  {
   "cell_type": "code",
   "execution_count": 45,
   "id": "77735ef3-7e41-4b44-81ad-b4e6d3b88368",
   "metadata": {},
   "outputs": [
    {
     "data": {
      "text/plain": [
       "(25,)"
      ]
     },
     "execution_count": 45,
     "metadata": {},
     "output_type": "execute_result"
    }
   ],
   "source": [
    "np.shape(array)"
   ]
  },
  {
   "cell_type": "code",
   "execution_count": 46,
   "id": "52452891-cc97-4356-8023-e9899746e148",
   "metadata": {},
   "outputs": [],
   "source": [
    "s = array.reshape(5,5)"
   ]
  },
  {
   "cell_type": "code",
   "execution_count": 47,
   "id": "308643d2-2a0f-4913-b7a3-d1b3959a656a",
   "metadata": {},
   "outputs": [
    {
     "data": {
      "text/plain": [
       "array([[ 0,  1,  2,  3,  4],\n",
       "       [ 5,  6,  7,  8,  9],\n",
       "       [10, 11, 12, 13, 14],\n",
       "       [15, 16, 17, 18, 19],\n",
       "       [20, 21, 22, 23, 24]])"
      ]
     },
     "execution_count": 47,
     "metadata": {},
     "output_type": "execute_result"
    }
   ],
   "source": [
    "s"
   ]
  },
  {
   "cell_type": "code",
   "execution_count": 49,
   "id": "664d80a7-41da-45b2-bfe5-0cb6ccdbe6f1",
   "metadata": {},
   "outputs": [
    {
     "data": {
      "text/plain": [
       "(5, 5)"
      ]
     },
     "execution_count": 49,
     "metadata": {},
     "output_type": "execute_result"
    }
   ],
   "source": [
    "np.shape(s)"
   ]
  },
  {
   "cell_type": "markdown",
   "id": "990d9d1c-962c-40df-a806-0d6c25e69af8",
   "metadata": {},
   "source": [
    "- `np.dtype`: Datatype check"
   ]
  },
  {
   "cell_type": "code",
   "execution_count": 52,
   "id": "71031d28-5b99-4e01-b572-c776c466021a",
   "metadata": {},
   "outputs": [
    {
     "data": {
      "text/plain": [
       "dtype('int64')"
      ]
     },
     "execution_count": 52,
     "metadata": {},
     "output_type": "execute_result"
    }
   ],
   "source": [
    "s.dtype"
   ]
  },
  {
   "cell_type": "code",
   "execution_count": 53,
   "id": "42cd6f65-e158-45cb-8621-61716860fea4",
   "metadata": {},
   "outputs": [],
   "source": [
    "l1 = np.arange(5)\n",
    "l2 = np.arange(5)"
   ]
  },
  {
   "cell_type": "markdown",
   "id": "ec07cac6-7dd5-4a56-83b8-39e338aad744",
   "metadata": {},
   "source": [
    "`np.concat`: Concat two array"
   ]
  },
  {
   "cell_type": "code",
   "execution_count": 54,
   "id": "f7cf13c2-1d3f-4fff-a2dd-c0b33315ddcf",
   "metadata": {},
   "outputs": [
    {
     "data": {
      "text/plain": [
       "array([0, 1, 2, 3, 4, 0, 1, 2, 3, 4])"
      ]
     },
     "execution_count": 54,
     "metadata": {},
     "output_type": "execute_result"
    }
   ],
   "source": [
    "np.concat((l1,l2))"
   ]
  },
  {
   "cell_type": "markdown",
   "id": "c576a298-6fbc-49d8-97ea-c7c33de25fd3",
   "metadata": {},
   "source": [
    "# Task"
   ]
  },
  {
   "cell_type": "code",
   "execution_count": 56,
   "id": "046356e6-a175-434c-a37c-f8a1d27a9701",
   "metadata": {},
   "outputs": [],
   "source": [
    "l = np.zeros((5,5))"
   ]
  },
  {
   "cell_type": "code",
   "execution_count": 57,
   "id": "b72d3148-0097-41db-9c17-f45dccfa0872",
   "metadata": {},
   "outputs": [
    {
     "data": {
      "text/plain": [
       "array([[0., 0., 0., 0., 0.],\n",
       "       [0., 0., 0., 0., 0.],\n",
       "       [0., 0., 0., 0., 0.],\n",
       "       [0., 0., 0., 0., 0.],\n",
       "       [0., 0., 0., 0., 0.]])"
      ]
     },
     "execution_count": 57,
     "metadata": {},
     "output_type": "execute_result"
    }
   ],
   "source": [
    "l"
   ]
  },
  {
   "cell_type": "code",
   "execution_count": 72,
   "id": "5e3a07db-590b-4a02-9f7a-f1d5bd9775a2",
   "metadata": {},
   "outputs": [],
   "source": [
    "for i in range(len(l)):\n",
    "    if i == 0 or i == 3:\n",
    "        l[i] = 1.0\n",
    "    elif i == 1 or i == 4:\n",
    "        l[i] = 0.0\n",
    "    elif i == 2:\n",
    "        l[i] = np.random.randint(1, 100, len(l[i]))"
   ]
  },
  {
   "cell_type": "code",
   "execution_count": 73,
   "id": "a941743b-0b7c-4b5c-80c5-3f4a485df674",
   "metadata": {},
   "outputs": [
    {
     "data": {
      "text/plain": [
       "array([[ 1.,  1.,  1.,  1.,  1.],\n",
       "       [ 0.,  0.,  0.,  0.,  0.],\n",
       "       [33., 78., 79., 66., 32.],\n",
       "       [ 1.,  1.,  1.,  1.,  1.],\n",
       "       [ 0.,  0.,  0.,  0.,  0.]])"
      ]
     },
     "execution_count": 73,
     "metadata": {},
     "output_type": "execute_result"
    }
   ],
   "source": [
    "l"
   ]
  }
 ],
 "metadata": {
  "kernelspec": {
   "display_name": "Python 3 (ipykernel)",
   "language": "python",
   "name": "python3"
  },
  "language_info": {
   "codemirror_mode": {
    "name": "ipython",
    "version": 3
   },
   "file_extension": ".py",
   "mimetype": "text/x-python",
   "name": "python",
   "nbconvert_exporter": "python",
   "pygments_lexer": "ipython3",
   "version": "3.12.7"
  }
 },
 "nbformat": 4,
 "nbformat_minor": 5
}

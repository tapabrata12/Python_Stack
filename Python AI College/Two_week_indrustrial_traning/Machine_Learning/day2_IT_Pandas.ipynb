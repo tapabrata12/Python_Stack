{
 "cells": [
  {
   "cell_type": "markdown",
   "id": "e5847728-6e9b-4700-9d0b-c5d27fdcb9b6",
   "metadata": {},
   "source": [
    "### Importing Libraries"
   ]
  },
  {
   "cell_type": "code",
   "execution_count": 49,
   "id": "59bb754d-ac2a-4b98-95b1-4b21cefbcb32",
   "metadata": {},
   "outputs": [],
   "source": [
    "import pandas as pd"
   ]
  },
  {
   "cell_type": "code",
   "execution_count": 50,
   "id": "4adc0cc7-d34e-41ff-b779-a7b7639f066e",
   "metadata": {},
   "outputs": [],
   "source": [
    "import numpy as np"
   ]
  },
  {
   "cell_type": "code",
   "execution_count": 51,
   "id": "3ac3ac98-b9f1-4a8c-9a44-c7147d719a80",
   "metadata": {},
   "outputs": [],
   "source": [
    "myIndex = ['USA', 'CANADA', 'MEXCICO']"
   ]
  },
  {
   "cell_type": "code",
   "execution_count": 52,
   "id": "24e7432b-8b24-48e9-aa5a-a738a697d641",
   "metadata": {},
   "outputs": [],
   "source": [
    "mydata = [656515,51654684,554351]"
   ]
  },
  {
   "cell_type": "markdown",
   "id": "7ad08cb1-5938-40a6-ab8c-13aaad3edbb5",
   "metadata": {},
   "source": [
    "- `pd.series`: Make serises"
   ]
  },
  {
   "cell_type": "code",
   "execution_count": 53,
   "id": "bba0910e-83fa-486b-8c15-7e8cca89acf8",
   "metadata": {},
   "outputs": [],
   "source": [
    "myseries = pd.Series(mydata)"
   ]
  },
  {
   "cell_type": "code",
   "execution_count": 54,
   "id": "e2082239-fb94-4e7e-94b3-46bd0595320b",
   "metadata": {},
   "outputs": [
    {
     "data": {
      "text/plain": [
       "0      656515\n",
       "1    51654684\n",
       "2      554351\n",
       "dtype: int64"
      ]
     },
     "execution_count": 54,
     "metadata": {},
     "output_type": "execute_result"
    }
   ],
   "source": [
    "myseries"
   ]
  },
  {
   "cell_type": "code",
   "execution_count": 55,
   "id": "36ef8a70-fd13-4f3e-ae18-bd67af99111e",
   "metadata": {},
   "outputs": [],
   "source": [
    "myseries = pd.Series(data= mydata, index = myIndex)"
   ]
  },
  {
   "cell_type": "code",
   "execution_count": 56,
   "id": "5c716430-babb-4f7d-8d8e-535feea80474",
   "metadata": {},
   "outputs": [
    {
     "data": {
      "text/plain": [
       "USA          656515\n",
       "CANADA     51654684\n",
       "MEXCICO      554351\n",
       "dtype: int64"
      ]
     },
     "execution_count": 56,
     "metadata": {},
     "output_type": "execute_result"
    }
   ],
   "source": [
    "myseries"
   ]
  },
  {
   "cell_type": "markdown",
   "id": "426442e3-b6e9-49fa-8cae-52ce96daabcf",
   "metadata": {},
   "source": [
    "### From dictnary"
   ]
  },
  {
   "cell_type": "code",
   "execution_count": 57,
   "id": "4390fcf5-e492-42a0-81ee-c3a94588ebc5",
   "metadata": {},
   "outputs": [],
   "source": [
    "age = {'Samay': 5, 'Tapabrata': 22, 'Krishna': 50}"
   ]
  },
  {
   "cell_type": "code",
   "execution_count": 58,
   "id": "3b0f5b46-ccc8-46d2-90c1-c8177b1b23eb",
   "metadata": {},
   "outputs": [],
   "source": [
    "d = pd.Series(age)"
   ]
  },
  {
   "cell_type": "code",
   "execution_count": 59,
   "id": "d36e67bf-cc55-4745-a572-d0d85760686b",
   "metadata": {},
   "outputs": [
    {
     "data": {
      "text/plain": [
       "Samay         5\n",
       "Tapabrata    22\n",
       "Krishna      50\n",
       "dtype: int64"
      ]
     },
     "execution_count": 59,
     "metadata": {},
     "output_type": "execute_result"
    }
   ],
   "source": [
    "d"
   ]
  },
  {
   "cell_type": "markdown",
   "id": "8632f609-b7a3-47bb-85a7-d1c578e7eadb",
   "metadata": {},
   "source": [
    "### Operations"
   ]
  },
  {
   "cell_type": "code",
   "execution_count": 60,
   "id": "74c5c5e7-ab6d-42d5-ab12-55fdce06f636",
   "metadata": {},
   "outputs": [],
   "source": [
    "d = pd.Series(age)"
   ]
  },
  {
   "cell_type": "code",
   "execution_count": 61,
   "id": "5f8e78f0-30e0-4fa0-96d3-17580e6b85c6",
   "metadata": {},
   "outputs": [
    {
     "data": {
      "text/plain": [
       "np.int64(22)"
      ]
     },
     "execution_count": 61,
     "metadata": {},
     "output_type": "execute_result"
    }
   ],
   "source": [
    "d['Tapabrata']"
   ]
  },
  {
   "cell_type": "markdown",
   "id": "45314bdb-5897-4d4f-ab05-3df226a932a9",
   "metadata": {},
   "source": [
    "`.keys()`: Returns all the keys"
   ]
  },
  {
   "cell_type": "code",
   "execution_count": 62,
   "id": "9ba39f91-a9a9-4dd1-82a0-dbc237555d5e",
   "metadata": {},
   "outputs": [
    {
     "data": {
      "text/plain": [
       "dict_keys(['Samay', 'Tapabrata', 'Krishna'])"
      ]
     },
     "execution_count": 62,
     "metadata": {},
     "output_type": "execute_result"
    }
   ],
   "source": [
    "age.keys()"
   ]
  },
  {
   "cell_type": "markdown",
   "id": "17321f20-e59a-4396-b08f-bd15d1e82b1f",
   "metadata": {},
   "source": [
    "`.values()`: Returns all the values"
   ]
  },
  {
   "cell_type": "code",
   "execution_count": 63,
   "id": "cbc2f3d4-af73-4258-bef3-d016896e82c6",
   "metadata": {},
   "outputs": [
    {
     "data": {
      "text/plain": [
       "dict_values([5, 22, 50])"
      ]
     },
     "execution_count": 63,
     "metadata": {},
     "output_type": "execute_result"
    }
   ],
   "source": [
    "age.values()"
   ]
  },
  {
   "cell_type": "code",
   "execution_count": 64,
   "id": "65f68e1d-46da-4d5f-abb0-32f50f750acf",
   "metadata": {},
   "outputs": [
    {
     "name": "stderr",
     "output_type": "stream",
     "text": [
      "/tmp/ipykernel_2562/708413107.py:1: FutureWarning: Series.__getitem__ treating keys as positions is deprecated. In a future version, integer keys will always be treated as labels (consistent with DataFrame behavior). To access a value by position, use `ser.iloc[pos]`\n",
      "  d[1]\n"
     ]
    },
    {
     "data": {
      "text/plain": [
       "np.int64(22)"
      ]
     },
     "execution_count": 64,
     "metadata": {},
     "output_type": "execute_result"
    }
   ],
   "source": [
    "d[1]"
   ]
  },
  {
   "cell_type": "code",
   "execution_count": 65,
   "id": "c5d9c2fc-00aa-4a8d-b74c-49cab88139ee",
   "metadata": {},
   "outputs": [
    {
     "data": {
      "text/plain": [
       "Samay         5\n",
       "Tapabrata    22\n",
       "Krishna      50\n",
       "dtype: int64"
      ]
     },
     "execution_count": 65,
     "metadata": {},
     "output_type": "execute_result"
    }
   ],
   "source": [
    "d"
   ]
  },
  {
   "cell_type": "code",
   "execution_count": 66,
   "id": "ca743e4c-0957-4017-a8af-ca573410acc1",
   "metadata": {},
   "outputs": [
    {
     "data": {
      "text/plain": [
       "Samay         25\n",
       "Tapabrata    110\n",
       "Krishna      250\n",
       "dtype: int64"
      ]
     },
     "execution_count": 66,
     "metadata": {},
     "output_type": "execute_result"
    }
   ],
   "source": [
    "d * 5 # Multiplication operation"
   ]
  },
  {
   "cell_type": "markdown",
   "id": "efbe406c-d4fa-4335-9bd6-f97366d8bcb0",
   "metadata": {},
   "source": [
    "## DataFrame"
   ]
  },
  {
   "cell_type": "code",
   "execution_count": 67,
   "id": "c8afe363-ed27-4212-8e00-e3246da77ad2",
   "metadata": {},
   "outputs": [],
   "source": [
    "import pandas as pd \n",
    "import numpy as np\n",
    "\n",
    "myData = np.random.randint(0,101,(10,12))"
   ]
  },
  {
   "cell_type": "code",
   "execution_count": 68,
   "id": "8413962a-93fd-4b57-93f9-d1166c25d8c7",
   "metadata": {},
   "outputs": [
    {
     "data": {
      "text/plain": [
       "array([[  3,  77,  76,  64,  81,   1,  42,  33,  93,  62,  97,  98],\n",
       "       [ 20,  84,  86,  75,  57,  77,  30,  82,   2,   5,  48,  79],\n",
       "       [ 62,  22,  69,  93,  97,  27,  70,  91,  49,  68,  13,  63],\n",
       "       [  5,  48,  17,  68,   9,  99,  68,  16,  79,  11,  71,  74],\n",
       "       [ 73,  43,  61,  62,   9,  46,  75,   7,   3, 100,  57,  26],\n",
       "       [ 65,  38,  49,  82,  55,  52,  26,   7,  20,  62,  58,  30],\n",
       "       [ 88,  60,  53,  91,  69,  22,  19,  11,  46,  61,  82,  87],\n",
       "       [ 57,  49, 100,  29,  77,  63,  55,  55,   5,  17,  45,  93],\n",
       "       [ 72,  97,  10,  96,  89,  36,  90, 100,  95,   6,  68,  11],\n",
       "       [ 60,  58,  51,  84,  78,  43,  63,  61,  70,  98,  54,  84]])"
      ]
     },
     "execution_count": 68,
     "metadata": {},
     "output_type": "execute_result"
    }
   ],
   "source": [
    "myData"
   ]
  },
  {
   "cell_type": "code",
   "execution_count": 69,
   "id": "7c8b7e69-0c8b-40e7-93d0-195d57a7972c",
   "metadata": {},
   "outputs": [],
   "source": [
    "myIndexes = ['Person1','Person2','Person3','Person4','Person5','Person6','Person7','Person8','Person9','Person10']"
   ]
  },
  {
   "cell_type": "code",
   "execution_count": 70,
   "id": "20922784-a3aa-4eb5-9402-e28660b5b3b5",
   "metadata": {},
   "outputs": [],
   "source": [
    "myColumns = ['Jan','Feb','Mar','Apr','May','Jun','Jul','Aug','Sep','Oct','Nov','Dec']"
   ]
  },
  {
   "cell_type": "code",
   "execution_count": 71,
   "id": "74932ed9-c4ac-4397-8ccf-0e70aa20aaa6",
   "metadata": {},
   "outputs": [],
   "source": [
    "df = pd.DataFrame(myData)"
   ]
  },
  {
   "cell_type": "code",
   "execution_count": 72,
   "id": "3902c192-3071-40a0-8a47-337056b2711c",
   "metadata": {},
   "outputs": [
    {
     "data": {
      "text/html": [
       "<div>\n",
       "<style scoped>\n",
       "    .dataframe tbody tr th:only-of-type {\n",
       "        vertical-align: middle;\n",
       "    }\n",
       "\n",
       "    .dataframe tbody tr th {\n",
       "        vertical-align: top;\n",
       "    }\n",
       "\n",
       "    .dataframe thead th {\n",
       "        text-align: right;\n",
       "    }\n",
       "</style>\n",
       "<table border=\"1\" class=\"dataframe\">\n",
       "  <thead>\n",
       "    <tr style=\"text-align: right;\">\n",
       "      <th></th>\n",
       "      <th>0</th>\n",
       "      <th>1</th>\n",
       "      <th>2</th>\n",
       "      <th>3</th>\n",
       "      <th>4</th>\n",
       "      <th>5</th>\n",
       "      <th>6</th>\n",
       "      <th>7</th>\n",
       "      <th>8</th>\n",
       "      <th>9</th>\n",
       "      <th>10</th>\n",
       "      <th>11</th>\n",
       "    </tr>\n",
       "  </thead>\n",
       "  <tbody>\n",
       "    <tr>\n",
       "      <th>0</th>\n",
       "      <td>3</td>\n",
       "      <td>77</td>\n",
       "      <td>76</td>\n",
       "      <td>64</td>\n",
       "      <td>81</td>\n",
       "      <td>1</td>\n",
       "      <td>42</td>\n",
       "      <td>33</td>\n",
       "      <td>93</td>\n",
       "      <td>62</td>\n",
       "      <td>97</td>\n",
       "      <td>98</td>\n",
       "    </tr>\n",
       "    <tr>\n",
       "      <th>1</th>\n",
       "      <td>20</td>\n",
       "      <td>84</td>\n",
       "      <td>86</td>\n",
       "      <td>75</td>\n",
       "      <td>57</td>\n",
       "      <td>77</td>\n",
       "      <td>30</td>\n",
       "      <td>82</td>\n",
       "      <td>2</td>\n",
       "      <td>5</td>\n",
       "      <td>48</td>\n",
       "      <td>79</td>\n",
       "    </tr>\n",
       "    <tr>\n",
       "      <th>2</th>\n",
       "      <td>62</td>\n",
       "      <td>22</td>\n",
       "      <td>69</td>\n",
       "      <td>93</td>\n",
       "      <td>97</td>\n",
       "      <td>27</td>\n",
       "      <td>70</td>\n",
       "      <td>91</td>\n",
       "      <td>49</td>\n",
       "      <td>68</td>\n",
       "      <td>13</td>\n",
       "      <td>63</td>\n",
       "    </tr>\n",
       "    <tr>\n",
       "      <th>3</th>\n",
       "      <td>5</td>\n",
       "      <td>48</td>\n",
       "      <td>17</td>\n",
       "      <td>68</td>\n",
       "      <td>9</td>\n",
       "      <td>99</td>\n",
       "      <td>68</td>\n",
       "      <td>16</td>\n",
       "      <td>79</td>\n",
       "      <td>11</td>\n",
       "      <td>71</td>\n",
       "      <td>74</td>\n",
       "    </tr>\n",
       "    <tr>\n",
       "      <th>4</th>\n",
       "      <td>73</td>\n",
       "      <td>43</td>\n",
       "      <td>61</td>\n",
       "      <td>62</td>\n",
       "      <td>9</td>\n",
       "      <td>46</td>\n",
       "      <td>75</td>\n",
       "      <td>7</td>\n",
       "      <td>3</td>\n",
       "      <td>100</td>\n",
       "      <td>57</td>\n",
       "      <td>26</td>\n",
       "    </tr>\n",
       "    <tr>\n",
       "      <th>5</th>\n",
       "      <td>65</td>\n",
       "      <td>38</td>\n",
       "      <td>49</td>\n",
       "      <td>82</td>\n",
       "      <td>55</td>\n",
       "      <td>52</td>\n",
       "      <td>26</td>\n",
       "      <td>7</td>\n",
       "      <td>20</td>\n",
       "      <td>62</td>\n",
       "      <td>58</td>\n",
       "      <td>30</td>\n",
       "    </tr>\n",
       "    <tr>\n",
       "      <th>6</th>\n",
       "      <td>88</td>\n",
       "      <td>60</td>\n",
       "      <td>53</td>\n",
       "      <td>91</td>\n",
       "      <td>69</td>\n",
       "      <td>22</td>\n",
       "      <td>19</td>\n",
       "      <td>11</td>\n",
       "      <td>46</td>\n",
       "      <td>61</td>\n",
       "      <td>82</td>\n",
       "      <td>87</td>\n",
       "    </tr>\n",
       "    <tr>\n",
       "      <th>7</th>\n",
       "      <td>57</td>\n",
       "      <td>49</td>\n",
       "      <td>100</td>\n",
       "      <td>29</td>\n",
       "      <td>77</td>\n",
       "      <td>63</td>\n",
       "      <td>55</td>\n",
       "      <td>55</td>\n",
       "      <td>5</td>\n",
       "      <td>17</td>\n",
       "      <td>45</td>\n",
       "      <td>93</td>\n",
       "    </tr>\n",
       "    <tr>\n",
       "      <th>8</th>\n",
       "      <td>72</td>\n",
       "      <td>97</td>\n",
       "      <td>10</td>\n",
       "      <td>96</td>\n",
       "      <td>89</td>\n",
       "      <td>36</td>\n",
       "      <td>90</td>\n",
       "      <td>100</td>\n",
       "      <td>95</td>\n",
       "      <td>6</td>\n",
       "      <td>68</td>\n",
       "      <td>11</td>\n",
       "    </tr>\n",
       "    <tr>\n",
       "      <th>9</th>\n",
       "      <td>60</td>\n",
       "      <td>58</td>\n",
       "      <td>51</td>\n",
       "      <td>84</td>\n",
       "      <td>78</td>\n",
       "      <td>43</td>\n",
       "      <td>63</td>\n",
       "      <td>61</td>\n",
       "      <td>70</td>\n",
       "      <td>98</td>\n",
       "      <td>54</td>\n",
       "      <td>84</td>\n",
       "    </tr>\n",
       "  </tbody>\n",
       "</table>\n",
       "</div>"
      ],
      "text/plain": [
       "   0   1    2   3   4   5   6    7   8    9   10  11\n",
       "0   3  77   76  64  81   1  42   33  93   62  97  98\n",
       "1  20  84   86  75  57  77  30   82   2    5  48  79\n",
       "2  62  22   69  93  97  27  70   91  49   68  13  63\n",
       "3   5  48   17  68   9  99  68   16  79   11  71  74\n",
       "4  73  43   61  62   9  46  75    7   3  100  57  26\n",
       "5  65  38   49  82  55  52  26    7  20   62  58  30\n",
       "6  88  60   53  91  69  22  19   11  46   61  82  87\n",
       "7  57  49  100  29  77  63  55   55   5   17  45  93\n",
       "8  72  97   10  96  89  36  90  100  95    6  68  11\n",
       "9  60  58   51  84  78  43  63   61  70   98  54  84"
      ]
     },
     "execution_count": 72,
     "metadata": {},
     "output_type": "execute_result"
    }
   ],
   "source": [
    "df"
   ]
  },
  {
   "cell_type": "code",
   "execution_count": 73,
   "id": "bfa3f63b-3e24-454a-8a19-6a8143b4fefe",
   "metadata": {},
   "outputs": [],
   "source": [
    "df = pd.DataFrame(data = myData, index = myIndexes,columns = myColumns)"
   ]
  },
  {
   "cell_type": "code",
   "execution_count": 74,
   "id": "10dec14d-9018-42e3-9874-4869b96e5bce",
   "metadata": {},
   "outputs": [
    {
     "data": {
      "text/html": [
       "<div>\n",
       "<style scoped>\n",
       "    .dataframe tbody tr th:only-of-type {\n",
       "        vertical-align: middle;\n",
       "    }\n",
       "\n",
       "    .dataframe tbody tr th {\n",
       "        vertical-align: top;\n",
       "    }\n",
       "\n",
       "    .dataframe thead th {\n",
       "        text-align: right;\n",
       "    }\n",
       "</style>\n",
       "<table border=\"1\" class=\"dataframe\">\n",
       "  <thead>\n",
       "    <tr style=\"text-align: right;\">\n",
       "      <th></th>\n",
       "      <th>Jan</th>\n",
       "      <th>Feb</th>\n",
       "      <th>Mar</th>\n",
       "      <th>Apr</th>\n",
       "      <th>May</th>\n",
       "      <th>Jun</th>\n",
       "      <th>Jul</th>\n",
       "      <th>Aug</th>\n",
       "      <th>Sep</th>\n",
       "      <th>Oct</th>\n",
       "      <th>Nov</th>\n",
       "      <th>Dec</th>\n",
       "    </tr>\n",
       "  </thead>\n",
       "  <tbody>\n",
       "    <tr>\n",
       "      <th>Person1</th>\n",
       "      <td>3</td>\n",
       "      <td>77</td>\n",
       "      <td>76</td>\n",
       "      <td>64</td>\n",
       "      <td>81</td>\n",
       "      <td>1</td>\n",
       "      <td>42</td>\n",
       "      <td>33</td>\n",
       "      <td>93</td>\n",
       "      <td>62</td>\n",
       "      <td>97</td>\n",
       "      <td>98</td>\n",
       "    </tr>\n",
       "    <tr>\n",
       "      <th>Person2</th>\n",
       "      <td>20</td>\n",
       "      <td>84</td>\n",
       "      <td>86</td>\n",
       "      <td>75</td>\n",
       "      <td>57</td>\n",
       "      <td>77</td>\n",
       "      <td>30</td>\n",
       "      <td>82</td>\n",
       "      <td>2</td>\n",
       "      <td>5</td>\n",
       "      <td>48</td>\n",
       "      <td>79</td>\n",
       "    </tr>\n",
       "    <tr>\n",
       "      <th>Person3</th>\n",
       "      <td>62</td>\n",
       "      <td>22</td>\n",
       "      <td>69</td>\n",
       "      <td>93</td>\n",
       "      <td>97</td>\n",
       "      <td>27</td>\n",
       "      <td>70</td>\n",
       "      <td>91</td>\n",
       "      <td>49</td>\n",
       "      <td>68</td>\n",
       "      <td>13</td>\n",
       "      <td>63</td>\n",
       "    </tr>\n",
       "    <tr>\n",
       "      <th>Person4</th>\n",
       "      <td>5</td>\n",
       "      <td>48</td>\n",
       "      <td>17</td>\n",
       "      <td>68</td>\n",
       "      <td>9</td>\n",
       "      <td>99</td>\n",
       "      <td>68</td>\n",
       "      <td>16</td>\n",
       "      <td>79</td>\n",
       "      <td>11</td>\n",
       "      <td>71</td>\n",
       "      <td>74</td>\n",
       "    </tr>\n",
       "    <tr>\n",
       "      <th>Person5</th>\n",
       "      <td>73</td>\n",
       "      <td>43</td>\n",
       "      <td>61</td>\n",
       "      <td>62</td>\n",
       "      <td>9</td>\n",
       "      <td>46</td>\n",
       "      <td>75</td>\n",
       "      <td>7</td>\n",
       "      <td>3</td>\n",
       "      <td>100</td>\n",
       "      <td>57</td>\n",
       "      <td>26</td>\n",
       "    </tr>\n",
       "    <tr>\n",
       "      <th>Person6</th>\n",
       "      <td>65</td>\n",
       "      <td>38</td>\n",
       "      <td>49</td>\n",
       "      <td>82</td>\n",
       "      <td>55</td>\n",
       "      <td>52</td>\n",
       "      <td>26</td>\n",
       "      <td>7</td>\n",
       "      <td>20</td>\n",
       "      <td>62</td>\n",
       "      <td>58</td>\n",
       "      <td>30</td>\n",
       "    </tr>\n",
       "    <tr>\n",
       "      <th>Person7</th>\n",
       "      <td>88</td>\n",
       "      <td>60</td>\n",
       "      <td>53</td>\n",
       "      <td>91</td>\n",
       "      <td>69</td>\n",
       "      <td>22</td>\n",
       "      <td>19</td>\n",
       "      <td>11</td>\n",
       "      <td>46</td>\n",
       "      <td>61</td>\n",
       "      <td>82</td>\n",
       "      <td>87</td>\n",
       "    </tr>\n",
       "    <tr>\n",
       "      <th>Person8</th>\n",
       "      <td>57</td>\n",
       "      <td>49</td>\n",
       "      <td>100</td>\n",
       "      <td>29</td>\n",
       "      <td>77</td>\n",
       "      <td>63</td>\n",
       "      <td>55</td>\n",
       "      <td>55</td>\n",
       "      <td>5</td>\n",
       "      <td>17</td>\n",
       "      <td>45</td>\n",
       "      <td>93</td>\n",
       "    </tr>\n",
       "    <tr>\n",
       "      <th>Person9</th>\n",
       "      <td>72</td>\n",
       "      <td>97</td>\n",
       "      <td>10</td>\n",
       "      <td>96</td>\n",
       "      <td>89</td>\n",
       "      <td>36</td>\n",
       "      <td>90</td>\n",
       "      <td>100</td>\n",
       "      <td>95</td>\n",
       "      <td>6</td>\n",
       "      <td>68</td>\n",
       "      <td>11</td>\n",
       "    </tr>\n",
       "    <tr>\n",
       "      <th>Person10</th>\n",
       "      <td>60</td>\n",
       "      <td>58</td>\n",
       "      <td>51</td>\n",
       "      <td>84</td>\n",
       "      <td>78</td>\n",
       "      <td>43</td>\n",
       "      <td>63</td>\n",
       "      <td>61</td>\n",
       "      <td>70</td>\n",
       "      <td>98</td>\n",
       "      <td>54</td>\n",
       "      <td>84</td>\n",
       "    </tr>\n",
       "  </tbody>\n",
       "</table>\n",
       "</div>"
      ],
      "text/plain": [
       "          Jan  Feb  Mar  Apr  May  Jun  Jul  Aug  Sep  Oct  Nov  Dec\n",
       "Person1     3   77   76   64   81    1   42   33   93   62   97   98\n",
       "Person2    20   84   86   75   57   77   30   82    2    5   48   79\n",
       "Person3    62   22   69   93   97   27   70   91   49   68   13   63\n",
       "Person4     5   48   17   68    9   99   68   16   79   11   71   74\n",
       "Person5    73   43   61   62    9   46   75    7    3  100   57   26\n",
       "Person6    65   38   49   82   55   52   26    7   20   62   58   30\n",
       "Person7    88   60   53   91   69   22   19   11   46   61   82   87\n",
       "Person8    57   49  100   29   77   63   55   55    5   17   45   93\n",
       "Person9    72   97   10   96   89   36   90  100   95    6   68   11\n",
       "Person10   60   58   51   84   78   43   63   61   70   98   54   84"
      ]
     },
     "execution_count": 74,
     "metadata": {},
     "output_type": "execute_result"
    }
   ],
   "source": [
    "df"
   ]
  },
  {
   "cell_type": "code",
   "execution_count": 75,
   "id": "ee14d02c-7ebc-4cf1-beef-89c099de398a",
   "metadata": {},
   "outputs": [
    {
     "name": "stdout",
     "output_type": "stream",
     "text": [
      "<class 'pandas.core.frame.DataFrame'>\n",
      "Index: 10 entries, Person1 to Person10\n",
      "Data columns (total 12 columns):\n",
      " #   Column  Non-Null Count  Dtype\n",
      "---  ------  --------------  -----\n",
      " 0   Jan     10 non-null     int64\n",
      " 1   Feb     10 non-null     int64\n",
      " 2   Mar     10 non-null     int64\n",
      " 3   Apr     10 non-null     int64\n",
      " 4   May     10 non-null     int64\n",
      " 5   Jun     10 non-null     int64\n",
      " 6   Jul     10 non-null     int64\n",
      " 7   Aug     10 non-null     int64\n",
      " 8   Sep     10 non-null     int64\n",
      " 9   Oct     10 non-null     int64\n",
      " 10  Nov     10 non-null     int64\n",
      " 11  Dec     10 non-null     int64\n",
      "dtypes: int64(12)\n",
      "memory usage: 1.0+ KB\n"
     ]
    }
   ],
   "source": [
    "df.info()"
   ]
  }
 ],
 "metadata": {
  "kernelspec": {
   "display_name": "Python 3 (ipykernel)",
   "language": "python",
   "name": "python3"
  },
  "language_info": {
   "codemirror_mode": {
    "name": "ipython",
    "version": 3
   },
   "file_extension": ".py",
   "mimetype": "text/x-python",
   "name": "python",
   "nbconvert_exporter": "python",
   "pygments_lexer": "ipython3",
   "version": "3.12.7"
  }
 },
 "nbformat": 4,
 "nbformat_minor": 5
}

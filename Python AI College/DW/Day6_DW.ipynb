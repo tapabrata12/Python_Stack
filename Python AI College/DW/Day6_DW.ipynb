{
 "cells": [
  {
   "cell_type": "markdown",
   "id": "3bbb10f5-4ac2-47ad-9f08-9c8bb3781554",
   "metadata": {},
   "source": [
    "# Data discretization(Equal-width)"
   ]
  },
  {
   "cell_type": "code",
   "execution_count": 2,
   "id": "06538223-d735-4054-aecf-dee74845a886",
   "metadata": {},
   "outputs": [
    {
     "name": "stdout",
     "output_type": "stream",
     "text": [
      "   Age    Age_Group   Age_Group1\n",
      "0   27        Young        Young\n",
      "1   34  Middle-aged        Young\n",
      "2   39  Middle-aged        Young\n",
      "3   43  Middle-aged  Middle-aged\n",
      "4   51  Middle-aged  Middle-aged\n",
      "5   69          Old  Middle-aged\n",
      "6   72          Old          Old\n",
      "7   83          Old          Old\n",
      "8   99          Old          Old\n"
     ]
    }
   ],
   "source": [
    "import pandas as pd\n",
    "df = pd.DataFrame({'Age': [27,34,39,43,51,69,72,83,99]})\n",
    "df['Age_Group'] = pd.cut(df['Age'], bins=[0, 30, 60, 100], labels=[\"Young\", \"Middle-aged\", \"Old\"])#fixed interval\n",
    "df['Age_Group1'] = pd.qcut(df['Age'], q=3, labels=[\"Young\", \"Middle-aged\", \"Old\"])\n",
    "print(df)"
   ]
  },
  {
   "cell_type": "code",
   "execution_count": 3,
   "id": "db9e0404-e1ea-4364-b0c7-be679e8efb4f",
   "metadata": {},
   "outputs": [
    {
     "name": "stdout",
     "output_type": "stream",
     "text": [
      "   Age    Age_Group   Age_Group1\n",
      "0   27        Young        Young\n",
      "1   34  Middle-aged        Young\n",
      "2   39  Middle-aged        Young\n",
      "3   43  Middle-aged  Middle-aged\n",
      "4   51  Middle-aged  Middle-aged\n",
      "5   69          Old  Middle-aged\n",
      "6   72          Old          Old\n",
      "7   83          Old          Old\n",
      "8   99          Old          Old\n"
     ]
    }
   ],
   "source": [
    "def age_category(age):\n",
    "    if age <= 30:\n",
    "        return \"Young\"\n",
    "    elif age <= 60:\n",
    "        return \"Middle-aged\"\n",
    "    else:\n",
    "        return \"Old\"\n",
    "\n",
    "df['Age_Group'] = df['Age'].apply(age_category)\n",
    "print(df)"
   ]
  },
  {
   "cell_type": "markdown",
   "id": "b0e8edca-f0dd-4188-8f1c-84472776fa78",
   "metadata": {},
   "source": [
    "# Data Reduction"
   ]
  },
  {
   "cell_type": "code",
   "execution_count": 2,
   "id": "1c2b8b3d-3a10-47d3-bef0-1702577f3573",
   "metadata": {},
   "outputs": [
    {
     "name": "stdout",
     "output_type": "stream",
     "text": [
      "    ID  Value Equal_Width_Bin Equal_Freq_Bin\n",
      "83  84     15             Low            Low\n",
      "53  54     29             Low         Medium\n",
      "70  71     99            High           High\n",
      "45  46     22             Low            Low\n",
      "44  45     79            High           High\n"
     ]
    }
   ],
   "source": [
    "import pandas as pd\n",
    "import numpy as np\n",
    "df = pd.DataFrame({'ID': range(1, 101), 'Value': np.random.randint(1, 100, 100)})\n",
    "df_sample = df.sample(frac=0.4, random_state=42)\n",
    "df_sample['Equal_Width_Bin'] = pd.cut(df_sample['Value'], bins=3, labels=[\"Low\", \"Medium\", \"High\"])\n",
    "df_sample['Equal_Freq_Bin'] = pd.qcut(df_sample['Value'], q=3, labels=[\"Low\", \"Medium\", \"High\"])\n",
    "print(df_sample.head())"
   ]
  },
  {
   "cell_type": "markdown",
   "id": "26a98ef5-20f5-4504-ac1c-ac90b3ab48a1",
   "metadata": {},
   "source": [
    "# Convert text categories into numbers"
   ]
  },
  {
   "cell_type": "code",
   "execution_count": 6,
   "id": "11b363d0-8f2f-4e01-9428-305deab44362",
   "metadata": {},
   "outputs": [
    {
     "name": "stdout",
     "output_type": "stream",
     "text": [
      "  Category  Category_Encoded\n",
      "0    Small                 4\n",
      "1   Medium                 2\n",
      "2    Large                 1\n",
      "3    Extra                 0\n",
      "4   Mining                 3\n"
     ]
    }
   ],
   "source": [
    "from sklearn.preprocessing import LabelEncoder\n",
    "import pandas as pd\n",
    "df = pd.DataFrame({'Category': ['Small', 'Medium', 'Large', 'Extra', 'Mining']})\n",
    "encoder = LabelEncoder()\n",
    "df['Category_Encoded'] = encoder.fit_transform(df['Category'])\n",
    "print(df)"
   ]
  },
  {
   "cell_type": "markdown",
   "id": "70c1ee3a-ceb8-4953-9e43-d0b85ac529db",
   "metadata": {},
   "source": [
    "# Data reduction using aggregation"
   ]
  },
  {
   "cell_type": "code",
   "execution_count": 7,
   "id": "0cdd95ad-d0fa-4834-9af2-56791f8e785f",
   "metadata": {},
   "outputs": [
    {
     "name": "stdout",
     "output_type": "stream",
     "text": [
      "             Temperature\n",
      "City                    \n",
      "Chicago             24.5\n",
      "Los Angeles         27.5\n",
      "New York            31.0\n"
     ]
    }
   ],
   "source": [
    "import pandas as pd\n",
    "data = {\n",
    "    'City': ['New York', 'New York', 'Los Angeles', 'Los Angeles', 'Chicago', 'Chicago'],\n",
    "    'Temperature': [30, 32, 28, 27, 25, 24]\n",
    "}\n",
    "df = pd.DataFrame(data)\n",
    "df_aggregated = df.groupby('City').mean()\n",
    "\n",
    "print(df_aggregated)"
   ]
  },
  {
   "cell_type": "code",
   "execution_count": 8,
   "id": "89ce35da-2b0d-4478-b06e-3dac413e30a5",
   "metadata": {},
   "outputs": [
    {
     "name": "stdout",
     "output_type": "stream",
     "text": [
      "         Sales\n",
      "Product       \n",
      "A          250\n",
      "B          450\n",
      "C         1050\n"
     ]
    }
   ],
   "source": [
    "import pandas as pd\n",
    "data = {\n",
    "    'Product': ['A', 'A', 'B', 'B', 'C', 'C', 'C'],\n",
    "    'Sales': [100, 150, 200, 250, 300, 350, 400]\n",
    "}\n",
    "df = pd.DataFrame(data)\n",
    "df_aggregated = df.groupby('Product').sum()\n",
    "print(df_aggregated)"
   ]
  },
  {
   "cell_type": "code",
   "execution_count": 1,
   "id": "825da899-9989-4a30-8d0e-49b176955c94",
   "metadata": {},
   "outputs": [
    {
     "name": "stdout",
     "output_type": "stream",
     "text": [
      "        Date  Sales\n",
      "0 2024-01-01     52\n",
      "1 2024-01-02     11\n",
      "2 2024-01-03     19\n",
      "3 2024-01-04     35\n",
      "4 2024-01-05     93\n",
      "5 2024-01-06     50\n",
      "6 2024-01-07     57\n",
      "7 2024-01-08     15\n"
     ]
    }
   ],
   "source": [
    "import pandas as pd\n",
    "import numpy as np\n",
    "date_rng = pd.date_range(start='2024-01-01', periods=100, freq='D')\n",
    "df = pd.DataFrame({'Date': date_rng, 'Sales': np.random.randint(10, 100, size=(100,))})\n",
    "df = pd.DataFrame({'Date': date_rng, 'Sales': np.random.randint(10, 100, size=(100,))})\n",
    "print(df.head(8))"
   ]
  }
 ],
 "metadata": {
  "kernelspec": {
   "display_name": "Python 3 (ipykernel)",
   "language": "python",
   "name": "python3"
  },
  "language_info": {
   "codemirror_mode": {
    "name": "ipython",
    "version": 3
   },
   "file_extension": ".py",
   "mimetype": "text/x-python",
   "name": "python",
   "nbconvert_exporter": "python",
   "pygments_lexer": "ipython3",
   "version": "3.12.7"
  }
 },
 "nbformat": 4,
 "nbformat_minor": 5
}

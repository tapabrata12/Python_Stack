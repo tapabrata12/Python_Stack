{
 "cells": [
  {
   "cell_type": "markdown",
   "id": "b430200e-dd28-4ce1-ae35-061abccd28f0",
   "metadata": {},
   "source": [
    "# Write a programme to create Star Data Warehouse"
   ]
  },
  {
   "cell_type": "code",
   "execution_count": 1,
   "id": "38243623-223f-4735-8f3f-8e3c0c323827",
   "metadata": {},
   "outputs": [
    {
     "name": "stdout",
     "output_type": "stream",
     "text": [
      "\n",
      "dim_product Table:\n",
      "(1, 'Laptop', 'Electronics')\n",
      "(2, 'Smartphone', 'Electronics')\n",
      "(3, 'Refrigerator', 'Home Appliance')\n",
      "\n",
      "dim_customer Table:\n",
      "(101, 'Alice', 'New York')\n",
      "(102, 'Bob', 'California')\n",
      "(103, 'Charlie', 'Texas')\n",
      "\n",
      "fact_sales Table:\n",
      "(1, 1, 101, 2, 2000.0, '2024-02-07')\n",
      "(2, 2, 102, 1, 800.0, '2024-02-06')\n",
      "(3, 3, 103, 3, 4500.0, '2024-02-05')\n"
     ]
    }
   ],
   "source": [
    "import sqlite3\n",
    "\n",
    "# Connect to SQLite database\n",
    "conn = sqlite3.connect(\"star_data_warehouse.db\")\n",
    "cursor = conn.cursor()\n",
    "\n",
    "# Create tables\n",
    "cursor.execute(\"CREATE TABLE IF NOT EXISTS dim_product (product_id INTEGER PRIMARY KEY, product_name TEXT, category TEXT)\")\n",
    "cursor.execute(\"CREATE TABLE IF NOT EXISTS dim_customer (customer_id INTEGER PRIMARY KEY, customer_name TEXT, location TEXT)\")\n",
    "cursor.execute('''CREATE TABLE IF NOT EXISTS fact_sales (\n",
    "    sale_id INTEGER PRIMARY KEY AUTOINCREMENT, \n",
    "    product_id INTEGER, customer_id INTEGER, quantity_sold INTEGER, total_price REAL, sale_date TEXT,\n",
    "    FOREIGN KEY (product_id) REFERENCES dim_product(product_id),\n",
    "    FOREIGN KEY (customer_id) REFERENCES dim_customer(customer_id)\n",
    ")''')\n",
    "\n",
    "# Insert sample data\n",
    "cursor.executemany(\"INSERT OR IGNORE INTO dim_product VALUES (?, ?, ?)\", [\n",
    "    (1, \"Laptop\", \"Electronics\"), (2, \"Smartphone\", \"Electronics\"), (3, \"Refrigerator\", \"Home Appliance\")\n",
    "])\n",
    "cursor.executemany(\"INSERT OR IGNORE INTO dim_customer VALUES (?, ?, ?)\", [\n",
    "    (101, \"Alice\", \"New York\"), (102, \"Bob\", \"California\"), (103, \"Charlie\", \"Texas\")\n",
    "])\n",
    "cursor.executemany(\"INSERT INTO fact_sales (product_id, customer_id, quantity_sold, total_price, sale_date) VALUES (?, ?, ?, ?, ?)\", [\n",
    "    (1, 101, 2, 2000, \"2024-02-07\"), \n",
    "    (2, 102, 1, 800, \"2024-02-06\"), \n",
    "    (3, 103, 3, 4500, \"2024-02-05\")\n",
    "])\n",
    "\n",
    "# Display function\n",
    "def show_table(name):\n",
    "    cursor.execute(f\"SELECT * FROM {name}\")\n",
    "    print(f\"\\n{name} Table:\")\n",
    "    for row in cursor.fetchall():\n",
    "        print(row)\n",
    "\n",
    "# Show tables\n",
    "show_table(\"dim_product\")\n",
    "show_table(\"dim_customer\")\n",
    "show_table(\"fact_sales\")\n",
    "\n",
    "# Save & close\n",
    "conn.commit()\n",
    "conn.close()\n"
   ]
  },
  {
   "cell_type": "markdown",
   "id": "8509ae11-dd75-46a3-994b-5e54dcef7c08",
   "metadata": {},
   "source": [
    "# Write a programme to create Snowflakes Data warehouse"
   ]
  },
  {
   "cell_type": "code",
   "execution_count": 3,
   "id": "9e207e8f-cbbe-4a21-8ffc-a416adbce2a6",
   "metadata": {},
   "outputs": [
    {
     "name": "stdout",
     "output_type": "stream",
     "text": [
      "\n",
      "category Table:\n",
      "(1, 'Electronics')\n",
      "(2, 'Home Appliance')\n",
      "\n",
      "dim_product Table:\n",
      "(1, 'Laptop', 1)\n",
      "(2, 'Smartphone', 1)\n",
      "(3, 'Refrigerator', 2)\n",
      "\n",
      "fact_sales Table:\n",
      "(1, 1, 2, 2000.0, '2024-02-07')\n",
      "(2, 2, 1, 800.0, '2024-02-06')\n",
      "(3, 3, 3, 4500.0, '2024-02-05')\n",
      "\n",
      "Snowflake Data Warehouse created, populated, and displayed successfully!\n"
     ]
    }
   ],
   "source": [
    "import sqlite3\n",
    "\n",
    "# Connect to SQLite database\n",
    "conn = sqlite3.connect(\"snowflake_data_warehouse.db\")\n",
    "cursor = conn.cursor()\n",
    "\n",
    "# Create normalized tables\n",
    "cursor.execute(\"CREATE TABLE IF NOT EXISTS category (category_id INTEGER PRIMARY KEY, category_name TEXT)\")\n",
    "cursor.execute(\"CREATE TABLE IF NOT EXISTS dim_product (product_id INTEGER PRIMARY KEY, product_name TEXT, category_id INTEGER, FOREIGN KEY (category_id) REFERENCES category(category_id))\")\n",
    "cursor.execute('''CREATE TABLE IF NOT EXISTS fact_sales (\n",
    "    sale_id INTEGER PRIMARY KEY AUTOINCREMENT, \n",
    "    product_id INTEGER, \n",
    "    quantity_sold INTEGER, \n",
    "    total_price REAL, \n",
    "    sale_date TEXT,\n",
    "    FOREIGN KEY (product_id) REFERENCES dim_product(product_id)\n",
    ")''')\n",
    "\n",
    "# Insert sample data\n",
    "cursor.executemany(\"INSERT OR IGNORE INTO category VALUES (?, ?)\", [\n",
    "    (1, \"Electronics\"), (2, \"Home Appliance\")\n",
    "])\n",
    "cursor.executemany(\"INSERT OR IGNORE INTO dim_product VALUES (?, ?, ?)\", [\n",
    "    (1, \"Laptop\", 1), (2, \"Smartphone\", 1), (3, \"Refrigerator\", 2)\n",
    "])\n",
    "cursor.executemany(\"INSERT INTO fact_sales (product_id, quantity_sold, total_price, sale_date) VALUES (?, ?, ?, ?)\", [\n",
    "    (1, 2, 2000, \"2024-02-07\"), \n",
    "    (2, 1, 800, \"2024-02-06\"), \n",
    "    (3, 3, 4500, \"2024-02-05\")\n",
    "])\n",
    "\n",
    "# Display function\n",
    "def show_table(name):\n",
    "    cursor.execute(f\"SELECT * FROM {name}\")\n",
    "    print(f\"\\n{name} Table:\")\n",
    "    for row in cursor.fetchall():\n",
    "        print(row)\n",
    "\n",
    "# Show tables\n",
    "show_table(\"category\")\n",
    "show_table(\"dim_product\")\n",
    "show_table(\"fact_sales\")\n",
    "\n",
    "# Save & close\n",
    "conn.commit()\n",
    "conn.close()\n",
    "\n",
    "print(\"\\nSnowflake Data Warehouse created, populated, and displayed successfully!\")\n"
   ]
  }
 ],
 "metadata": {
  "kernelspec": {
   "display_name": "Python 3 (ipykernel)",
   "language": "python",
   "name": "python3"
  },
  "language_info": {
   "codemirror_mode": {
    "name": "ipython",
    "version": 3
   },
   "file_extension": ".py",
   "mimetype": "text/x-python",
   "name": "python",
   "nbconvert_exporter": "python",
   "pygments_lexer": "ipython3",
   "version": "3.12.7"
  }
 },
 "nbformat": 4,
 "nbformat_minor": 5
}

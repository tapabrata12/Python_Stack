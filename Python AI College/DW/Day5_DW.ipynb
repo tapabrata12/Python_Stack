{
 "cells": [
  {
   "cell_type": "markdown",
   "id": "27441607-0457-4b52-b40f-3f8dc3320849",
   "metadata": {},
   "source": [
    "# Cleaning data"
   ]
  },
  {
   "cell_type": "code",
   "execution_count": 1,
   "id": "46afdc0d-3e86-4a76-a18a-41b2385ecef6",
   "metadata": {},
   "outputs": [
    {
     "name": "stdout",
     "output_type": "stream",
     "text": [
      "Original Data:\n",
      "     Product   Price  Rating  Stock\n",
      "0    Laptop  1000.0     4.5    NaN\n",
      "1     Phone   500.0     NaN   20.0\n",
      "2    Tablet     NaN     4.2   15.0\n",
      "3   Monitor   300.0     4.0   10.0\n",
      "4     Phone   600.0     4.7    NaN\n",
      "5  Keyboard     NaN     3.8   25.0\n",
      "\n",
      "Cleaned Data:\n",
      "     Product   Price  Rating  Stock\n",
      "0    Laptop  1000.0    4.50   17.5\n",
      "1     Phone   500.0    4.24   20.0\n",
      "2    Tablet   600.0    4.20   15.0\n",
      "3   Monitor   300.0    4.00   10.0\n",
      "4     Phone   600.0    4.70   17.5\n",
      "5  Keyboard   600.0    3.80   25.0\n"
     ]
    }
   ],
   "source": [
    "import pandas as pd\n",
    "import numpy as np\n",
    "from sklearn.impute import KNNImputer\n",
    "\n",
    "# Sample Data\n",
    "data = {'Product': ['Laptop', 'Phone', 'Tablet', 'Monitor', 'Phone', 'Keyboard'],\n",
    "        'Price': [1000, 500, np.nan, 300, 600, None],\n",
    "        'Rating': [4.5, np.nan, 4.2, 4.0, 4.7, 3.8],\n",
    "        'Stock': [np.nan, 20, 15, 10, None, 25]}\n",
    "\n",
    "df = pd.DataFrame(data)\n",
    "print(\"Original Data:\\n\", df)\n",
    "\n",
    "# Fill numeric missing values with column mean\n",
    "df.fillna(df.mean(numeric_only=True), inplace=True)\n",
    "\n",
    "# KNN Imputation\n",
    "knn_imputer = KNNImputer(n_neighbors=2)\n",
    "df[['Price', 'Rating', 'Stock']] = knn_imputer.fit_transform(df[['Price', 'Rating', 'Stock']])\n",
    "\n",
    "print(\"\\nCleaned Data:\\n\", df)"
   ]
  },
  {
   "cell_type": "markdown",
   "id": "f78cb377-d7d7-4579-b82a-a3c6924fe92d",
   "metadata": {},
   "source": [
    "# Data Integration"
   ]
  },
  {
   "cell_type": "code",
   "execution_count": 2,
   "id": "3b963320-0104-4e28-ba96-edf564520b43",
   "metadata": {},
   "outputs": [
    {
     "name": "stdout",
     "output_type": "stream",
     "text": [
      "Integrated Data:\n",
      "    Product_ID  Product   Price  Rating  Stock_Available\n",
      "0           1   Laptop  1000.0     4.5             15.0\n",
      "1           2    Phone   500.0     4.2             30.0\n",
      "2           3   Tablet   700.0     4.8              NaN\n",
      "3           4  Monitor   300.0     NaN             10.0\n",
      "4           5      NaN     NaN     4.3              5.0\n"
     ]
    }
   ],
   "source": [
    "import pandas as pd\n",
    "\n",
    "# Dataset 1: Sales Data\n",
    "df_sales = pd.DataFrame({\n",
    "    'Product_ID': [1, 2, 3, 4],\n",
    "    'Product': ['Laptop', 'Phone', 'Tablet', 'Monitor'],\n",
    "    'Price': [1000, 500, 700, 300]\n",
    "})\n",
    "\n",
    "# Dataset 2: Reviews Data\n",
    "df_reviews = pd.DataFrame({\n",
    "    'Product_ID': [1, 2, 3, 5],\n",
    "    'Rating': [4.5, 4.2, 4.8, 4.3]\n",
    "})\n",
    "\n",
    "# Dataset 3: Stock Data\n",
    "df_stock = pd.DataFrame({\n",
    "    'Product_ID': [1, 2, 4, 5],\n",
    "    'Stock_Available': [15, 30, 10, 5]\n",
    "})\n",
    "\n",
    "# Merging Sales and Reviews (Outer Join to include all products)\n",
    "df_merged = pd.merge(df_sales, df_reviews, on='Product_ID', how='outer')\n",
    "\n",
    "# Merging the Result with Stock Data\n",
    "df_merged = pd.merge(df_merged, df_stock, on='Product_ID', how='outer')\n",
    "\n",
    "# Display Final Merged Data\n",
    "print(\"Integrated Data:\\n\", df_merged)"
   ]
  },
  {
   "cell_type": "markdown",
   "id": "add67514-a326-45e1-87f1-1dea31551668",
   "metadata": {},
   "source": [
    "# Data normalisation"
   ]
  },
  {
   "cell_type": "code",
   "execution_count": 3,
   "id": "96cffca4-4c02-4298-ae38-6d3df43a056d",
   "metadata": {},
   "outputs": [
    {
     "name": "stdout",
     "output_type": "stream",
     "text": [
      "Original Data:\n",
      "     Product  Price  Rating  Stock\n",
      "0    Laptop   1000     4.5     15\n",
      "1     Phone    500     4.2     30\n",
      "2    Tablet    700     4.8     10\n",
      "3   Monitor    300     4.0      5\n",
      "4  Keyboard    100     3.8     20\n",
      "\n",
      "Normalized Data:\n",
      "     Product  Price  Rating  Stock  Price_Norm  Rating_Norm  Stock_Norm  \\\n",
      "0    Laptop   1000     4.5     15    1.000000          0.7         0.4   \n",
      "1     Phone    500     4.2     30    0.444444          0.4         1.0   \n",
      "2    Tablet    700     4.8     10    0.666667          1.0         0.2   \n",
      "3   Monitor    300     4.0      5    0.222222          0.2         0.0   \n",
      "4  Keyboard    100     3.8     20    0.000000          0.0         0.6   \n",
      "\n",
      "   Price_Std  Rating_Std  Stock_Std  \n",
      "0   1.536443    0.675053  -0.116248  \n",
      "1  -0.064018   -0.168763   1.627467  \n",
      "2   0.576166    1.518869  -0.697486  \n",
      "3  -0.704203   -0.731307  -1.278724  \n",
      "4  -1.344387   -1.293851   0.464991  \n"
     ]
    }
   ],
   "source": [
    "import pandas as pd\n",
    "import numpy as np\n",
    "from sklearn.preprocessing import MinMaxScaler, StandardScaler\n",
    "\n",
    "# Sample Data\n",
    "data = {'Product': ['Laptop', 'Phone', 'Tablet', 'Monitor', 'Keyboard'],\n",
    "        'Price': [1000, 500, 700, 300, 100],\n",
    "        'Rating': [4.5, 4.2, 4.8, 4.0, 3.8],\n",
    "        'Stock': [15, 30, 10, 5, 20]}\n",
    "\n",
    "df = pd.DataFrame(data)\n",
    "print(\"Original Data:\\n\", df)\n",
    "\n",
    "# *1. Min-Max Normalization (Scaling between 0 and 1)*\n",
    "scaler = MinMaxScaler()\n",
    "df[['Price_Norm', 'Rating_Norm', 'Stock_Norm']] = scaler.fit_transform(df[['Price', 'Rating', 'Stock']])\n",
    "\n",
    "# *2. Z-Score Normalization (Standardization)*\n",
    "standard_scaler = StandardScaler()\n",
    "df[['Price_Std', 'Rating_Std', 'Stock_Std']] = standard_scaler.fit_transform(df[['Price', 'Rating', 'Stock']])\n",
    "\n",
    "print(\"\\nNormalized Data:\\n\", df)"
   ]
  }
 ],
 "metadata": {
  "kernelspec": {
   "display_name": "Python 3 (ipykernel)",
   "language": "python",
   "name": "python3"
  },
  "language_info": {
   "codemirror_mode": {
    "name": "ipython",
    "version": 3
   },
   "file_extension": ".py",
   "mimetype": "text/x-python",
   "name": "python",
   "nbconvert_exporter": "python",
   "pygments_lexer": "ipython3",
   "version": "3.12.7"
  }
 },
 "nbformat": 4,
 "nbformat_minor": 5
}

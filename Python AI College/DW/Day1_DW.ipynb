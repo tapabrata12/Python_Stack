{
 "cells": [
  {
   "cell_type": "markdown",
   "metadata": {
    "id": "rohzRHovbBE2"
   },
   "source": [
    "# Create a Data Warehouse"
   ]
  },
  {
   "cell_type": "code",
   "execution_count": 1,
   "metadata": {
    "colab": {
     "base_uri": "https://localhost:8080/"
    },
    "id": "XHb6ymO2ccw3",
    "outputId": "7ea6af53-07d9-40b1-bb51-f364484ea1ef"
   },
   "outputs": [
    {
     "name": "stdout",
     "output_type": "stream",
     "text": [
      "Records in Batch2022:\n",
      "(1, 'Alice', '2022A01', 20, 'Kolkata', 'Female', '2003-05-14', 'A', 'REG123')\n",
      "(2, 'Bob', '2022B02', 21, 'Delhi', 'Male', '2002-08-22', 'B', 'REG124')\n",
      "(3, 'Charlie', '2022C03', 19, 'Mumbai', 'Male', '2004-11-10', 'A', 'REG125')\n",
      "(4, 'David', '2022D04', 22, 'Chennai', 'Male', '2001-03-05', 'C', 'REG126')\n",
      "(5, 'Emma', '2022E05', 20, 'Hyderabad', 'Female', '2003-07-19', 'B', 'REG127')\n",
      "(6, 'Sophia', '2022F06', 21, 'Pune', 'Female', '2002-12-30', 'C', 'REG128')\n"
     ]
    }
   ],
   "source": [
    "import sqlite3\n",
    "\n",
    "# Connect to SQLite database (creates bwu.db if it doesn't exist)\n",
    "conn = sqlite3.connect(\"bwu.db\")\n",
    "\n",
    "# Create a cursor object\n",
    "cursor = conn.cursor()\n",
    "\n",
    "# Create table 2022Batch\n",
    "cursor.execute(\"\"\"\n",
    "CREATE TABLE IF NOT EXISTS Batch2022 (\n",
    "    id INTEGER PRIMARY KEY AUTOINCREMENT,\n",
    "    name TEXT NOT NULL,\n",
    "    stdroll TEXT,\n",
    "    age INTEGER NOT NULL,\n",
    "    Address TEXT,\n",
    "    Gender TEXT,\n",
    "    DOB TEXT,\n",
    "    SEC TEXT,\n",
    "    RegNo TEXT\n",
    ")\n",
    "\"\"\")\n",
    "\n",
    "# Insert random data into Batch2022 table\n",
    "data = [\n",
    "    (\"Alice\", \"2022A01\", 20, \"Kolkata\", \"Female\", \"2003-05-14\", \"A\", \"REG123\"),\n",
    "    (\"Bob\", \"2022B02\", 21, \"Delhi\", \"Male\", \"2002-08-22\", \"B\", \"REG124\"),\n",
    "    (\"Charlie\", \"2022C03\", 19, \"Mumbai\", \"Male\", \"2004-11-10\", \"A\", \"REG125\"),\n",
    "    (\"David\", \"2022D04\", 22, \"Chennai\", \"Male\", \"2001-03-05\", \"C\", \"REG126\"),\n",
    "    (\"Emma\", \"2022E05\", 20, \"Hyderabad\", \"Female\", \"2003-07-19\", \"B\", \"REG127\"),\n",
    "    (\"Sophia\", \"2022F06\", 21, \"Pune\", \"Female\", \"2002-12-30\", \"C\", \"REG128\"),\n",
    "]\n",
    "\n",
    "cursor.executemany(\"INSERT INTO Batch2022 (name, stdroll, age, Address, Gender, DOB, SEC, RegNo) VALUES (?, ?, ?, ?, ?, ?, ?, ?)\", data)\n",
    "\n",
    "# Commit changes\n",
    "conn.commit()\n",
    "\n",
    "# Retrieve and display all records\n",
    "cursor.execute(\"SELECT * FROM Batch2022\")\n",
    "rows = cursor.fetchall()\n",
    "\n",
    "print(\"Records in Batch2022:\")\n",
    "for row in rows:\n",
    "    print(row)\n",
    "\n",
    "# Close the connection\n",
    "conn.close()\n"
   ]
  }
 ],
 "metadata": {
  "colab": {
   "provenance": []
  },
  "kernelspec": {
   "display_name": "Python 3 (ipykernel)",
   "language": "python",
   "name": "python3"
  },
  "language_info": {
   "codemirror_mode": {
    "name": "ipython",
    "version": 3
   },
   "file_extension": ".py",
   "mimetype": "text/x-python",
   "name": "python",
   "nbconvert_exporter": "python",
   "pygments_lexer": "ipython3",
   "version": "3.12.7"
  }
 },
 "nbformat": 4,
 "nbformat_minor": 4
}

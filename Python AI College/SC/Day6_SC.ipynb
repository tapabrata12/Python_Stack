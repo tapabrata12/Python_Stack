{
 "cells": [
  {
   "cell_type": "markdown",
   "id": "a907cee1-bec6-4c74-8c2a-9b73e0f59c5a",
   "metadata": {},
   "source": [
    "# MC-Cuttoch Pit Method for AND OR NOT Gate"
   ]
  },
  {
   "cell_type": "code",
   "execution_count": 2,
   "id": "d03341cb-dcf9-482a-b1d1-6f3d5c229da8",
   "metadata": {},
   "outputs": [
    {
     "name": "stdout",
     "output_type": "stream",
     "text": [
      "AND Gate Results:\n",
      "AND(0, 0) = 0\n",
      "AND(0, 1) = 0\n",
      "AND(1, 0) = 0\n",
      "AND(1, 1) = 1\n",
      "\n",
      "OR Gate Results:\n",
      "OR(0, 0) = 0\n",
      "OR(0, 1) = 1\n",
      "OR(1, 0) = 1\n",
      "OR(1, 1) = 1\n",
      "\n",
      "NOT Gate Results:\n",
      "NOT(0) = 1\n",
      "NOT(1) = 0\n"
     ]
    }
   ],
   "source": [
    "def MCP_model(inputs, weights, threshold):\n",
    "    ws = sum(i * w for i, w in zip(inputs, weights))\n",
    "    return 1 if ws >= threshold else 0\n",
    "    \n",
    "def and_gate(x1, x2):\n",
    "    return MCP_model([x1, x2], [1, 1], 2)\n",
    "\n",
    "def or_gate(x1, x2):\n",
    "    return MCP_model([x1, x2], [1, 1], 1)\n",
    "\n",
    "def not_gate(x1):\n",
    "    return MCP_model([x1], [-1], 0)\n",
    "\n",
    "print(\"AND Gate Results:\")\n",
    "print(f\"AND(0, 0) = {and_gate(0, 0)}\")\n",
    "print(f\"AND(0, 1) = {and_gate(0, 1)}\")\n",
    "print(f\"AND(1, 0) = {and_gate(1, 0)}\")\n",
    "print(f\"AND(1, 1) = {and_gate(1, 1)}\")\n",
    "\n",
    "print(\"\\nOR Gate Results:\")\n",
    "print(f\"OR(0, 0) = {or_gate(0, 0)}\")\n",
    "print(f\"OR(0, 1) = {or_gate(0, 1)}\")\n",
    "print(f\"OR(1, 0) = {or_gate(1, 0)}\")\n",
    "print(f\"OR(1, 1) = {or_gate(1, 1)}\")\n",
    "\n",
    "print(\"\\nNOT Gate Results:\")\n",
    "print(f\"NOT(0) = {not_gate(0)}\")\n",
    "print(f\"NOT(1) = {not_gate(1)}\")"
   ]
  }
 ],
 "metadata": {
  "kernelspec": {
   "display_name": "Python 3 (ipykernel)",
   "language": "python",
   "name": "python3"
  },
  "language_info": {
   "codemirror_mode": {
    "name": "ipython",
    "version": 3
   },
   "file_extension": ".py",
   "mimetype": "text/x-python",
   "name": "python",
   "nbconvert_exporter": "python",
   "pygments_lexer": "ipython3",
   "version": "3.12.7"
  }
 },
 "nbformat": 4,
 "nbformat_minor": 5
}

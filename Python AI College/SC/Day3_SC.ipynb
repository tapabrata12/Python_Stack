{
 "cells": [
  {
   "cell_type": "markdown",
   "id": "77c9ec49-7dc3-40d6-a51d-b75f6b753fa4",
   "metadata": {},
   "source": [
    "# Assignment 4: Write a program to implement cartesian product of two fuzzy sets and also perform max min composition for fuzzy relation. "
   ]
  },
  {
   "cell_type": "code",
   "execution_count": 2,
   "id": "404f9510-c631-4338-9d5f-71e6072520da",
   "metadata": {},
   "outputs": [
    {
     "name": "stdout",
     "output_type": "stream",
     "text": [
      "Cartesian Product:\n",
      "((1, 4), 0.2)\n",
      "((1, 5), 0.2)\n",
      "((2, 4), 0.5)\n",
      "((2, 5), 0.7)\n",
      "((3, 4), 0.5)\n",
      "((3, 5), 0.9)\n",
      "\n",
      "Max-Min Composition:\n",
      "[[0.7 0.7]\n",
      " [0.9 0.7]]\n"
     ]
    }
   ],
   "source": [
    "import numpy as np \n",
    "\n",
    "  \n",
    "\n",
    "def cartesian_product(A, B): \n",
    "\n",
    "    return [((a[0], b[0]), min(a[1], b[1])) for a in A for b in B] \n",
    "\n",
    "  \n",
    "\n",
    "def max_min_composition(R, S): \n",
    "\n",
    "    R = np.array(R) \n",
    "\n",
    "    S = np.array(S) \n",
    "\n",
    "    return np.array([[max(np.minimum(R[i, :], S[:, j])) for j in range(S.shape[1])] for i in range(R.shape[0])]) \n",
    "\n",
    "  \n",
    "\n",
    "A = [(1, 0.2), (2, 0.7), (3, 1.0)] \n",
    "\n",
    "B = [(4, 0.5), (5, 0.9)] \n",
    "\n",
    "  \n",
    "\n",
    "cart_product = cartesian_product(A, B) \n",
    "\n",
    "print(\"Cartesian Product:\") \n",
    "\n",
    "for pair in cart_product: \n",
    "\n",
    "    print(pair) \n",
    "\n",
    "  \n",
    "\n",
    "R = [[0.2, 0.7, 1.0], \n",
    "\n",
    "     [0.5, 0.9, 0.8]] \n",
    "\n",
    "  \n",
    "\n",
    "S = [[0.6, 0.4], \n",
    "\n",
    "     [0.9, 0.3], \n",
    "\n",
    "     [0.5, 0.7]] \n",
    "\n",
    "  \n",
    "\n",
    "composition = max_min_composition(R, S) \n",
    "\n",
    "print(\"\\nMax-Min Composition:\") \n",
    "\n",
    "print(composition)"
   ]
  }
 ],
 "metadata": {
  "kernelspec": {
   "display_name": "Python 3 (ipykernel)",
   "language": "python",
   "name": "python3"
  },
  "language_info": {
   "codemirror_mode": {
    "name": "ipython",
    "version": 3
   },
   "file_extension": ".py",
   "mimetype": "text/x-python",
   "name": "python",
   "nbconvert_exporter": "python",
   "pygments_lexer": "ipython3",
   "version": "3.12.7"
  }
 },
 "nbformat": 4,
 "nbformat_minor": 5
}

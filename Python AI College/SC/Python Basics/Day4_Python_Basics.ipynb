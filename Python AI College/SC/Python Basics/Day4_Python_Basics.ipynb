{
 "cells": [
  {
   "cell_type": "markdown",
   "id": "07003e1d-cd4e-4977-a555-cc8316551db7",
   "metadata": {},
   "source": [
    "# Function\n",
    "- Pleace of code does something for us. A function may or may not take input but it will definately give some output.\n",
    "- There are two types function.\n",
    "  - Pre-defind\n",
    "  - User defind\n",
    "- We use `def` keyword to implement user defind function"
   ]
  },
  {
   "cell_type": "markdown",
   "id": "8d906d0a-dc56-49e1-abe0-1e1dae427797",
   "metadata": {},
   "source": [
    "## Add Funtion"
   ]
  },
  {
   "cell_type": "code",
   "execution_count": 1,
   "id": "be5f0984-1d74-403f-836b-8e5fb1a6de21",
   "metadata": {},
   "outputs": [
    {
     "name": "stdin",
     "output_type": "stream",
     "text": [
      "Enter number:  2\n",
      "Enter number:  3\n"
     ]
    },
    {
     "name": "stdout",
     "output_type": "stream",
     "text": [
      "5\n"
     ]
    }
   ],
   "source": [
    "def add(a,b):\n",
    "    return a+b\n",
    "x = int(input(\"Enter number: \"))\n",
    "y = int(input(\"Enter number: \"))\n",
    "\n",
    "print(add(x,y))"
   ]
  },
  {
   "cell_type": "markdown",
   "id": "b787baa6-8009-4a27-bf93-882d634a94c2",
   "metadata": {},
   "source": [
    "## Check Palindrome Number using function"
   ]
  },
  {
   "cell_type": "code",
   "execution_count": 3,
   "id": "5748805e-0298-4046-9c7c-e141734e41d3",
   "metadata": {},
   "outputs": [
    {
     "name": "stdin",
     "output_type": "stream",
     "text": [
      "Enter the number:  121\n"
     ]
    },
    {
     "name": "stdout",
     "output_type": "stream",
     "text": [
      "It's a Palindrome\n"
     ]
    }
   ],
   "source": [
    "def palindrome_checker(number):\n",
    "    temp = number\n",
    "    reversed_num = 0  \n",
    "    while temp != 0:\n",
    "        rem = temp % 10\n",
    "        reversed_num = reversed_num * 10 + rem\n",
    "        temp = temp // 10  \n",
    "    if number == reversed_num:\n",
    "        return \"It's a Palindrome\"\n",
    "    else:\n",
    "        return \"It's not a Palindrome\"\n",
    "\n",
    "print(palindrome_checker(int(input(\"Enter the number: \"))))"
   ]
  },
  {
   "cell_type": "markdown",
   "id": "c261d96b-f1ce-44ef-b077-faf95a703c1d",
   "metadata": {},
   "source": [
    "## Amrstrong Number using function"
   ]
  },
  {
   "cell_type": "code",
   "execution_count": 16,
   "id": "505da73b-e300-4685-8907-e2fe5aa38c9c",
   "metadata": {},
   "outputs": [
    {
     "name": "stdin",
     "output_type": "stream",
     "text": [
      "Enter number:  153\n"
     ]
    },
    {
     "data": {
      "text/plain": [
       "True"
      ]
     },
     "execution_count": 16,
     "metadata": {},
     "output_type": "execute_result"
    }
   ],
   "source": [
    "def isArmstrong(number):\n",
    "    temp = number\n",
    "    amrstrong_num = 0  \n",
    "    length = len(str(number))\n",
    "    while temp > 0:  \n",
    "        rem = temp % 10\n",
    "        amrstrong_num = amrstrong_num + rem ** length\n",
    "        temp = temp // 10  \n",
    "    if number == amrstrong_num:  \n",
    "        return True\n",
    "    else:\n",
    "        return False\n",
    "\n",
    "isArmstrong(int(input(\"Enter number: \")))"
   ]
  },
  {
   "cell_type": "markdown",
   "id": "c9d648f3-0653-4aab-8415-840bb3a8d405",
   "metadata": {},
   "source": [
    "# Recursion"
   ]
  },
  {
   "cell_type": "markdown",
   "id": "504db763-3837-404b-aa2e-829bb7715369",
   "metadata": {},
   "source": [
    "- When a function is calling itself is called recursion\n",
    "- We have to stop the reursion mannually to do that we have to give mannually a basecase for which the recursion will stop"
   ]
  },
  {
   "cell_type": "markdown",
   "id": "7478c117-a687-4e56-a8f0-e4189bd630cd",
   "metadata": {},
   "source": [
    "## Factorial using recursion"
   ]
  },
  {
   "cell_type": "code",
   "execution_count": 20,
   "id": "447b0b4d-cc99-4a4a-8c27-764cd50a6b91",
   "metadata": {},
   "outputs": [
    {
     "name": "stdin",
     "output_type": "stream",
     "text": [
      "Enter the number:  5\n"
     ]
    },
    {
     "data": {
      "text/plain": [
       "120"
      ]
     },
     "execution_count": 20,
     "metadata": {},
     "output_type": "execute_result"
    }
   ],
   "source": [
    "def fact(number):\n",
    "    if number == 0 or number == 1:\n",
    "        return 1\n",
    "    else:\n",
    "        return number * fact(number - 1)\n",
    "        \n",
    "fact(int(input(\"Enter the number: \")))"
   ]
  },
  {
   "cell_type": "markdown",
   "id": "766175fb-d6ed-464a-81c2-fbb99251e59d",
   "metadata": {},
   "source": [
    "## Sum of all digits between 1 to 10 using recursion"
   ]
  },
  {
   "cell_type": "code",
   "execution_count": 23,
   "id": "dcd11f45-b8c9-41fc-a63f-fe8e6f70cdd8",
   "metadata": {},
   "outputs": [
    {
     "name": "stdin",
     "output_type": "stream",
     "text": [
      "Enter number:  10\n"
     ]
    },
    {
     "name": "stdout",
     "output_type": "stream",
     "text": [
      "55\n"
     ]
    }
   ],
   "source": [
    "def sum_digits(n):\n",
    "    if n == 1:\n",
    "        return 1\n",
    "    return n + sum_digits(n - 1)\n",
    "\n",
    "print(sum_digits(int(input(\"Enter number: \"))))"
   ]
  },
  {
   "cell_type": "markdown",
   "id": "599ae041-6af1-4fab-ba38-feb61c86beb5",
   "metadata": {},
   "source": [
    "## Fibonacci sequence using Recursion [Home work]"
   ]
  },
  {
   "cell_type": "markdown",
   "id": "09c994ef-450c-4699-8cef-72629bddc5c7",
   "metadata": {},
   "source": [
    "## Krishnamurti number using Recursion [Home work]"
   ]
  }
 ],
 "metadata": {
  "kernelspec": {
   "display_name": "Python 3 (ipykernel)",
   "language": "python",
   "name": "python3"
  },
  "language_info": {
   "codemirror_mode": {
    "name": "ipython",
    "version": 3
   },
   "file_extension": ".py",
   "mimetype": "text/x-python",
   "name": "python",
   "nbconvert_exporter": "python",
   "pygments_lexer": "ipython3",
   "version": "3.12.7"
  }
 },
 "nbformat": 4,
 "nbformat_minor": 5
}

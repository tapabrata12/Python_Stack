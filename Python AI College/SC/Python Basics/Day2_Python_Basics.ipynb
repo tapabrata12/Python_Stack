{
 "cells": [
  {
   "cell_type": "markdown",
   "id": "19538a03-4d75-41cd-ba1f-bc1ca45af8e6",
   "metadata": {},
   "source": [
    "# Print 10 to 1 using loop"
   ]
  },
  {
   "cell_type": "code",
   "execution_count": 2,
   "id": "62e19cae-35e7-49fb-b825-0878bd868ca7",
   "metadata": {},
   "outputs": [
    {
     "name": "stdout",
     "output_type": "stream",
     "text": [
      "10\n",
      "9\n",
      "8\n",
      "7\n",
      "6\n",
      "5\n",
      "4\n",
      "3\n",
      "2\n",
      "1\n"
     ]
    }
   ],
   "source": [
    "i = 10\n",
    "\n",
    "while i != 0:\n",
    "    print(i)\n",
    "    i = i-1"
   ]
  },
  {
   "cell_type": "markdown",
   "id": "fce520d5-a119-4918-8de9-9cf8d94e314f",
   "metadata": {},
   "source": [
    "# Beetween 1 to 10 print even number using while"
   ]
  },
  {
   "cell_type": "code",
   "execution_count": 8,
   "id": "7195343b-640c-442e-95a7-37310856d52e",
   "metadata": {},
   "outputs": [
    {
     "name": "stdout",
     "output_type": "stream",
     "text": [
      "2\n",
      "4\n",
      "6\n",
      "8\n",
      "10\n"
     ]
    }
   ],
   "source": [
    "number = 2\n",
    "while number <= 10:\n",
    "    print(number)\n",
    "    number += 2"
   ]
  },
  {
   "cell_type": "markdown",
   "id": "917ac201-0b02-4105-82a4-ea567a1ee7bb",
   "metadata": {},
   "source": [
    "# How many digits in a number"
   ]
  },
  {
   "cell_type": "code",
   "execution_count": 10,
   "id": "5c5df082-be6a-4ea2-a8aa-a0f1dbd5a4b4",
   "metadata": {},
   "outputs": [
    {
     "name": "stdin",
     "output_type": "stream",
     "text": [
      "Enter a number:  1254789632\n"
     ]
    },
    {
     "name": "stdout",
     "output_type": "stream",
     "text": [
      "The consicutive digits are:  10\n"
     ]
    }
   ],
   "source": [
    "x = int(input(\"Enter a number: \"))\n",
    "count = 0\n",
    "while x !=0:\n",
    "    rem = x % 10\n",
    "    count = count + 1\n",
    "    x = x // 10\n",
    "\n",
    "print(\"The consicutive digits are: \",count)"
   ]
  },
  {
   "cell_type": "markdown",
   "id": "b8bef461-68ec-4c9d-97d6-685490aeaca2",
   "metadata": {},
   "source": [
    "# Reverse a number"
   ]
  },
  {
   "cell_type": "code",
   "execution_count": 12,
   "id": "7a994a12-1a39-42ae-8496-5ced7d89cddc",
   "metadata": {},
   "outputs": [
    {
     "name": "stdin",
     "output_type": "stream",
     "text": [
      "Enter a number:  252\n"
     ]
    },
    {
     "name": "stdout",
     "output_type": "stream",
     "text": [
      "Your number is:  252\n",
      "The reverse of your number is:  252\n",
      "Palindrome\n"
     ]
    }
   ],
   "source": [
    "n = int(input(\"Enter a number: \"))\n",
    "x = n\n",
    "print(\"Your number is: \",n)\n",
    "rev = 0\n",
    "\n",
    "while(n > 0):\n",
    "    a = n % 10\n",
    "    rev = rev * 10 + a\n",
    "    n = n // 10\n",
    "\n",
    "print(\"The reverse of your number is: \",rev)\n",
    "\n",
    "if x == rev:\n",
    "    print(\"Palindrome\")\n",
    "else:\n",
    "    print(\"Not Palindrome\")"
   ]
  },
  {
   "cell_type": "code",
   "execution_count": null,
   "id": "d2d95e20-62e4-4b92-a92c-ca65fce924c8",
   "metadata": {},
   "outputs": [],
   "source": []
  }
 ],
 "metadata": {
  "kernelspec": {
   "display_name": "Python 3 (ipykernel)",
   "language": "python",
   "name": "python3"
  },
  "language_info": {
   "codemirror_mode": {
    "name": "ipython",
    "version": 3
   },
   "file_extension": ".py",
   "mimetype": "text/x-python",
   "name": "python",
   "nbconvert_exporter": "python",
   "pygments_lexer": "ipython3",
   "version": "3.12.7"
  }
 },
 "nbformat": 4,
 "nbformat_minor": 5
}

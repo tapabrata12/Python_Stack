{
 "cells": [
  {
   "cell_type": "markdown",
   "id": "4d9beee3-e31d-4e04-b8cd-186afc746b62",
   "metadata": {},
   "source": [
    "# List"
   ]
  },
  {
   "cell_type": "markdown",
   "id": "01061629-3abd-4a60-b592-0d621fae37e1",
   "metadata": {},
   "source": [
    "### Insert 45 at the end "
   ]
  },
  {
   "cell_type": "code",
   "execution_count": 8,
   "id": "13186716-5f71-4c26-a594-0c0b8cdeda37",
   "metadata": {},
   "outputs": [
    {
     "data": {
      "text/plain": [
       "[5, 30, 50, 60, 45]"
      ]
     },
     "execution_count": 8,
     "metadata": {},
     "output_type": "execute_result"
    }
   ],
   "source": [
    "l = [5,30,50,60]\n",
    "l.append(45)\n",
    "l"
   ]
  },
  {
   "cell_type": "markdown",
   "id": "fdb725eb-389b-4fcf-848e-90cef24078a7",
   "metadata": {},
   "source": [
    "### Length"
   ]
  },
  {
   "cell_type": "code",
   "execution_count": 9,
   "id": "562d0765-edc7-4c14-a9fc-ab66054ac2de",
   "metadata": {},
   "outputs": [
    {
     "data": {
      "text/plain": [
       "5"
      ]
     },
     "execution_count": 9,
     "metadata": {},
     "output_type": "execute_result"
    }
   ],
   "source": [
    "len(l)"
   ]
  },
  {
   "cell_type": "markdown",
   "id": "b2dd6f1c-8d8d-45c5-9551-c8ddfc69d6d1",
   "metadata": {},
   "source": [
    "### Add all the elements"
   ]
  },
  {
   "cell_type": "code",
   "execution_count": 10,
   "id": "74cce8c2-7d85-4e61-a27c-41c4af0492e5",
   "metadata": {},
   "outputs": [
    {
     "data": {
      "text/plain": [
       "190"
      ]
     },
     "execution_count": 10,
     "metadata": {},
     "output_type": "execute_result"
    }
   ],
   "source": [
    "sum(l)"
   ]
  },
  {
   "cell_type": "markdown",
   "id": "b0f16137-33a6-4051-9f30-03c9fcea9668",
   "metadata": {},
   "source": [
    "## Slicing and Indexing"
   ]
  },
  {
   "cell_type": "code",
   "execution_count": null,
   "id": "2268940d-b9d5-4e75-95b6-3dec3b7d1274",
   "metadata": {},
   "outputs": [],
   "source": []
  },
  {
   "cell_type": "markdown",
   "id": "10733dfc-83f8-4131-8ce8-8983a4950be8",
   "metadata": {},
   "source": [
    "### Common values in a list"
   ]
  },
  {
   "cell_type": "code",
   "execution_count": 15,
   "id": "49101f68-a6fc-473c-a7f4-8610f7c6bb59",
   "metadata": {},
   "outputs": [
    {
     "name": "stdout",
     "output_type": "stream",
     "text": [
      "1 9 55 "
     ]
    }
   ],
   "source": [
    "l1 = [1,5,9,3,10,55]\n",
    "l2 = [1,6,9,62,55,100]\n",
    "\n",
    "for i in l1:\n",
    "    for j in l2:\n",
    "        if i == j:\n",
    "            print(i,end=\" \")"
   ]
  },
  {
   "cell_type": "markdown",
   "id": "6fb9b869-b728-43e6-b1bb-3207d39291a1",
   "metadata": {},
   "source": [
    "### Remove dublicate"
   ]
  },
  {
   "cell_type": "code",
   "execution_count": 18,
   "id": "7d8b38fd-065b-48e4-b514-eba049b9dfe2",
   "metadata": {},
   "outputs": [
    {
     "name": "stdout",
     "output_type": "stream",
     "text": [
      "[1, 2, 3, 4, 5, 6, 8, 0, 20, 30]\n"
     ]
    }
   ],
   "source": [
    "a = [1,2,3,4,5,5,6,6,1,8,8,1,0,20,30]\n",
    "b = []\n",
    "\n",
    "for i in a:\n",
    "    if i not in b:\n",
    "        b.append(i)\n",
    "print(b)"
   ]
  },
  {
   "cell_type": "markdown",
   "id": "54469e0b-bba2-413b-b3e0-85e5b18569e6",
   "metadata": {},
   "source": [
    "### 1 to 10 clone even number in 1 list and clone odd in another list"
   ]
  },
  {
   "cell_type": "code",
   "execution_count": 20,
   "id": "a01b1a95-59fa-4efb-be20-23a7d908f316",
   "metadata": {},
   "outputs": [
    {
     "name": "stdout",
     "output_type": "stream",
     "text": [
      "[2, 4, 6, 8, 10]\n",
      "[1, 3, 5, 7, 9]\n"
     ]
    }
   ],
   "source": [
    "even = []\n",
    "odd = []\n",
    "\n",
    "for i in range(1,11):\n",
    "    if i % 2 == 0:\n",
    "        even.append(i)\n",
    "    else:\n",
    "        odd.append(i)\n",
    "\n",
    "print(even)\n",
    "print(odd)"
   ]
  },
  {
   "cell_type": "markdown",
   "id": "3a15e8a1-7583-4467-a8f6-23fef3df0115",
   "metadata": {},
   "source": [
    "### 1 to 10 clone prime number in 1 list and clone non prime in another list [H.W]"
   ]
  },
  {
   "cell_type": "code",
   "execution_count": 21,
   "id": "a9c75421-698f-4782-9127-bedc9026b05b",
   "metadata": {},
   "outputs": [
    {
     "name": "stdout",
     "output_type": "stream",
     "text": [
      "Prime numbers from 1 to 10: [2, 3, 5, 7]\n",
      "Non-prime numbers from 1 to 10: [1, 4, 6, 8, 9, 10]\n"
     ]
    }
   ],
   "source": [
    "def is_prime(num):\n",
    "    if num < 2:\n",
    "        return False\n",
    "    for i in range(2, int(num / 2) + 1):\n",
    "        if num % i == 0:\n",
    "            return False\n",
    "    return True\n",
    "\n",
    "prime_list = []\n",
    "non_prime_list = []\n",
    "\n",
    "for i in range(1, 11):\n",
    "    if is_prime(i):\n",
    "        prime_list.append(i)\n",
    "    else:\n",
    "        non_prime_list.append(i)\n",
    "\n",
    "print(\"Prime numbers from 1 to 10:\", prime_list)\n",
    "print(\"Non-prime numbers from 1 to 10:\", non_prime_list)"
   ]
  }
 ],
 "metadata": {
  "kernelspec": {
   "display_name": "Python 3 (ipykernel)",
   "language": "python",
   "name": "python3"
  },
  "language_info": {
   "codemirror_mode": {
    "name": "ipython",
    "version": 3
   },
   "file_extension": ".py",
   "mimetype": "text/x-python",
   "name": "python",
   "nbconvert_exporter": "python",
   "pygments_lexer": "ipython3",
   "version": "3.12.7"
  }
 },
 "nbformat": 4,
 "nbformat_minor": 5
}

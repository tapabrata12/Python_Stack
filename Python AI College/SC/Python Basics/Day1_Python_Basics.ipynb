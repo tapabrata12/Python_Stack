{
 "cells": [
  {
   "cell_type": "markdown",
   "id": "0f34785b-2f71-4621-8d8e-761e7debf517",
   "metadata": {},
   "source": [
    "# Write a program to find area of triangle"
   ]
  },
  {
   "cell_type": "code",
   "execution_count": 11,
   "id": "f2cade8c-2fbc-4116-a8f4-8e4e6749716a",
   "metadata": {},
   "outputs": [
    {
     "name": "stdin",
     "output_type": "stream",
     "text": [
      "Enter the a:  5\n",
      "Enter the b:  5\n",
      "Enter the c:  5\n"
     ]
    },
    {
     "name": "stdout",
     "output_type": "stream",
     "text": [
      "Area:  3.952847075210474\n"
     ]
    }
   ],
   "source": [
    "import math\n",
    "a = float(input(\"Enter the a: \"))\n",
    "b = float(input(\"Enter the b: \"))\n",
    "c = float(input(\"Enter the c: \"))\n",
    "if a + b > c and b + c > a and c + a > b:\n",
    "     s = (a+b+c) / 2\n",
    "     A = math.sqrt((s-a)*(s-b)*(s-c))\n",
    "     print(\"Area: \",A)\n",
    "else:\n",
    "    print(\"Invalid Tringle\")"
   ]
  },
  {
   "cell_type": "markdown",
   "id": "5be36ec7-60a7-454d-938b-61654157ec28",
   "metadata": {},
   "source": [
    "# Check if a tringle is equilateral isosceles scalenes "
   ]
  },
  {
   "cell_type": "code",
   "execution_count": 12,
   "id": "a56f6407-24bc-437c-a096-dbd3c047103a",
   "metadata": {},
   "outputs": [
    {
     "name": "stdout",
     "output_type": "stream",
     "text": [
      "Equilateral\n"
     ]
    }
   ],
   "source": [
    "if a == b == c:\n",
    "    print(\"Equilateral\")\n",
    "elif a == b or b == c or a == c:\n",
    "    print(\"Isosceles\")\n",
    "else:\n",
    "    print(\"Scalenes\")"
   ]
  }
 ],
 "metadata": {
  "kernelspec": {
   "display_name": "Python 3 (ipykernel)",
   "language": "python",
   "name": "python3"
  },
  "language_info": {
   "codemirror_mode": {
    "name": "ipython",
    "version": 3
   },
   "file_extension": ".py",
   "mimetype": "text/x-python",
   "name": "python",
   "nbconvert_exporter": "python",
   "pygments_lexer": "ipython3",
   "version": "3.12.7"
  }
 },
 "nbformat": 4,
 "nbformat_minor": 5
}

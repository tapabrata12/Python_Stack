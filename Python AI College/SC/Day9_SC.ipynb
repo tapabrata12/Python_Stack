{
 "cells": [
  {
   "cell_type": "markdown",
   "id": "f3e3debb-62c2-4414-bb87-35696cc4b028",
   "metadata": {},
   "source": [
    "# Implement Delta Rule In Perceptron"
   ]
  },
  {
   "cell_type": "code",
   "execution_count": 1,
   "id": "29ad0dbb-15db-41ea-869f-c2fe5df9e560",
   "metadata": {},
   "outputs": [
    {
     "name": "stdout",
     "output_type": "stream",
     "text": [
      "Input: [0 0], Output: 0\n",
      "Input: [0 1], Output: 0\n",
      "Input: [1 0], Output: 0\n",
      "Input: [1 1], Output: 1\n"
     ]
    }
   ],
   "source": [
    "import numpy as np\n",
    "\n",
    "# input vectors\n",
    "x = np.array([[0,0], [0,1], [1,0], [1,1]])\n",
    "d = np.array([0, 0, 0, 1])\n",
    "\n",
    "w = np.zeros(2)\n",
    "b = 0\n",
    "lr = 0.1\n",
    "\n",
    "for n in range(10):\n",
    "    for i in range(len(x)):\n",
    "        y = np.dot(x[i], w) + b\n",
    "        error = d[i] - y\n",
    "        w = w + lr * error * x[i]\n",
    "        b = b + lr * error\n",
    "\n",
    "for i in x:\n",
    "    y = np.dot(i, w) + b\n",
    "    print(f\"Input: {i}, Output: {round(y)}\")"
   ]
  }
 ],
 "metadata": {
  "kernelspec": {
   "display_name": "Python 3 (ipykernel)",
   "language": "python",
   "name": "python3"
  },
  "language_info": {
   "codemirror_mode": {
    "name": "ipython",
    "version": 3
   },
   "file_extension": ".py",
   "mimetype": "text/x-python",
   "name": "python",
   "nbconvert_exporter": "python",
   "pygments_lexer": "ipython3",
   "version": "3.12.7"
  }
 },
 "nbformat": 4,
 "nbformat_minor": 5
}

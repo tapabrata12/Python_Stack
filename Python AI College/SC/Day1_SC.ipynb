{
 "cells": [
  {
   "cell_type": "markdown",
   "id": "568d3a91-f254-48be-abc7-33330a85dd8f",
   "metadata": {},
   "source": [
    "# Program to implementing a perceptron with a fixed increment learning algorithm. The program uses the logical AND function as an example. The perceptron is trained until no change in weights is required"
   ]
  },
  {
   "cell_type": "code",
   "execution_count": 2,
   "id": "866f3d89-49b9-4434-a220-026e60141fde",
   "metadata": {},
   "outputs": [
    {
     "name": "stdout",
     "output_type": "stream",
     "text": [
      "Weights: [0.2 0.1]\n",
      "Bias: -0.20000000000000004\n",
      "Testing the trained perceptron:\n",
      "Input: [0 0], Predicted Output: 0\n",
      "Input: [0 1], Predicted Output: 0\n",
      "Input: [1 0], Predicted Output: 0\n",
      "Input: [1 1], Predicted Output: 1\n"
     ]
    }
   ],
   "source": [
    "import numpy as np\n",
    "\n",
    "# Global variables for weights and bias\n",
    "weights = None\n",
    "bias = 0.0\n",
    "learning_rate = 0.1\n",
    "\n",
    "def activation_function(x):\n",
    "    \"\"\"Activation function: step function.\"\"\"\n",
    "    return 1 if x >= 0 else 0\n",
    "\n",
    "def predict(inputs):\n",
    "    \"\"\"Predict the output for given inputs.\"\"\"\n",
    "    weighted_sum = np.dot(inputs, weights) + bias\n",
    "    return activation_function(weighted_sum)\n",
    "\n",
    "def fit(training_inputs, labels):\n",
    "    \"\"\"Train the perceptron using the training data.\"\"\"\n",
    "    global weights, bias\n",
    "    # Initialize weights and bias\n",
    "    weights = np.zeros(training_inputs.shape[1])\n",
    "    bias = 0.0\n",
    "    is_weight_changed = True\n",
    "\n",
    "    while is_weight_changed:\n",
    "        is_weight_changed = False\n",
    "        for inputs, label in zip(training_inputs, labels):\n",
    "            prediction = predict(inputs)\n",
    "            # Update weights and bias if prediction is wrong\n",
    "            if prediction != label:\n",
    "                update = learning_rate * (label - prediction)\n",
    "                weights += update * inputs\n",
    "                bias += update\n",
    "                is_weight_changed = True\n",
    "\n",
    "# Logical AND function training data\n",
    "training_inputs = np.array([[0, 0],\n",
    "                             [0, 1],\n",
    "                             [1, 0],\n",
    "                             [1, 1]])\n",
    "\n",
    "labels = np.array([0, 0, 0, 1])  # AND outputs\n",
    "\n",
    "# Train the perceptron\n",
    "fit(training_inputs, labels)\n",
    "\n",
    "# Test the trained perceptron\n",
    "print(\"Weights:\", weights)\n",
    "print(\"Bias:\", bias)\n",
    "\n",
    "# Testing the trained perceptron\n",
    "print(\"Testing the trained perceptron:\")\n",
    "for inputs in training_inputs:\n",
    "    print(f\"Input: {inputs}, Predicted Output: {predict(inputs)}\")"
   ]
  }
 ],
 "metadata": {
  "kernelspec": {
   "display_name": "Python 3 (ipykernel)",
   "language": "python",
   "name": "python3"
  },
  "language_info": {
   "codemirror_mode": {
    "name": "ipython",
    "version": 3
   },
   "file_extension": ".py",
   "mimetype": "text/x-python",
   "name": "python",
   "nbconvert_exporter": "python",
   "pygments_lexer": "ipython3",
   "version": "3.12.7"
  }
 },
 "nbformat": 4,
 "nbformat_minor": 5
}

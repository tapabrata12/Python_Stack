{
 "cells": [
  {
   "cell_type": "markdown",
   "id": "78a44ffa-961c-46ac-b267-d15ef38b0315",
   "metadata": {},
   "source": [
    "# Implementing Hebb’s learning rule for logic gates like AND, OR, NOT."
   ]
  },
  {
   "cell_type": "code",
   "execution_count": 1,
   "id": "ad315040-a221-4bf9-a731-754beeb0eb9c",
   "metadata": {},
   "outputs": [
    {
     "name": "stdout",
     "output_type": "stream",
     "text": [
      "Updated weights: [-2.  2.  2.]\n",
      "Input: [1 1 1] Output: 1\n",
      "Input: [ 1  1 -1] Output: -1\n",
      "Input: [ 1 -1  1] Output: -1\n",
      "Input: [ 1 -1 -1] Output: -1\n"
     ]
    }
   ],
   "source": [
    "import numpy as np\n",
    "\n",
    "# Input patterns with bias term\n",
    "X = np.array([\n",
    "    [1, 1, 1],\n",
    "    [1, 1, -1],\n",
    "    [1, -1, 1],\n",
    "    [1, -1, -1]\n",
    "])\n",
    "\n",
    "# Target output for AND gate (change as needed)\n",
    "Y = np.array([1, -1, -1, -1])\n",
    "\n",
    "# Initialize weights\n",
    "weights = np.zeros(X.shape[1])\n",
    "\n",
    "# Learning rate\n",
    "alpha = 1\n",
    "\n",
    "# Hebbian learning rule\n",
    "for i in range(len(X)):\n",
    "    weights = weights + alpha * X[i] * Y[i]\n",
    "\n",
    "print(\"Updated weights:\", weights)\n",
    "\n",
    "# Prediction function using dot product and threshold\n",
    "def predict(n):\n",
    "    result = np.dot(n, weights)\n",
    "    return 1 if result >= 0 else -1\n",
    "\n",
    "# Testing predictions for each input\n",
    "for i in range(len(X)):\n",
    "    print(\"Input:\", X[i], \"Output:\", predict(X[i]))\n"
   ]
  }
 ],
 "metadata": {
  "kernelspec": {
   "display_name": "Python 3 (ipykernel)",
   "language": "python",
   "name": "python3"
  },
  "language_info": {
   "codemirror_mode": {
    "name": "ipython",
    "version": 3
   },
   "file_extension": ".py",
   "mimetype": "text/x-python",
   "name": "python",
   "nbconvert_exporter": "python",
   "pygments_lexer": "ipython3",
   "version": "3.12.7"
  }
 },
 "nbformat": 4,
 "nbformat_minor": 5
}

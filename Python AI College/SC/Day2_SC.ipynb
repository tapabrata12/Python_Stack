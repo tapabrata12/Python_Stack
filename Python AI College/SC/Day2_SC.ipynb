{
 "cells": [
  {
   "cell_type": "markdown",
   "id": "caa97cbe-0d2f-4fb4-a82d-4d63e3b5c525",
   "metadata": {},
   "source": [
    "# Assignment 2 Program implementing a Perceptron with a fixed increment learning algorithm. The program uses the Bin Step function as the activation function. The perceptron is trained untill no change in weights is required.  "
   ]
  },
  {
   "cell_type": "code",
   "execution_count": 3,
   "id": "81e2516b-5381-40d9-bcd5-679f432110b1",
   "metadata": {},
   "outputs": [
    {
     "name": "stdout",
     "output_type": "stream",
     "text": [
      "Trained weights: [-3.  2.  1.]\n",
      "Predictions:\n",
      "[0 0] -> 0\n",
      "[0 1] -> 0\n",
      "[1 0] -> 0\n",
      "[1 1] -> 1\n"
     ]
    }
   ],
   "source": [
    "import numpy as np \n",
    "\n",
    "  \n",
    "\n",
    "# Bin Step Activation Function \n",
    "\n",
    "def bin_step(x): \n",
    "\n",
    "    return np.where(x >= 0, 1, 0) \n",
    "\n",
    "  \n",
    "\n",
    "# Perceptron Model \n",
    "\n",
    "class Perceptron: \n",
    "\n",
    "    def __init__(self, input_size, learning_rate=1): \n",
    "\n",
    "        self.weights = np.zeros(input_size + 1)  # +1 for the bias term \n",
    "\n",
    "        self.learning_rate = learning_rate \n",
    "\n",
    "  \n",
    "\n",
    "    def predict(self, inputs): \n",
    "\n",
    "        summation = np.dot(inputs, self.weights[1:]) + self.weights[0] \n",
    "\n",
    "        return bin_step(summation) \n",
    "\n",
    "  \n",
    "\n",
    "    def train(self, inputs, labels, epochs=1000): \n",
    "\n",
    "        for epoch in range(epochs): \n",
    "\n",
    "            error_count = 0 \n",
    "\n",
    "            for input_vector, label in zip(inputs, labels): \n",
    "\n",
    "                prediction = self.predict(input_vector) \n",
    "\n",
    "                error = label - prediction \n",
    "\n",
    "                if error != 0: \n",
    "\n",
    "                    self.weights[1:] += self.learning_rate * error * input_vector \n",
    "\n",
    "                    self.weights[0] += self.learning_rate * error \n",
    "\n",
    "                    error_count += 1 \n",
    "\n",
    "            if error_count == 0: \n",
    "\n",
    "                break  # No errors, training is complete \n",
    "\n",
    "  \n",
    "\n",
    "# Sample Data: AND Gate \n",
    "\n",
    "inputs = np.array([[0, 0], [0, 1], [1, 0], [1, 1]]) \n",
    "\n",
    "labels = np.array([0, 0, 0, 1])  # Output for AND gate \n",
    "\n",
    "  \n",
    "\n",
    "# Initialize and train the Perceptron \n",
    "\n",
    "perceptron = Perceptron(input_size=2) \n",
    "\n",
    "perceptron.train(inputs, labels) \n",
    "\n",
    "  \n",
    "\n",
    "# Test the Perceptron \n",
    "\n",
    "print(\"Trained weights:\", perceptron.weights) \n",
    "\n",
    "print(\"Predictions:\") \n",
    "\n",
    "for input_vector in inputs: \n",
    "\n",
    "    print(f\"{input_vector} -> {perceptron.predict(input_vector)}\") \n",
    "\n",
    " "
   ]
  },
  {
   "cell_type": "markdown",
   "id": "0ac59599-b1cc-4fd7-ac8a-4022574e8a09",
   "metadata": {},
   "source": [
    "# Write a program to implement Union, Intersection, Compliment and Diffrence in Fuzzy Logic"
   ]
  },
  {
   "cell_type": "code",
   "execution_count": 5,
   "id": "0f94e421-921a-4d83-bd03-fbfd4442843a",
   "metadata": {},
   "outputs": [
    {
     "name": "stdout",
     "output_type": "stream",
     "text": [
      "Union:  [0.5, 0.4, 0.7, 0.9]\n",
      "Intersection:  [0.2, 0.3, 0.6, 0.8]\n",
      "Complement of A:  [0.8, 0.6, 0.4, 0.19999999999999996]\n",
      "Difference (A - B):  [0, 0.10000000000000003, 0, 0]\n"
     ]
    }
   ],
   "source": [
    "def union(A, B): \n",
    "\n",
    "    return [max(a, b) for a, b in zip(A, B)] \n",
    "\n",
    "def intersection(A, B): \n",
    "\n",
    "    return [min(a, b) for a, b in zip(A, B)] \n",
    "\n",
    "  \n",
    "def complement(A): \n",
    "\n",
    "    return [1 - a for a in A] \n",
    "\n",
    "  \n",
    "\n",
    "def difference(A, B): \n",
    "\n",
    "    return [max(0, a - b) for a, b in zip(A, B)] \n",
    "\n",
    "  \n",
    "\n",
    "A = [0.2, 0.4, 0.6, 0.8] \n",
    "\n",
    "B = [0.5, 0.3, 0.7, 0.9] \n",
    "\n",
    "  \n",
    "\n",
    "print(\"Union: \", union(A, B)) \n",
    "\n",
    "print(\"Intersection: \", intersection(A, B)) \n",
    "\n",
    "print(\"Complement of A: \", complement(A)) \n",
    "\n",
    "print(\"Difference (A - B): \", difference(A, B)) \n"
   ]
  }
 ],
 "metadata": {
  "kernelspec": {
   "display_name": "Python 3 (ipykernel)",
   "language": "python",
   "name": "python3"
  },
  "language_info": {
   "codemirror_mode": {
    "name": "ipython",
    "version": 3
   },
   "file_extension": ".py",
   "mimetype": "text/x-python",
   "name": "python",
   "nbconvert_exporter": "python",
   "pygments_lexer": "ipython3",
   "version": "3.12.7"
  }
 },
 "nbformat": 4,
 "nbformat_minor": 5
}

{
 "cells": [
  {
   "cell_type": "markdown",
   "id": "ca6a4e2e-87d5-435b-851c-759569ecdfd4",
   "metadata": {},
   "source": [
    "# 1. Create 2X2 Matrix in Python"
   ]
  },
  {
   "cell_type": "code",
   "execution_count": 4,
   "id": "dcb26e62-31e5-4083-977c-0764381547bf",
   "metadata": {},
   "outputs": [
    {
     "data": {
      "text/plain": [
       "array([[1, 2],\n",
       "       [5, 6]])"
      ]
     },
     "execution_count": 4,
     "metadata": {},
     "output_type": "execute_result"
    }
   ],
   "source": [
    "import numpy as np\n",
    "\n",
    "Matrix = np.array([[1,2],\n",
    "                   [5,6]])\n",
    "Matrix"
   ]
  },
  {
   "cell_type": "markdown",
   "id": "b4f29ac6-4187-42b6-a30e-7f13d78961e0",
   "metadata": {},
   "source": [
    "# 2. Create 3X3 Matrix in Python"
   ]
  },
  {
   "cell_type": "code",
   "execution_count": 6,
   "id": "1c62a126-054e-4fdc-87e9-350f092207e0",
   "metadata": {},
   "outputs": [
    {
     "data": {
      "text/plain": [
       "array([[1, 2, 3],\n",
       "       [4, 5, 6]])"
      ]
     },
     "execution_count": 6,
     "metadata": {},
     "output_type": "execute_result"
    }
   ],
   "source": [
    "import numpy as np\n",
    "\n",
    "Matrix_3X3 = np.array([[1,2,3],\n",
    "                      [4,5,6]])\n",
    "Matrix_3X3"
   ]
  },
  {
   "cell_type": "markdown",
   "id": "29ff49bb-f98d-426d-8437-09c1a5d93857",
   "metadata": {},
   "source": [
    "# 3. Perfrom matrix multiplication use `np.dot()`"
   ]
  },
  {
   "cell_type": "code",
   "execution_count": 7,
   "id": "1527456f-9580-492c-a4ed-dbfa5b23bb47",
   "metadata": {},
   "outputs": [
    {
     "data": {
      "text/plain": [
       "array([[4, 1],\n",
       "       [2, 2]])"
      ]
     },
     "execution_count": 7,
     "metadata": {},
     "output_type": "execute_result"
    }
   ],
   "source": [
    "import numpy as np\n",
    "a = [[1, 0], [0, 1]]\n",
    "b = [[4, 1], [2, 2]]\n",
    "np.dot(a, b)"
   ]
  },
  {
   "cell_type": "markdown",
   "id": "97921a52-0302-45ad-9f95-1940aaabad02",
   "metadata": {},
   "source": [
    "# 4. Perfrom transpose of a matrix"
   ]
  },
  {
   "cell_type": "code",
   "execution_count": 8,
   "id": "b7805fb5-2a82-4077-acef-3f35fd1f3a48",
   "metadata": {},
   "outputs": [
    {
     "data": {
      "text/plain": [
       "array([[1, 3],\n",
       "       [2, 4]])"
      ]
     },
     "execution_count": 8,
     "metadata": {},
     "output_type": "execute_result"
    }
   ],
   "source": [
    "import numpy as np\n",
    "a = np.array([[1, 2], [3, 4]])\n",
    "np.transpose(a)"
   ]
  },
  {
   "cell_type": "markdown",
   "id": "0c488da7-f7d9-4a26-abb9-46c30b3dc0a1",
   "metadata": {},
   "source": [
    "# 5. Flatten a matrix"
   ]
  },
  {
   "cell_type": "code",
   "execution_count": 9,
   "id": "14b08696-3928-4e46-ace3-099fccdece77",
   "metadata": {},
   "outputs": [
    {
     "data": {
      "text/plain": [
       "matrix([[1, 3, 2, 4]])"
      ]
     },
     "execution_count": 9,
     "metadata": {},
     "output_type": "execute_result"
    }
   ],
   "source": [
    "import numpy as np\n",
    "m = np.matrix([[1,2], [3,4]])\n",
    "m.flatten()\n",
    "m.flatten('F')"
   ]
  },
  {
   "cell_type": "markdown",
   "id": "b3ca6c49-e60a-40f7-b36b-b99861c672d9",
   "metadata": {},
   "source": [
    "# 6. Indentity Matrix "
   ]
  },
  {
   "cell_type": "code",
   "execution_count": 13,
   "id": "cb05a779-3f3e-444c-b219-fdf32bc955b1",
   "metadata": {},
   "outputs": [
    {
     "name": "stdout",
     "output_type": "stream",
     "text": [
      "3x3 Identity Matrix:\n",
      " [[1. 0. 0.]\n",
      " [0. 1. 0.]\n",
      " [0. 0. 1.]]\n",
      "\n",
      "4x4 Identity Matrix:\n",
      " [[1. 0. 0. 0.]\n",
      " [0. 1. 0. 0.]\n",
      " [0. 0. 1. 0.]\n",
      " [0. 0. 0. 1.]]\n",
      "\n",
      "3x5 Identity-like Matrix:\n",
      " [[1. 0. 0. 0. 0.]\n",
      " [0. 1. 0. 0. 0.]\n",
      " [0. 0. 1. 0. 0.]]\n"
     ]
    }
   ],
   "source": [
    "import numpy as np\n",
    "\n",
    "# 3x3 Identity Matrix\n",
    "I_3x3 = np.eye(3)\n",
    "print(\"3x3 Identity Matrix:\\n\", I_3x3)\n",
    "\n",
    "# 4x4 Identity Matrix\n",
    "I_4x4 = np.eye(4)\n",
    "print(\"\\n4x4 Identity Matrix:\\n\", I_4x4)\n",
    "\n",
    "# 3x5 Identity-like Matrix (only diagonal elements are 1)\n",
    "I_3x5 = np.eye(3, 5)\n",
    "print(\"\\n3x5 Identity-like Matrix:\\n\", I_3x5)"
   ]
  }
 ],
 "metadata": {
  "kernelspec": {
   "display_name": "Python 3 (ipykernel)",
   "language": "python",
   "name": "python3"
  },
  "language_info": {
   "codemirror_mode": {
    "name": "ipython",
    "version": 3
   },
   "file_extension": ".py",
   "mimetype": "text/x-python",
   "name": "python",
   "nbconvert_exporter": "python",
   "pygments_lexer": "ipython3",
   "version": "3.12.7"
  }
 },
 "nbformat": 4,
 "nbformat_minor": 5
}

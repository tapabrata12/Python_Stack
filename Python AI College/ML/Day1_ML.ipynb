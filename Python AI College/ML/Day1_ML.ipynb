{
  "nbformat": 4,
  "nbformat_minor": 0,
  "metadata": {
    "colab": {
      "provenance": []
    },
    "kernelspec": {
      "name": "python3",
      "display_name": "Python 3"
    },
    "language_info": {
      "name": "python"
    }
  },
  "cells": [
    {
      "cell_type": "markdown",
      "source": [
        "#Perform diffrent arithmatic operations on numbers in python. (Understanding vectors, Metrices, Solving problems in Python)"
      ],
      "metadata": {
        "id": "jEqoPYAPdBzz"
      }
    },
    {
      "cell_type": "markdown",
      "source": [
        "###Create a Horizontal Vector"
      ],
      "metadata": {
        "id": "Ey8h116Cdd5W"
      }
    },
    {
      "cell_type": "code",
      "source": [
        "import numpy as np\n",
        "\n",
        "H_Vector = np.array([1,2,3])\n",
        "print(\"Horizontal Vector is: \",H_Vector)"
      ],
      "metadata": {
        "colab": {
          "base_uri": "https://localhost:8080/"
        },
        "id": "tu1ju14Fdlav",
        "outputId": "fa23bd25-59a4-4fa1-9416-6c25856540ee"
      },
      "execution_count": 1,
      "outputs": [
        {
          "output_type": "stream",
          "name": "stdout",
          "text": [
            "Horizontal Vector is:  [1 2 3]\n"
          ]
        }
      ]
    },
    {
      "cell_type": "markdown",
      "source": [
        "###Create a vertical Vector"
      ],
      "metadata": {
        "id": "MjnAMsC_eGwy"
      }
    },
    {
      "cell_type": "code",
      "source": [
        "import numpy as np\n",
        "\n",
        "V_Vector = np.array([[10],[20],[30]])\n",
        "print(\"Vertical Vector is: \\n\",V_Vector)"
      ],
      "metadata": {
        "colab": {
          "base_uri": "https://localhost:8080/"
        },
        "id": "mRdy5wZQeLY6",
        "outputId": "925db25e-b27d-4471-ebdb-b1ebeeb3d114"
      },
      "execution_count": 6,
      "outputs": [
        {
          "output_type": "stream",
          "name": "stdout",
          "text": [
            "Vertical Vector is: \n",
            " [[10]\n",
            " [20]\n",
            " [30]]\n"
          ]
        }
      ]
    },
    {
      "cell_type": "markdown",
      "source": [
        "###Perform an addition operation on python vectors"
      ],
      "metadata": {
        "id": "SSHyoLt6e0X5"
      }
    },
    {
      "cell_type": "code",
      "source": [
        "addition = H_Vector + V_Vector\n",
        "print(\"Addition of two vectors is: \\n \",addition)"
      ],
      "metadata": {
        "colab": {
          "base_uri": "https://localhost:8080/"
        },
        "id": "9lLkwroZf353",
        "outputId": "166141eb-b011-40bf-844b-0d9f37973fc6"
      },
      "execution_count": 5,
      "outputs": [
        {
          "output_type": "stream",
          "name": "stdout",
          "text": [
            "Addition of two vectors is: \n",
            "  [[11 12 13]\n",
            " [21 22 23]\n",
            " [31 32 33]]\n"
          ]
        }
      ]
    },
    {
      "cell_type": "markdown",
      "source": [
        "###Perform Subtraction operation"
      ],
      "metadata": {
        "id": "-mhisEWqgYGj"
      }
    },
    {
      "cell_type": "code",
      "source": [
        "subtraction = H_Vector - V_Vector\n",
        "print(\"Subtraction of two vectors is: \\n \",subtraction)"
      ],
      "metadata": {
        "colab": {
          "base_uri": "https://localhost:8080/"
        },
        "id": "bwKuzYVPgd9L",
        "outputId": "8824e2b6-ec2c-42c9-d1c3-52937a98b27c"
      },
      "execution_count": 7,
      "outputs": [
        {
          "output_type": "stream",
          "name": "stdout",
          "text": [
            "Subtraction of two vectors is: \n",
            "  [[ -9  -8  -7]\n",
            " [-19 -18 -17]\n",
            " [-29 -28 -27]]\n"
          ]
        }
      ]
    },
    {
      "cell_type": "markdown",
      "source": [
        "###Perform Multiplication Operation"
      ],
      "metadata": {
        "id": "jWT_gMCehNRQ"
      }
    },
    {
      "cell_type": "code",
      "source": [
        "multiplication = H_Vector * V_Vector\n",
        "print(\"Multiplication of two vectors is: \\n \",multiplication)"
      ],
      "metadata": {
        "colab": {
          "base_uri": "https://localhost:8080/"
        },
        "id": "A66XYqXNhUKh",
        "outputId": "d927bfb0-f9dc-46a9-da18-0c3d3eabab8f"
      },
      "execution_count": 8,
      "outputs": [
        {
          "output_type": "stream",
          "name": "stdout",
          "text": [
            "Multiplication of two vectors is: \n",
            "  [[10 20 30]\n",
            " [20 40 60]\n",
            " [30 60 90]]\n"
          ]
        }
      ]
    },
    {
      "cell_type": "markdown",
      "source": [
        "###Perfrom division Operation"
      ],
      "metadata": {
        "id": "-3HyS4hyhrhF"
      }
    },
    {
      "cell_type": "code",
      "source": [
        "division = H_Vector / V_Vector\n",
        "print(\"Division of two vectors is: \\n \",division)"
      ],
      "metadata": {
        "colab": {
          "base_uri": "https://localhost:8080/"
        },
        "id": "R6FjKXrxhtzk",
        "outputId": "75271403-c142-4856-ebf8-11c43ea1d919"
      },
      "execution_count": 9,
      "outputs": [
        {
          "output_type": "stream",
          "name": "stdout",
          "text": [
            "Division of two vectors is: \n",
            "  [[0.1        0.2        0.3       ]\n",
            " [0.05       0.1        0.15      ]\n",
            " [0.03333333 0.06666667 0.1       ]]\n"
          ]
        }
      ]
    },
    {
      "cell_type": "markdown",
      "source": [
        "###Perform Vector Dot product"
      ],
      "metadata": {
        "id": "NvELodXSjyFz"
      }
    },
    {
      "cell_type": "code",
      "source": [
        "vector = np.array([1,2,3])\n",
        "dot_product = np.dot(vector,vector)\n",
        "print(\"Dot product of two vectors is: \",dot_product)"
      ],
      "metadata": {
        "colab": {
          "base_uri": "https://localhost:8080/"
        },
        "id": "EvPWV8xmkGBt",
        "outputId": "36548f72-9001-43b3-d387-01b00613b616"
      },
      "execution_count": 12,
      "outputs": [
        {
          "output_type": "stream",
          "name": "stdout",
          "text": [
            "Dot product of two vectors is:  14\n"
          ]
        }
      ]
    }
  ]
}